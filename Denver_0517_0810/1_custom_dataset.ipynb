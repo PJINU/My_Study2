{
  "nbformat": 4,
  "nbformat_minor": 0,
  "metadata": {
    "colab": {
      "name": "1_custom_dataset.ipynb",
      "provenance": [],
      "authorship_tag": "ABX9TyMObGrQfHRNQSGFRcO7TkrA"
    },
    "kernelspec": {
      "name": "python3",
      "display_name": "Python 3"
    },
    "language_info": {
      "name": "python"
    }
  },
  "cells": [
    {
      "cell_type": "code",
      "execution_count": 1,
      "metadata": {
        "colab": {
          "base_uri": "https://localhost:8080/"
        },
        "id": "zMBnn09qQ-KG",
        "outputId": "4682cea7-0c67-46ef-b283-dfda55bd8b15"
      },
      "outputs": [
        {
          "output_type": "stream",
          "name": "stdout",
          "text": [
            "5\n",
            "0 tensor([0])\n",
            "1 tensor([1])\n",
            "2 tensor([2])\n",
            "3 tensor([3])\n",
            "4 tensor([4])\n",
            "5 tensor([5])\n",
            "6 tensor([6])\n",
            "7 tensor([7])\n",
            "8 tensor([8])\n",
            "9 tensor([9])\n"
          ]
        }
      ],
      "source": [
        "# custom datset 만들기(easy.ver)\n",
        "\n",
        "import torch\n",
        "from torch.utils.data import Dataset, DataLoader\n",
        "\n",
        "class MyDataset1(Dataset):\n",
        "    def __init__(self,t):\n",
        "        self.t = t\n",
        "\n",
        "    def __len__(self):\n",
        "        return self.t\n",
        "\n",
        "    def __getitem__(self,idx):\n",
        "        return torch.LongTensor([idx])\n",
        "\n",
        "\n",
        "if __name__ == '__main__':\n",
        "    dataset = MyDataset1(t=5)\n",
        "    print(len(dataset))\n",
        "    it = iter(dataset)\n",
        "\n",
        "    for i in range(10):\n",
        "        print(i, next(it))\n"
      ]
    },
    {
      "cell_type": "code",
      "source": [
        "# custom datset 만들기2(easy.ver)\n",
        "\n",
        "import torch\n",
        "from torch.utils.data import Dataset, DataLoader\n",
        "import numpy as np\n",
        "\n",
        "# input_data = np.array([1,2,3,4,5,6,7,8,9,10,11,12])\n",
        "# input_data = np.array([[1,2],[3,4,5],[6,7]])\n",
        "# input_data = np.arange(12).reshape(3,4)\n",
        "input_data = np.random.randint(0, 250, (10,3,10,10))\n",
        "\n",
        "\n",
        "class MyDataset1(Dataset):\n",
        "    def __init__(self, data):\n",
        "        self.data = data\n",
        "        self.length = len(data)\n",
        "\n",
        "    def __len__(self):\n",
        "        return self.length\n",
        "\n",
        "    def __getitem__(self, idx): # 한 개의 데이터에 대해서 적용할 \n",
        "        x = np.array([idx])\n",
        "        y = self.data[idx]\n",
        "        return x, y\n",
        "\n",
        "\n",
        "if __name__ == '__main__':\n",
        "    dataset = MyDataset1(input_data)\n",
        "    dataloader = DataLoader(dataset = dataset, batch_size=5, shuffle = True)\n",
        "    for loop in range(2):\n",
        "        print(loop)\n",
        "        for batch in dataloader:\n",
        "            data_index, output_data = batch\n",
        "            print(f'index : {data_index.shape}')\n",
        "            print(f'data : {output_data.shape}')\n",
        "            # print('---')"
      ],
      "metadata": {
        "colab": {
          "base_uri": "https://localhost:8080/"
        },
        "id": "7-ZxoL8svZeB",
        "outputId": "528845e1-0414-4463-bd68-d6d8305e20cb"
      },
      "execution_count": 1,
      "outputs": [
        {
          "output_type": "stream",
          "name": "stdout",
          "text": [
            "0\n",
            "index : torch.Size([5, 1])\n",
            "data : torch.Size([5, 3, 10, 10])\n",
            "index : torch.Size([5, 1])\n",
            "data : torch.Size([5, 3, 10, 10])\n",
            "1\n",
            "index : torch.Size([5, 1])\n",
            "data : torch.Size([5, 3, 10, 10])\n",
            "index : torch.Size([5, 1])\n",
            "data : torch.Size([5, 3, 10, 10])\n"
          ]
        }
      ]
    },
    {
      "cell_type": "markdown",
      "source": [
        "### DataLoader의 batch_size와 Dataset의 index 사이의 관계\n",
        "- batch_size만큼 dataset에서 데이터를 가져온다. batch_size만큼 임의의 인덱스를 뽑아주면 그 인덱스 번호에 맞는 데이터를 가져온다. shuffle을 True로 설정하면 데이터가 섞여서 가져오지만 False로 설정하면 데이터를 순서대로 가져온다.\n",
        "    - ex)  \n",
        "        data = [1,2,3,4,5,6,7,8,9,10]  \n",
        "        batch_size = 3 -> 임의의 번호 3개(index)를 선정 => (0,1,4), (3,5,2), (9,7,8), (6)  \n",
        "        data에서 첫번째로 (0,1,4)번에 해당하는 데이터 (1,2,5)을 가져옴  \n",
        "        두번째로 (3,5,2)번에 해당하는 데이터 (4,6,3)을 가져옴  \n",
        "        세번째로 (9,7,8)번에 해당하는 데이터 (10,8,9)을 가져옴  \n",
        "        마지막으로 (6)번에 해당하는 데이터 (7)을 가져옴\n",
        "\n",
        "- DataLoader가 Dataset의 len을 먼저 호출하여 전체 데이터 개수를 확인 -> 전체 데이터 개수를 확인후 그 안에서 인덱스 번호를 임의로 선정\n",
        "\n",
        "- batch에 들어가는 데이터의 size는 동일해야 한다. 만약 동일하지 않은 경우는 어떻게 해야 할까??\n",
        "    - 텍스트 데이터로 구현해보기"
      ],
      "metadata": {
        "id": "4uuJF1WbjelA"
      }
    },
    {
      "cell_type": "code",
      "source": [
        "# custom datset 만들기2(easy.ver)\n",
        "\n",
        "import torch\n",
        "from torch.utils.data import Dataset, DataLoader\n",
        "import numpy as np\n",
        "\n",
        "# input_data = np.array([1,2,3,4,5,6,7,8,9,10,11,12])\n",
        "input_data = np.arange(12).reshape(3,4)\n",
        "\n",
        "\n",
        "class MyDataset1(Dataset):\n",
        "    def __init__(self, data):\n",
        "        self.data = data\n",
        "        self.length = len(data)\n",
        "\n",
        "    def __len__(self):\n",
        "        return self.length\n",
        "\n",
        "    def __getitem__(self, idx): # 한 개의 데이터에 대해서 적용할 \n",
        "        x = np.array([idx])\n",
        "        y = self.data[idx]\n",
        "        return x, y\n",
        "\n",
        "\n",
        "if __name__ == '__main__':\n",
        "    dataset = MyDataset1(input_data)\n",
        "    dataloader = DataLoader(dataset = dataset, batch_size=5, shuffle = True)\n",
        "    for loop in range(2):\n",
        "        print(loop)\n",
        "        for batch in dataloader:\n",
        "            data_index, output_data = batch\n",
        "            print(f'index : {data_index}')\n",
        "            print(f'data : {output_data}')\n",
        "            print('---')"
      ],
      "metadata": {
        "colab": {
          "base_uri": "https://localhost:8080/"
        },
        "id": "PjepRd2YR3Pp",
        "outputId": "de1cc133-e242-4c72-8299-91b0abc6c5ca"
      },
      "execution_count": 2,
      "outputs": [
        {
          "output_type": "stream",
          "name": "stdout",
          "text": [
            "0\n",
            "index : tensor([[0],\n",
            "        [2],\n",
            "        [1]])\n",
            "data : tensor([[ 0,  1,  2,  3],\n",
            "        [ 8,  9, 10, 11],\n",
            "        [ 4,  5,  6,  7]])\n",
            "---\n",
            "1\n",
            "index : tensor([[1],\n",
            "        [2],\n",
            "        [0]])\n",
            "data : tensor([[ 4,  5,  6,  7],\n",
            "        [ 8,  9, 10, 11],\n",
            "        [ 0,  1,  2,  3]])\n",
            "---\n"
          ]
        }
      ]
    },
    {
      "cell_type": "markdown",
      "source": [
        "### 데이터의 size가 다른 경우 "
      ],
      "metadata": {
        "id": "_sEhQOEEzdgC"
      }
    },
    {
      "cell_type": "code",
      "source": [
        "sentences = [\n",
        "            'I like apple',\n",
        "            'I dont like apple',\n",
        "            'My name is Tony Stark',\n",
        "            'I love you',\n",
        "            'I am hungry',\n",
        "            'What is your name'\n",
        "]\n",
        "\n",
        "labels = [\n",
        "       1,\n",
        "       2,\n",
        "       3,\n",
        "       4,\n",
        "       5,\n",
        "       6\n",
        "]\n",
        "\n"
      ],
      "metadata": {
        "id": "P14dNchkW3gb"
      },
      "execution_count": 79,
      "outputs": []
    },
    {
      "cell_type": "code",
      "source": [
        "# 토큰화 방법1\n",
        "\n",
        "tokenized = []\n",
        "\n",
        "for sentence in sentences:\n",
        "    tokenized.append(sentence.split())\n",
        "\n",
        "print(tokenized)"
      ],
      "metadata": {
        "colab": {
          "base_uri": "https://localhost:8080/"
        },
        "id": "fwHOgWXpRrUN",
        "outputId": "61a1957f-0f3f-43f4-b857-0ce5fb32017d"
      },
      "execution_count": 60,
      "outputs": [
        {
          "output_type": "stream",
          "name": "stdout",
          "text": [
            "[['I', 'like', 'apple'], ['I', 'dont', 'like', 'apple'], ['My', 'name', 'is', 'Tony', 'Stark'], ['I', 'love', 'you'], ['I', 'am', 'hungry'], ['What', 'is', 'your', 'name']]\n"
          ]
        }
      ]
    },
    {
      "cell_type": "code",
      "source": [
        "# 빈도수별로 단어장 형성\n",
        "\n",
        "from nltk import FreqDist\n",
        "\n",
        "vocab = FreqDist(np.hstack(tokenized))\n",
        "print(len(vocab))"
      ],
      "metadata": {
        "colab": {
          "base_uri": "https://localhost:8080/"
        },
        "id": "abdXlxDJTTDT",
        "outputId": "834bcd6e-af1c-4c94-8d98-681a0a899223"
      },
      "execution_count": 9,
      "outputs": [
        {
          "output_type": "stream",
          "name": "stdout",
          "text": [
            "9\n"
          ]
        }
      ]
    },
    {
      "cell_type": "code",
      "source": [
        "# 단어장 형성2(numpy 활용)\n",
        "\n",
        "token_word = set(np.hstack(tokenized))\n",
        "token_word"
      ],
      "metadata": {
        "colab": {
          "base_uri": "https://localhost:8080/"
        },
        "id": "oO-G1MKA3fuh",
        "outputId": "0b0b6e1c-b058-411c-eec4-88dceec62417"
      },
      "execution_count": 61,
      "outputs": [
        {
          "output_type": "execute_result",
          "data": {
            "text/plain": [
              "{'I',\n",
              " 'My',\n",
              " 'Stark',\n",
              " 'Tony',\n",
              " 'What',\n",
              " 'am',\n",
              " 'apple',\n",
              " 'dont',\n",
              " 'hungry',\n",
              " 'is',\n",
              " 'like',\n",
              " 'love',\n",
              " 'name',\n",
              " 'you',\n",
              " 'your'}"
            ]
          },
          "metadata": {},
          "execution_count": 61
        }
      ]
    },
    {
      "cell_type": "code",
      "source": [
        "# 단어별 인덱스 설정\n",
        "\n",
        "word_to_index = {}\n",
        "\n",
        "for index, word in enumerate(token_word):\n",
        "    word_to_index[word] = index + 2\n",
        "word_to_index['pad'] = 1\n",
        "word_to_index['unk'] = 0\n",
        "\n",
        "word_to_index\n"
      ],
      "metadata": {
        "colab": {
          "base_uri": "https://localhost:8080/"
        },
        "id": "YmKWmUvIT5-B",
        "outputId": "865ef087-4410-452f-e149-f1d5f4a4f7e4"
      },
      "execution_count": 62,
      "outputs": [
        {
          "output_type": "execute_result",
          "data": {
            "text/plain": [
              "{'I': 13,\n",
              " 'My': 4,\n",
              " 'Stark': 5,\n",
              " 'Tony': 3,\n",
              " 'What': 8,\n",
              " 'am': 10,\n",
              " 'apple': 11,\n",
              " 'dont': 12,\n",
              " 'hungry': 9,\n",
              " 'is': 14,\n",
              " 'like': 2,\n",
              " 'love': 6,\n",
              " 'name': 16,\n",
              " 'pad': 1,\n",
              " 'unk': 0,\n",
              " 'you': 7,\n",
              " 'your': 15}"
            ]
          },
          "metadata": {},
          "execution_count": 62
        }
      ]
    },
    {
      "cell_type": "code",
      "source": [
        "# 단어를 인덱스로 바꿔주기(인코딩)\n",
        "\n",
        "encoded = []\n",
        "for line in tokenized:\n",
        "    temp = []\n",
        "    for w in line:\n",
        "        try:\n",
        "            temp.append(word_to_index[w])\n",
        "        except:\n",
        "            temp.append(word_to_index['unk'])\n",
        "\n",
        "    encoded.append(temp)\n",
        "\n",
        "encoded"
      ],
      "metadata": {
        "colab": {
          "base_uri": "https://localhost:8080/"
        },
        "id": "wyZgFmInWZH7",
        "outputId": "46e684e6-5c06-4eb0-94af-c99f60e6f7a8"
      },
      "execution_count": 63,
      "outputs": [
        {
          "output_type": "execute_result",
          "data": {
            "text/plain": [
              "[[13, 2, 11],\n",
              " [13, 12, 2, 11],\n",
              " [4, 16, 14, 3, 5],\n",
              " [13, 6, 7],\n",
              " [13, 10, 9],\n",
              " [8, 14, 15, 16]]"
            ]
          },
          "metadata": {},
          "execution_count": 63
        }
      ]
    },
    {
      "cell_type": "code",
      "source": [
        "# 최대 길이 확인\n",
        "\n",
        "max_len = max(len(l) for l in encoded)\n",
        "max_len"
      ],
      "metadata": {
        "colab": {
          "base_uri": "https://localhost:8080/"
        },
        "id": "WMktv82tXjwI",
        "outputId": "3322aea2-6157-44ea-8c3c-e3b42ac327a0"
      },
      "execution_count": 31,
      "outputs": [
        {
          "output_type": "execute_result",
          "data": {
            "text/plain": [
              "5"
            ]
          },
          "metadata": {},
          "execution_count": 31
        }
      ]
    },
    {
      "cell_type": "code",
      "source": [
        "# 일반적인 padding. 가장 긴 문자열을 기준으로 나머지를 padding 값으로 채워준다.\n",
        "# 단점 : 메모리의 낭비가 심하다.\n",
        "\n",
        "for line in encoded:\n",
        "    if len(line) < max_len:\n",
        "        line += [word_to_index['pad']] * (max_len - len(line))\n",
        "\n",
        "encoded"
      ],
      "metadata": {
        "colab": {
          "base_uri": "https://localhost:8080/"
        },
        "id": "U5zTWJWQYQMM",
        "outputId": "0cc0a977-8bee-410c-e43f-7a988d34226d"
      },
      "execution_count": 32,
      "outputs": [
        {
          "output_type": "execute_result",
          "data": {
            "text/plain": [
              "[[13, 2, 11, 1, 1],\n",
              " [13, 12, 2, 11, 1],\n",
              " [4, 16, 14, 3, 5],\n",
              " [13, 6, 7, 1, 1],\n",
              " [13, 10, 9, 1, 1],\n",
              " [8, 14, 15, 16, 1]]"
            ]
          },
          "metadata": {},
          "execution_count": 32
        }
      ]
    },
    {
      "cell_type": "code",
      "source": [
        "# 데이터의 size가 다른 경우 batch size마다 가장 긴 문자열을 기준으로 padding을 적용\n",
        "\n",
        "from torch.nn.utils.rnn import pad_sequence\n",
        "\n",
        "class MyDataset2(Dataset):\n",
        "    def __init__(self, data, label):\n",
        "        self.data = data\n",
        "        self.labels = label\n",
        "\n",
        "    def __len__(self):\n",
        "        return len(self.data)\n",
        "\n",
        "    def __getitem__(self, index):\n",
        "        \n",
        "        return [self.data[index], self.labels[index]]"
      ],
      "metadata": {
        "id": "X1A5rb5650lt"
      },
      "execution_count": 72,
      "outputs": []
    },
    {
      "cell_type": "code",
      "source": [
        "class CustomCollate(object):\n",
        "    def __init__(self):\n",
        "        pass\n",
        "\n",
        "    def __call__(self, batch_data):\n",
        "        inputs = [torch.tensor(item[0]) for item in batch_data]\n",
        "        labels = torch.tensor([item[1] for item in batch_data])\n",
        "\n",
        "        inputs = pad_sequence(inputs, batch_first=True)\n",
        "\n",
        "        return [inputs, labels]\n"
      ],
      "metadata": {
        "id": "T2gIBmlaS6zy"
      },
      "execution_count": 76,
      "outputs": []
    },
    {
      "cell_type": "code",
      "source": [
        "dataset = MyDataset2(encoded, labels)\n",
        "collate = CustomCollate()\n",
        "loader = DataLoader(dataset, batch_size=2, shuffle=True, collate_fn=collate)\n",
        "\n",
        "for epochs in range(3):\n",
        "    print('epochs :', epochs)\n",
        "    print()\n",
        "    for data, label in loader:\n",
        "        print(data)\n",
        "        print(label)\n",
        "        print()"
      ],
      "metadata": {
        "colab": {
          "base_uri": "https://localhost:8080/"
        },
        "id": "YV2uDmpMTq08",
        "outputId": "880ccee2-32bd-48f2-948f-93864c1f7ecd"
      },
      "execution_count": 84,
      "outputs": [
        {
          "output_type": "stream",
          "name": "stdout",
          "text": [
            "epochs : 0\n",
            "\n",
            "tensor([[13,  2, 11],\n",
            "        [13,  6,  7]])\n",
            "tensor([1, 4])\n",
            "\n",
            "tensor([[13, 12,  2, 11,  0],\n",
            "        [ 4, 16, 14,  3,  5]])\n",
            "tensor([2, 3])\n",
            "\n",
            "tensor([[ 8, 14, 15, 16],\n",
            "        [13, 10,  9,  0]])\n",
            "tensor([6, 5])\n",
            "\n",
            "epochs : 1\n",
            "\n",
            "tensor([[13,  2, 11],\n",
            "        [13,  6,  7]])\n",
            "tensor([1, 4])\n",
            "\n",
            "tensor([[ 4, 16, 14,  3,  5],\n",
            "        [13, 12,  2, 11,  0]])\n",
            "tensor([3, 2])\n",
            "\n",
            "tensor([[13, 10,  9,  0],\n",
            "        [ 8, 14, 15, 16]])\n",
            "tensor([5, 6])\n",
            "\n",
            "epochs : 2\n",
            "\n",
            "tensor([[13, 12,  2, 11],\n",
            "        [ 8, 14, 15, 16]])\n",
            "tensor([2, 6])\n",
            "\n",
            "tensor([[13,  2, 11],\n",
            "        [13,  6,  7]])\n",
            "tensor([1, 4])\n",
            "\n",
            "tensor([[13, 10,  9,  0,  0],\n",
            "        [ 4, 16, 14,  3,  5]])\n",
            "tensor([5, 3])\n",
            "\n"
          ]
        }
      ]
    },
    {
      "cell_type": "markdown",
      "source": [
        "### 의문?\n",
        "- 커스텀한 collate_fn을 사용하면 __getitem__은 따로 작성하지 않아도 작동하는 건가?\n",
        "    - __getitem__을 빼고 만들었는데도 동작하네..?"
      ],
      "metadata": {
        "id": "_IHmsGuK-XWC"
      }
    },
    {
      "cell_type": "code",
      "source": [
        ""
      ],
      "metadata": {
        "id": "rVHbaEfYTqTM"
      },
      "execution_count": null,
      "outputs": []
    },
    {
      "cell_type": "markdown",
      "source": [
        "### size가 다른 데이터의 경우 dataloader를 이용해 불러오기(실습)"
      ],
      "metadata": {
        "id": "bnj4Fr8tn7Sv"
      }
    },
    {
      "cell_type": "code",
      "source": [
        "# IMDB 데이터 가져오기\n",
        "\n",
        "import urllib.request\n",
        "import pandas as pd\n",
        "\n",
        "urllib.request.urlretrieve(\"https://raw.githubusercontent.com/LawrenceDuan/IMDb-Review-Analysis/master/IMDb_Reviews.csv\", filename=\"IMDb_Reviews.csv\")"
      ],
      "metadata": {
        "colab": {
          "base_uri": "https://localhost:8080/"
        },
        "id": "STtvoytOZBTS",
        "outputId": "b9b67201-b08e-4cfa-fc8e-6c0cab56971b"
      },
      "execution_count": 25,
      "outputs": [
        {
          "output_type": "execute_result",
          "data": {
            "text/plain": [
              "('IMDb_Reviews.csv', <http.client.HTTPMessage at 0x7fb65400d1d0>)"
            ]
          },
          "metadata": {},
          "execution_count": 25
        }
      ]
    },
    {
      "cell_type": "code",
      "source": [
        "# 데이터를 데이터프레임으로 만들기\n",
        "df = pd.read_csv('IMDb_Reviews.csv')\n",
        "df"
      ],
      "metadata": {
        "colab": {
          "base_uri": "https://localhost:8080/",
          "height": 424
        },
        "id": "1brziHYlnQ9V",
        "outputId": "4b52da34-93f7-415d-c2db-21d25b82ca40"
      },
      "execution_count": 39,
      "outputs": [
        {
          "output_type": "execute_result",
          "data": {
            "text/plain": [
              "                                                  review  sentiment\n",
              "0      My family and I normally do not watch local mo...          1\n",
              "1      Believe it or not, this was at one time the wo...          0\n",
              "2      After some internet surfing, I found the \"Home...          0\n",
              "3      One of the most unheralded great works of anim...          1\n",
              "4      It was the Sixties, and anyone with long hair ...          0\n",
              "...                                                  ...        ...\n",
              "49995  the people who came up with this are SICK AND ...          0\n",
              "49996  The script is so so laughable... this in turn,...          0\n",
              "49997  \"So there's this bride, you see, and she gets ...          0\n",
              "49998  Your mind will not be satisfied by this nobud...          0\n",
              "49999  The chaser's war on everything is a weekly sho...          1\n",
              "\n",
              "[50000 rows x 2 columns]"
            ],
            "text/html": [
              "\n",
              "  <div id=\"df-5371c254-bc1f-4399-909a-e5c8a14e4b34\">\n",
              "    <div class=\"colab-df-container\">\n",
              "      <div>\n",
              "<style scoped>\n",
              "    .dataframe tbody tr th:only-of-type {\n",
              "        vertical-align: middle;\n",
              "    }\n",
              "\n",
              "    .dataframe tbody tr th {\n",
              "        vertical-align: top;\n",
              "    }\n",
              "\n",
              "    .dataframe thead th {\n",
              "        text-align: right;\n",
              "    }\n",
              "</style>\n",
              "<table border=\"1\" class=\"dataframe\">\n",
              "  <thead>\n",
              "    <tr style=\"text-align: right;\">\n",
              "      <th></th>\n",
              "      <th>review</th>\n",
              "      <th>sentiment</th>\n",
              "    </tr>\n",
              "  </thead>\n",
              "  <tbody>\n",
              "    <tr>\n",
              "      <th>0</th>\n",
              "      <td>My family and I normally do not watch local mo...</td>\n",
              "      <td>1</td>\n",
              "    </tr>\n",
              "    <tr>\n",
              "      <th>1</th>\n",
              "      <td>Believe it or not, this was at one time the wo...</td>\n",
              "      <td>0</td>\n",
              "    </tr>\n",
              "    <tr>\n",
              "      <th>2</th>\n",
              "      <td>After some internet surfing, I found the \"Home...</td>\n",
              "      <td>0</td>\n",
              "    </tr>\n",
              "    <tr>\n",
              "      <th>3</th>\n",
              "      <td>One of the most unheralded great works of anim...</td>\n",
              "      <td>1</td>\n",
              "    </tr>\n",
              "    <tr>\n",
              "      <th>4</th>\n",
              "      <td>It was the Sixties, and anyone with long hair ...</td>\n",
              "      <td>0</td>\n",
              "    </tr>\n",
              "    <tr>\n",
              "      <th>...</th>\n",
              "      <td>...</td>\n",
              "      <td>...</td>\n",
              "    </tr>\n",
              "    <tr>\n",
              "      <th>49995</th>\n",
              "      <td>the people who came up with this are SICK AND ...</td>\n",
              "      <td>0</td>\n",
              "    </tr>\n",
              "    <tr>\n",
              "      <th>49996</th>\n",
              "      <td>The script is so so laughable... this in turn,...</td>\n",
              "      <td>0</td>\n",
              "    </tr>\n",
              "    <tr>\n",
              "      <th>49997</th>\n",
              "      <td>\"So there's this bride, you see, and she gets ...</td>\n",
              "      <td>0</td>\n",
              "    </tr>\n",
              "    <tr>\n",
              "      <th>49998</th>\n",
              "      <td>Your mind will not be satisfied by this nobud...</td>\n",
              "      <td>0</td>\n",
              "    </tr>\n",
              "    <tr>\n",
              "      <th>49999</th>\n",
              "      <td>The chaser's war on everything is a weekly sho...</td>\n",
              "      <td>1</td>\n",
              "    </tr>\n",
              "  </tbody>\n",
              "</table>\n",
              "<p>50000 rows × 2 columns</p>\n",
              "</div>\n",
              "      <button class=\"colab-df-convert\" onclick=\"convertToInteractive('df-5371c254-bc1f-4399-909a-e5c8a14e4b34')\"\n",
              "              title=\"Convert this dataframe to an interactive table.\"\n",
              "              style=\"display:none;\">\n",
              "        \n",
              "  <svg xmlns=\"http://www.w3.org/2000/svg\" height=\"24px\"viewBox=\"0 0 24 24\"\n",
              "       width=\"24px\">\n",
              "    <path d=\"M0 0h24v24H0V0z\" fill=\"none\"/>\n",
              "    <path d=\"M18.56 5.44l.94 2.06.94-2.06 2.06-.94-2.06-.94-.94-2.06-.94 2.06-2.06.94zm-11 1L8.5 8.5l.94-2.06 2.06-.94-2.06-.94L8.5 2.5l-.94 2.06-2.06.94zm10 10l.94 2.06.94-2.06 2.06-.94-2.06-.94-.94-2.06-.94 2.06-2.06.94z\"/><path d=\"M17.41 7.96l-1.37-1.37c-.4-.4-.92-.59-1.43-.59-.52 0-1.04.2-1.43.59L10.3 9.45l-7.72 7.72c-.78.78-.78 2.05 0 2.83L4 21.41c.39.39.9.59 1.41.59.51 0 1.02-.2 1.41-.59l7.78-7.78 2.81-2.81c.8-.78.8-2.07 0-2.86zM5.41 20L4 18.59l7.72-7.72 1.47 1.35L5.41 20z\"/>\n",
              "  </svg>\n",
              "      </button>\n",
              "      \n",
              "  <style>\n",
              "    .colab-df-container {\n",
              "      display:flex;\n",
              "      flex-wrap:wrap;\n",
              "      gap: 12px;\n",
              "    }\n",
              "\n",
              "    .colab-df-convert {\n",
              "      background-color: #E8F0FE;\n",
              "      border: none;\n",
              "      border-radius: 50%;\n",
              "      cursor: pointer;\n",
              "      display: none;\n",
              "      fill: #1967D2;\n",
              "      height: 32px;\n",
              "      padding: 0 0 0 0;\n",
              "      width: 32px;\n",
              "    }\n",
              "\n",
              "    .colab-df-convert:hover {\n",
              "      background-color: #E2EBFA;\n",
              "      box-shadow: 0px 1px 2px rgba(60, 64, 67, 0.3), 0px 1px 3px 1px rgba(60, 64, 67, 0.15);\n",
              "      fill: #174EA6;\n",
              "    }\n",
              "\n",
              "    [theme=dark] .colab-df-convert {\n",
              "      background-color: #3B4455;\n",
              "      fill: #D2E3FC;\n",
              "    }\n",
              "\n",
              "    [theme=dark] .colab-df-convert:hover {\n",
              "      background-color: #434B5C;\n",
              "      box-shadow: 0px 1px 3px 1px rgba(0, 0, 0, 0.15);\n",
              "      filter: drop-shadow(0px 1px 2px rgba(0, 0, 0, 0.3));\n",
              "      fill: #FFFFFF;\n",
              "    }\n",
              "  </style>\n",
              "\n",
              "      <script>\n",
              "        const buttonEl =\n",
              "          document.querySelector('#df-5371c254-bc1f-4399-909a-e5c8a14e4b34 button.colab-df-convert');\n",
              "        buttonEl.style.display =\n",
              "          google.colab.kernel.accessAllowed ? 'block' : 'none';\n",
              "\n",
              "        async function convertToInteractive(key) {\n",
              "          const element = document.querySelector('#df-5371c254-bc1f-4399-909a-e5c8a14e4b34');\n",
              "          const dataTable =\n",
              "            await google.colab.kernel.invokeFunction('convertToInteractive',\n",
              "                                                     [key], {});\n",
              "          if (!dataTable) return;\n",
              "\n",
              "          const docLinkHtml = 'Like what you see? Visit the ' +\n",
              "            '<a target=\"_blank\" href=https://colab.research.google.com/notebooks/data_table.ipynb>data table notebook</a>'\n",
              "            + ' to learn more about interactive tables.';\n",
              "          element.innerHTML = '';\n",
              "          dataTable['output_type'] = 'display_data';\n",
              "          await google.colab.output.renderOutput(dataTable, element);\n",
              "          const docLink = document.createElement('div');\n",
              "          docLink.innerHTML = docLinkHtml;\n",
              "          element.appendChild(docLink);\n",
              "        }\n",
              "      </script>\n",
              "    </div>\n",
              "  </div>\n",
              "  "
            ]
          },
          "metadata": {},
          "execution_count": 39
        }
      ]
    },
    {
      "cell_type": "code",
      "source": [
        "# 전체 데이터의 개수\n",
        "len(df)"
      ],
      "metadata": {
        "colab": {
          "base_uri": "https://localhost:8080/"
        },
        "id": "q0K8eu6EnYnG",
        "outputId": "1ef8b7c6-1023-4894-d897-95cd642c47ac"
      },
      "execution_count": 6,
      "outputs": [
        {
          "output_type": "execute_result",
          "data": {
            "text/plain": [
              "50000"
            ]
          },
          "metadata": {},
          "execution_count": 6
        }
      ]
    },
    {
      "cell_type": "code",
      "source": [
        "# 샘플용 데이터로 100개만 사용\n",
        "sample = df[:100]\n",
        "sample"
      ],
      "metadata": {
        "colab": {
          "base_uri": "https://localhost:8080/",
          "height": 424
        },
        "id": "oPOEphF8oek8",
        "outputId": "51a1b7ed-8f65-4f70-b269-77e5add4deb8"
      },
      "execution_count": 40,
      "outputs": [
        {
          "output_type": "execute_result",
          "data": {
            "text/plain": [
              "                                               review  sentiment\n",
              "0   My family and I normally do not watch local mo...          1\n",
              "1   Believe it or not, this was at one time the wo...          0\n",
              "2   After some internet surfing, I found the \"Home...          0\n",
              "3   One of the most unheralded great works of anim...          1\n",
              "4   It was the Sixties, and anyone with long hair ...          0\n",
              "..                                                ...        ...\n",
              "95  I can honestly tell you that this movie is the...          1\n",
              "96  I first came across this film when I read a bo...          1\n",
              "97  I don't think I will include any spoilers but ...          1\n",
              "98  a real hoot, unintentionally. sidney portier's...          0\n",
              "99  Another horror flick in which a goof-ball teen...          0\n",
              "\n",
              "[100 rows x 2 columns]"
            ],
            "text/html": [
              "\n",
              "  <div id=\"df-c56da92f-a9a4-4de3-a7d6-516a4993c52b\">\n",
              "    <div class=\"colab-df-container\">\n",
              "      <div>\n",
              "<style scoped>\n",
              "    .dataframe tbody tr th:only-of-type {\n",
              "        vertical-align: middle;\n",
              "    }\n",
              "\n",
              "    .dataframe tbody tr th {\n",
              "        vertical-align: top;\n",
              "    }\n",
              "\n",
              "    .dataframe thead th {\n",
              "        text-align: right;\n",
              "    }\n",
              "</style>\n",
              "<table border=\"1\" class=\"dataframe\">\n",
              "  <thead>\n",
              "    <tr style=\"text-align: right;\">\n",
              "      <th></th>\n",
              "      <th>review</th>\n",
              "      <th>sentiment</th>\n",
              "    </tr>\n",
              "  </thead>\n",
              "  <tbody>\n",
              "    <tr>\n",
              "      <th>0</th>\n",
              "      <td>My family and I normally do not watch local mo...</td>\n",
              "      <td>1</td>\n",
              "    </tr>\n",
              "    <tr>\n",
              "      <th>1</th>\n",
              "      <td>Believe it or not, this was at one time the wo...</td>\n",
              "      <td>0</td>\n",
              "    </tr>\n",
              "    <tr>\n",
              "      <th>2</th>\n",
              "      <td>After some internet surfing, I found the \"Home...</td>\n",
              "      <td>0</td>\n",
              "    </tr>\n",
              "    <tr>\n",
              "      <th>3</th>\n",
              "      <td>One of the most unheralded great works of anim...</td>\n",
              "      <td>1</td>\n",
              "    </tr>\n",
              "    <tr>\n",
              "      <th>4</th>\n",
              "      <td>It was the Sixties, and anyone with long hair ...</td>\n",
              "      <td>0</td>\n",
              "    </tr>\n",
              "    <tr>\n",
              "      <th>...</th>\n",
              "      <td>...</td>\n",
              "      <td>...</td>\n",
              "    </tr>\n",
              "    <tr>\n",
              "      <th>95</th>\n",
              "      <td>I can honestly tell you that this movie is the...</td>\n",
              "      <td>1</td>\n",
              "    </tr>\n",
              "    <tr>\n",
              "      <th>96</th>\n",
              "      <td>I first came across this film when I read a bo...</td>\n",
              "      <td>1</td>\n",
              "    </tr>\n",
              "    <tr>\n",
              "      <th>97</th>\n",
              "      <td>I don't think I will include any spoilers but ...</td>\n",
              "      <td>1</td>\n",
              "    </tr>\n",
              "    <tr>\n",
              "      <th>98</th>\n",
              "      <td>a real hoot, unintentionally. sidney portier's...</td>\n",
              "      <td>0</td>\n",
              "    </tr>\n",
              "    <tr>\n",
              "      <th>99</th>\n",
              "      <td>Another horror flick in which a goof-ball teen...</td>\n",
              "      <td>0</td>\n",
              "    </tr>\n",
              "  </tbody>\n",
              "</table>\n",
              "<p>100 rows × 2 columns</p>\n",
              "</div>\n",
              "      <button class=\"colab-df-convert\" onclick=\"convertToInteractive('df-c56da92f-a9a4-4de3-a7d6-516a4993c52b')\"\n",
              "              title=\"Convert this dataframe to an interactive table.\"\n",
              "              style=\"display:none;\">\n",
              "        \n",
              "  <svg xmlns=\"http://www.w3.org/2000/svg\" height=\"24px\"viewBox=\"0 0 24 24\"\n",
              "       width=\"24px\">\n",
              "    <path d=\"M0 0h24v24H0V0z\" fill=\"none\"/>\n",
              "    <path d=\"M18.56 5.44l.94 2.06.94-2.06 2.06-.94-2.06-.94-.94-2.06-.94 2.06-2.06.94zm-11 1L8.5 8.5l.94-2.06 2.06-.94-2.06-.94L8.5 2.5l-.94 2.06-2.06.94zm10 10l.94 2.06.94-2.06 2.06-.94-2.06-.94-.94-2.06-.94 2.06-2.06.94z\"/><path d=\"M17.41 7.96l-1.37-1.37c-.4-.4-.92-.59-1.43-.59-.52 0-1.04.2-1.43.59L10.3 9.45l-7.72 7.72c-.78.78-.78 2.05 0 2.83L4 21.41c.39.39.9.59 1.41.59.51 0 1.02-.2 1.41-.59l7.78-7.78 2.81-2.81c.8-.78.8-2.07 0-2.86zM5.41 20L4 18.59l7.72-7.72 1.47 1.35L5.41 20z\"/>\n",
              "  </svg>\n",
              "      </button>\n",
              "      \n",
              "  <style>\n",
              "    .colab-df-container {\n",
              "      display:flex;\n",
              "      flex-wrap:wrap;\n",
              "      gap: 12px;\n",
              "    }\n",
              "\n",
              "    .colab-df-convert {\n",
              "      background-color: #E8F0FE;\n",
              "      border: none;\n",
              "      border-radius: 50%;\n",
              "      cursor: pointer;\n",
              "      display: none;\n",
              "      fill: #1967D2;\n",
              "      height: 32px;\n",
              "      padding: 0 0 0 0;\n",
              "      width: 32px;\n",
              "    }\n",
              "\n",
              "    .colab-df-convert:hover {\n",
              "      background-color: #E2EBFA;\n",
              "      box-shadow: 0px 1px 2px rgba(60, 64, 67, 0.3), 0px 1px 3px 1px rgba(60, 64, 67, 0.15);\n",
              "      fill: #174EA6;\n",
              "    }\n",
              "\n",
              "    [theme=dark] .colab-df-convert {\n",
              "      background-color: #3B4455;\n",
              "      fill: #D2E3FC;\n",
              "    }\n",
              "\n",
              "    [theme=dark] .colab-df-convert:hover {\n",
              "      background-color: #434B5C;\n",
              "      box-shadow: 0px 1px 3px 1px rgba(0, 0, 0, 0.15);\n",
              "      filter: drop-shadow(0px 1px 2px rgba(0, 0, 0, 0.3));\n",
              "      fill: #FFFFFF;\n",
              "    }\n",
              "  </style>\n",
              "\n",
              "      <script>\n",
              "        const buttonEl =\n",
              "          document.querySelector('#df-c56da92f-a9a4-4de3-a7d6-516a4993c52b button.colab-df-convert');\n",
              "        buttonEl.style.display =\n",
              "          google.colab.kernel.accessAllowed ? 'block' : 'none';\n",
              "\n",
              "        async function convertToInteractive(key) {\n",
              "          const element = document.querySelector('#df-c56da92f-a9a4-4de3-a7d6-516a4993c52b');\n",
              "          const dataTable =\n",
              "            await google.colab.kernel.invokeFunction('convertToInteractive',\n",
              "                                                     [key], {});\n",
              "          if (!dataTable) return;\n",
              "\n",
              "          const docLinkHtml = 'Like what you see? Visit the ' +\n",
              "            '<a target=\"_blank\" href=https://colab.research.google.com/notebooks/data_table.ipynb>data table notebook</a>'\n",
              "            + ' to learn more about interactive tables.';\n",
              "          element.innerHTML = '';\n",
              "          dataTable['output_type'] = 'display_data';\n",
              "          await google.colab.output.renderOutput(dataTable, element);\n",
              "          const docLink = document.createElement('div');\n",
              "          docLink.innerHTML = docLinkHtml;\n",
              "          element.appendChild(docLink);\n",
              "        }\n",
              "      </script>\n",
              "    </div>\n",
              "  </div>\n",
              "  "
            ]
          },
          "metadata": {},
          "execution_count": 40
        }
      ]
    },
    {
      "cell_type": "code",
      "source": [
        "# sample 전처리. 불필요한 문자 제거\n",
        "\n",
        "sample['review'] = sample['review'].str.replace('[^a-zA-Z0-9 ]', '')\n",
        "sample.head()"
      ],
      "metadata": {
        "colab": {
          "base_uri": "https://localhost:8080/",
          "height": 369
        },
        "id": "6-rPj6dXoq9f",
        "outputId": "4b482471-40ac-442e-f9d2-5d752286407a"
      },
      "execution_count": 41,
      "outputs": [
        {
          "output_type": "stream",
          "name": "stderr",
          "text": [
            "/usr/local/lib/python3.7/dist-packages/ipykernel_launcher.py:3: FutureWarning: The default value of regex will change from True to False in a future version.\n",
            "  This is separate from the ipykernel package so we can avoid doing imports until\n",
            "/usr/local/lib/python3.7/dist-packages/ipykernel_launcher.py:3: SettingWithCopyWarning: \n",
            "A value is trying to be set on a copy of a slice from a DataFrame.\n",
            "Try using .loc[row_indexer,col_indexer] = value instead\n",
            "\n",
            "See the caveats in the documentation: https://pandas.pydata.org/pandas-docs/stable/user_guide/indexing.html#returning-a-view-versus-a-copy\n",
            "  This is separate from the ipykernel package so we can avoid doing imports until\n"
          ]
        },
        {
          "output_type": "execute_result",
          "data": {
            "text/plain": [
              "                                              review  sentiment\n",
              "0  My family and I normally do not watch local mo...          1\n",
              "1  Believe it or not this was at one time the wor...          0\n",
              "2  After some internet surfing I found the Homefr...          0\n",
              "3  One of the most unheralded great works of anim...          1\n",
              "4  It was the Sixties and anyone with long hair a...          0"
            ],
            "text/html": [
              "\n",
              "  <div id=\"df-d83e5cc6-5901-417e-a06f-b1f7212b2776\">\n",
              "    <div class=\"colab-df-container\">\n",
              "      <div>\n",
              "<style scoped>\n",
              "    .dataframe tbody tr th:only-of-type {\n",
              "        vertical-align: middle;\n",
              "    }\n",
              "\n",
              "    .dataframe tbody tr th {\n",
              "        vertical-align: top;\n",
              "    }\n",
              "\n",
              "    .dataframe thead th {\n",
              "        text-align: right;\n",
              "    }\n",
              "</style>\n",
              "<table border=\"1\" class=\"dataframe\">\n",
              "  <thead>\n",
              "    <tr style=\"text-align: right;\">\n",
              "      <th></th>\n",
              "      <th>review</th>\n",
              "      <th>sentiment</th>\n",
              "    </tr>\n",
              "  </thead>\n",
              "  <tbody>\n",
              "    <tr>\n",
              "      <th>0</th>\n",
              "      <td>My family and I normally do not watch local mo...</td>\n",
              "      <td>1</td>\n",
              "    </tr>\n",
              "    <tr>\n",
              "      <th>1</th>\n",
              "      <td>Believe it or not this was at one time the wor...</td>\n",
              "      <td>0</td>\n",
              "    </tr>\n",
              "    <tr>\n",
              "      <th>2</th>\n",
              "      <td>After some internet surfing I found the Homefr...</td>\n",
              "      <td>0</td>\n",
              "    </tr>\n",
              "    <tr>\n",
              "      <th>3</th>\n",
              "      <td>One of the most unheralded great works of anim...</td>\n",
              "      <td>1</td>\n",
              "    </tr>\n",
              "    <tr>\n",
              "      <th>4</th>\n",
              "      <td>It was the Sixties and anyone with long hair a...</td>\n",
              "      <td>0</td>\n",
              "    </tr>\n",
              "  </tbody>\n",
              "</table>\n",
              "</div>\n",
              "      <button class=\"colab-df-convert\" onclick=\"convertToInteractive('df-d83e5cc6-5901-417e-a06f-b1f7212b2776')\"\n",
              "              title=\"Convert this dataframe to an interactive table.\"\n",
              "              style=\"display:none;\">\n",
              "        \n",
              "  <svg xmlns=\"http://www.w3.org/2000/svg\" height=\"24px\"viewBox=\"0 0 24 24\"\n",
              "       width=\"24px\">\n",
              "    <path d=\"M0 0h24v24H0V0z\" fill=\"none\"/>\n",
              "    <path d=\"M18.56 5.44l.94 2.06.94-2.06 2.06-.94-2.06-.94-.94-2.06-.94 2.06-2.06.94zm-11 1L8.5 8.5l.94-2.06 2.06-.94-2.06-.94L8.5 2.5l-.94 2.06-2.06.94zm10 10l.94 2.06.94-2.06 2.06-.94-2.06-.94-.94-2.06-.94 2.06-2.06.94z\"/><path d=\"M17.41 7.96l-1.37-1.37c-.4-.4-.92-.59-1.43-.59-.52 0-1.04.2-1.43.59L10.3 9.45l-7.72 7.72c-.78.78-.78 2.05 0 2.83L4 21.41c.39.39.9.59 1.41.59.51 0 1.02-.2 1.41-.59l7.78-7.78 2.81-2.81c.8-.78.8-2.07 0-2.86zM5.41 20L4 18.59l7.72-7.72 1.47 1.35L5.41 20z\"/>\n",
              "  </svg>\n",
              "      </button>\n",
              "      \n",
              "  <style>\n",
              "    .colab-df-container {\n",
              "      display:flex;\n",
              "      flex-wrap:wrap;\n",
              "      gap: 12px;\n",
              "    }\n",
              "\n",
              "    .colab-df-convert {\n",
              "      background-color: #E8F0FE;\n",
              "      border: none;\n",
              "      border-radius: 50%;\n",
              "      cursor: pointer;\n",
              "      display: none;\n",
              "      fill: #1967D2;\n",
              "      height: 32px;\n",
              "      padding: 0 0 0 0;\n",
              "      width: 32px;\n",
              "    }\n",
              "\n",
              "    .colab-df-convert:hover {\n",
              "      background-color: #E2EBFA;\n",
              "      box-shadow: 0px 1px 2px rgba(60, 64, 67, 0.3), 0px 1px 3px 1px rgba(60, 64, 67, 0.15);\n",
              "      fill: #174EA6;\n",
              "    }\n",
              "\n",
              "    [theme=dark] .colab-df-convert {\n",
              "      background-color: #3B4455;\n",
              "      fill: #D2E3FC;\n",
              "    }\n",
              "\n",
              "    [theme=dark] .colab-df-convert:hover {\n",
              "      background-color: #434B5C;\n",
              "      box-shadow: 0px 1px 3px 1px rgba(0, 0, 0, 0.15);\n",
              "      filter: drop-shadow(0px 1px 2px rgba(0, 0, 0, 0.3));\n",
              "      fill: #FFFFFF;\n",
              "    }\n",
              "  </style>\n",
              "\n",
              "      <script>\n",
              "        const buttonEl =\n",
              "          document.querySelector('#df-d83e5cc6-5901-417e-a06f-b1f7212b2776 button.colab-df-convert');\n",
              "        buttonEl.style.display =\n",
              "          google.colab.kernel.accessAllowed ? 'block' : 'none';\n",
              "\n",
              "        async function convertToInteractive(key) {\n",
              "          const element = document.querySelector('#df-d83e5cc6-5901-417e-a06f-b1f7212b2776');\n",
              "          const dataTable =\n",
              "            await google.colab.kernel.invokeFunction('convertToInteractive',\n",
              "                                                     [key], {});\n",
              "          if (!dataTable) return;\n",
              "\n",
              "          const docLinkHtml = 'Like what you see? Visit the ' +\n",
              "            '<a target=\"_blank\" href=https://colab.research.google.com/notebooks/data_table.ipynb>data table notebook</a>'\n",
              "            + ' to learn more about interactive tables.';\n",
              "          element.innerHTML = '';\n",
              "          dataTable['output_type'] = 'display_data';\n",
              "          await google.colab.output.renderOutput(dataTable, element);\n",
              "          const docLink = document.createElement('div');\n",
              "          docLink.innerHTML = docLinkHtml;\n",
              "          element.appendChild(docLink);\n",
              "        }\n",
              "      </script>\n",
              "    </div>\n",
              "  </div>\n",
              "  "
            ]
          },
          "metadata": {},
          "execution_count": 41
        }
      ]
    },
    {
      "cell_type": "code",
      "source": [
        "# 토큰화\n",
        "\n",
        "tokenized = []\n",
        "for sentence in sample['review']:\n",
        "    tokenized.append(sentence.split())\n",
        "\n",
        "tokenized"
      ],
      "metadata": {
        "id": "nXvgQeY3pE8x"
      },
      "execution_count": null,
      "outputs": []
    },
    {
      "cell_type": "code",
      "source": [
        "from nltk import FreqDist\n",
        "\n",
        "\n",
        "voca = FreqDist(np.hstack(tokenized))\n",
        "len(voca)"
      ],
      "metadata": {
        "colab": {
          "base_uri": "https://localhost:8080/"
        },
        "id": "gGLHVcxlqBLL",
        "outputId": "8fd13997-6d76-46c3-da8e-5fef6af3ee68"
      },
      "execution_count": 11,
      "outputs": [
        {
          "output_type": "execute_result",
          "data": {
            "text/plain": [
              "5483"
            ]
          },
          "metadata": {},
          "execution_count": 11
        }
      ]
    },
    {
      "cell_type": "code",
      "source": [
        "# 단어장 만들기\n",
        "\n",
        "voca = list(set(np.hstack(tokenized)))\n",
        "print(voca)\n",
        "print(len(voca))"
      ],
      "metadata": {
        "id": "KL9g10Qm-6Rw"
      },
      "execution_count": null,
      "outputs": []
    },
    {
      "cell_type": "code",
      "source": [
        "# 단어마다 인덱스 정해주기\n",
        "\n",
        "word_to_index = {v : idx+2 for idx, v in enumerate(voca)}\n",
        "word_to_index['unk'] = 1\n",
        "word_to_index['pad'] = 0\n",
        "\n",
        "word_to_index"
      ],
      "metadata": {
        "id": "fPHwfPsIrlhp"
      },
      "execution_count": null,
      "outputs": []
    },
    {
      "cell_type": "code",
      "source": [
        "# 인코더 데이터 만들기\n",
        "\n",
        "encoded = []\n",
        "\n",
        "for line in tokenized:\n",
        "    temp = []\n",
        "    for w in line:\n",
        "        try:\n",
        "            temp.append(word_to_index[w])\n",
        "        except:\n",
        "            temp.append(word_to_index['unk'])\n",
        "    encoded.append(temp)\n",
        "\n",
        "encoded"
      ],
      "metadata": {
        "id": "0lp4Dl9Ir6HK"
      },
      "execution_count": null,
      "outputs": []
    },
    {
      "cell_type": "code",
      "source": [
        "max_len = max(len(line) for line in encoded)\n",
        "min_len = min(len(line) for line in encoded)\n",
        "print(max_len, min_len)"
      ],
      "metadata": {
        "colab": {
          "base_uri": "https://localhost:8080/"
        },
        "id": "qP88ltxxtwwK",
        "outputId": "4cf313bf-1c24-484e-acea-d0688f8be957"
      },
      "execution_count": 51,
      "outputs": [
        {
          "output_type": "stream",
          "name": "stdout",
          "text": [
            "864 28\n"
          ]
        }
      ]
    },
    {
      "cell_type": "code",
      "source": [
        "# 일반적인 padding 방법. 가장 큰 문자열을 기준으로 padding 적용\n",
        "\n",
        "# for line in encoded:\n",
        "#     if len(line) < max_len:\n",
        "#         line += [word_to_index['pad']] * (max_len - len(line))"
      ],
      "metadata": {
        "id": "bGUu8njWwlYH"
      },
      "execution_count": 16,
      "outputs": []
    },
    {
      "cell_type": "code",
      "source": [
        "# max_len = max(len(line) for line in encoded)\n",
        "# min_len = min(len(line) for line in encoded)\n",
        "# print(max_len, min_len)"
      ],
      "metadata": {
        "colab": {
          "base_uri": "https://localhost:8080/"
        },
        "id": "5XONpddLxKEg",
        "outputId": "1ee5cc95-67a6-4a17-c53a-373856150f39"
      },
      "execution_count": 17,
      "outputs": [
        {
          "output_type": "stream",
          "name": "stdout",
          "text": [
            "864 864\n"
          ]
        }
      ]
    },
    {
      "cell_type": "code",
      "source": [
        "# dataset 만들기\n",
        "\n",
        "# class MyDataset3(Dataset):\n",
        "\n",
        "#     def __init__(self, data):\n",
        "#         self.data = data\n",
        "\n",
        "#     def __len__(self):\n",
        "#         return len(self.data)\n",
        "    \n",
        "#     def __getitem__(self, index):\n",
        "        \n",
        "\n",
        "def custom_collate2(data):\n",
        "    input_line = [torch.tensor(line) for line in data]\n",
        "    input_pad = pad_sequence(input_line, batch_first=True)\n",
        "    return input_pad\n",
        "\n",
        "if __name__ == '__main__':\n",
        "    # dataset = encoded\n",
        "    dataloader = DataLoader(encoded, 5, shuffle = True, collate_fn=custom_collate2)\n",
        "    \n",
        "    for epoch in range(5):\n",
        "        print(f'epochs : {epoch + 1}')\n",
        "        for batch in dataloader:\n",
        "            print(batch.shape)\n",
        "    "
      ],
      "metadata": {
        "colab": {
          "base_uri": "https://localhost:8080/"
        },
        "id": "cvFJcg-ixWCp",
        "outputId": "87dea3d1-19c9-490b-ca15-25b478c7f6ff"
      },
      "execution_count": 56,
      "outputs": [
        {
          "output_type": "stream",
          "name": "stdout",
          "text": [
            "epochs : 1\n",
            "torch.Size([5, 196])\n",
            "torch.Size([5, 724])\n",
            "torch.Size([5, 760])\n",
            "torch.Size([5, 317])\n",
            "torch.Size([5, 427])\n",
            "torch.Size([5, 352])\n",
            "torch.Size([5, 649])\n",
            "torch.Size([5, 719])\n",
            "torch.Size([5, 523])\n",
            "torch.Size([5, 288])\n",
            "torch.Size([5, 360])\n",
            "torch.Size([5, 810])\n",
            "torch.Size([5, 603])\n",
            "torch.Size([5, 545])\n",
            "torch.Size([5, 227])\n",
            "torch.Size([5, 206])\n",
            "torch.Size([5, 370])\n",
            "torch.Size([5, 391])\n",
            "torch.Size([5, 235])\n",
            "torch.Size([5, 864])\n",
            "epochs : 2\n",
            "torch.Size([5, 719])\n",
            "torch.Size([5, 204])\n",
            "torch.Size([5, 810])\n",
            "torch.Size([5, 317])\n",
            "torch.Size([5, 496])\n",
            "torch.Size([5, 420])\n",
            "torch.Size([5, 760])\n",
            "torch.Size([5, 291])\n",
            "torch.Size([5, 590])\n",
            "torch.Size([5, 370])\n",
            "torch.Size([5, 308])\n",
            "torch.Size([5, 864])\n",
            "torch.Size([5, 352])\n",
            "torch.Size([5, 603])\n",
            "torch.Size([5, 523])\n",
            "torch.Size([5, 182])\n",
            "torch.Size([5, 545])\n",
            "torch.Size([5, 724])\n",
            "torch.Size([5, 427])\n",
            "torch.Size([5, 317])\n",
            "epochs : 3\n",
            "torch.Size([5, 427])\n",
            "torch.Size([5, 864])\n",
            "torch.Size([5, 192])\n",
            "torch.Size([5, 225])\n",
            "torch.Size([5, 760])\n",
            "torch.Size([5, 291])\n",
            "torch.Size([5, 603])\n",
            "torch.Size([5, 496])\n",
            "torch.Size([5, 308])\n",
            "torch.Size([5, 359])\n",
            "torch.Size([5, 523])\n",
            "torch.Size([5, 263])\n",
            "torch.Size([5, 288])\n",
            "torch.Size([5, 352])\n",
            "torch.Size([5, 545])\n",
            "torch.Size([5, 719])\n",
            "torch.Size([5, 810])\n",
            "torch.Size([5, 317])\n",
            "torch.Size([5, 649])\n",
            "torch.Size([5, 145])\n",
            "epochs : 4\n",
            "torch.Size([5, 360])\n",
            "torch.Size([5, 308])\n",
            "torch.Size([5, 308])\n",
            "torch.Size([5, 420])\n",
            "torch.Size([5, 590])\n",
            "torch.Size([5, 760])\n",
            "torch.Size([5, 864])\n",
            "torch.Size([5, 603])\n",
            "torch.Size([5, 810])\n",
            "torch.Size([5, 496])\n",
            "torch.Size([5, 288])\n",
            "torch.Size([5, 317])\n",
            "torch.Size([5, 350])\n",
            "torch.Size([5, 291])\n",
            "torch.Size([5, 724])\n",
            "torch.Size([5, 137])\n",
            "torch.Size([5, 719])\n",
            "torch.Size([5, 206])\n",
            "torch.Size([5, 352])\n",
            "torch.Size([5, 523])\n",
            "epochs : 5\n",
            "torch.Size([5, 760])\n",
            "torch.Size([5, 496])\n",
            "torch.Size([5, 288])\n",
            "torch.Size([5, 220])\n",
            "torch.Size([5, 163])\n",
            "torch.Size([5, 719])\n",
            "torch.Size([5, 590])\n",
            "torch.Size([5, 523])\n",
            "torch.Size([5, 420])\n",
            "torch.Size([5, 545])\n",
            "torch.Size([5, 284])\n",
            "torch.Size([5, 359])\n",
            "torch.Size([5, 810])\n",
            "torch.Size([5, 603])\n",
            "torch.Size([5, 864])\n",
            "torch.Size([5, 154])\n",
            "torch.Size([5, 235])\n",
            "torch.Size([5, 360])\n",
            "torch.Size([5, 649])\n",
            "torch.Size([5, 391])\n"
          ]
        }
      ]
    },
    {
      "cell_type": "code",
      "source": [
        "from torch.nn.utils.rnn import pad_sequence\n",
        "\n",
        "def custom_collate(data):\n",
        "    inputs = [torch.tensor(line) for line in data]\n",
        "    inputs = pad_sequence(inputs, batch_first=True)\n",
        "\n",
        "    return inputs\n",
        "\n",
        "if __name__ == '__main__':\n",
        "    dataloader = DataLoader(encoded, 5, shuffle = True, collate_fn=custom_collate)\n",
        "    \n",
        "    for epoch in range(5):\n",
        "        print(f'epochs : {epoch + 1}')\n",
        "        for batch in dataloader:\n",
        "            print(batch.shape)\n",
        "\n"
      ],
      "metadata": {
        "colab": {
          "base_uri": "https://localhost:8080/"
        },
        "id": "Xwg5H-g5VvVI",
        "outputId": "cef2b8db-f945-4383-b51a-3e8e1ee2ba31"
      },
      "execution_count": 26,
      "outputs": [
        {
          "output_type": "stream",
          "name": "stdout",
          "text": [
            "epochs : 1\n",
            "torch.Size([5, 427])\n",
            "torch.Size([5, 724])\n",
            "torch.Size([5, 545])\n",
            "torch.Size([5, 350])\n",
            "torch.Size([5, 523])\n",
            "torch.Size([5, 590])\n",
            "torch.Size([5, 288])\n",
            "torch.Size([5, 203])\n",
            "torch.Size([5, 370])\n",
            "torch.Size([5, 239])\n",
            "torch.Size([5, 496])\n",
            "torch.Size([5, 760])\n",
            "torch.Size([5, 810])\n",
            "torch.Size([5, 603])\n",
            "torch.Size([5, 864])\n",
            "torch.Size([5, 420])\n",
            "torch.Size([5, 360])\n",
            "torch.Size([5, 719])\n",
            "torch.Size([5, 196])\n",
            "torch.Size([5, 649])\n",
            "epochs : 2\n",
            "torch.Size([5, 288])\n",
            "torch.Size([5, 724])\n",
            "torch.Size([5, 810])\n",
            "torch.Size([5, 370])\n",
            "torch.Size([5, 263])\n",
            "torch.Size([5, 523])\n",
            "torch.Size([5, 719])\n",
            "torch.Size([5, 317])\n",
            "torch.Size([5, 864])\n",
            "torch.Size([5, 150])\n",
            "torch.Size([5, 427])\n",
            "torch.Size([5, 545])\n",
            "torch.Size([5, 220])\n",
            "torch.Size([5, 359])\n",
            "torch.Size([5, 420])\n",
            "torch.Size([5, 590])\n",
            "torch.Size([5, 603])\n",
            "torch.Size([5, 308])\n",
            "torch.Size([5, 649])\n",
            "torch.Size([5, 203])\n",
            "epochs : 3\n",
            "torch.Size([5, 350])\n",
            "torch.Size([5, 810])\n",
            "torch.Size([5, 206])\n",
            "torch.Size([5, 590])\n",
            "torch.Size([5, 864])\n",
            "torch.Size([5, 391])\n",
            "torch.Size([5, 291])\n",
            "torch.Size([5, 317])\n",
            "torch.Size([5, 204])\n",
            "torch.Size([5, 649])\n",
            "torch.Size([5, 133])\n",
            "torch.Size([5, 496])\n",
            "torch.Size([5, 317])\n",
            "torch.Size([5, 760])\n",
            "torch.Size([5, 303])\n",
            "torch.Size([5, 359])\n",
            "torch.Size([5, 427])\n",
            "torch.Size([5, 523])\n",
            "torch.Size([5, 719])\n",
            "torch.Size([5, 370])\n",
            "epochs : 4\n",
            "torch.Size([5, 359])\n",
            "torch.Size([5, 235])\n",
            "torch.Size([5, 291])\n",
            "torch.Size([5, 649])\n",
            "torch.Size([5, 308])\n",
            "torch.Size([5, 360])\n",
            "torch.Size([5, 284])\n",
            "torch.Size([5, 263])\n",
            "torch.Size([5, 352])\n",
            "torch.Size([5, 206])\n",
            "torch.Size([5, 370])\n",
            "torch.Size([5, 184])\n",
            "torch.Size([5, 864])\n",
            "torch.Size([5, 724])\n",
            "torch.Size([5, 603])\n",
            "torch.Size([5, 206])\n",
            "torch.Size([5, 760])\n",
            "torch.Size([5, 810])\n",
            "torch.Size([5, 391])\n",
            "torch.Size([5, 350])\n",
            "epochs : 5\n",
            "torch.Size([5, 220])\n",
            "torch.Size([5, 724])\n",
            "torch.Size([5, 308])\n",
            "torch.Size([5, 303])\n",
            "torch.Size([5, 391])\n",
            "torch.Size([5, 649])\n",
            "torch.Size([5, 317])\n",
            "torch.Size([5, 864])\n",
            "torch.Size([5, 227])\n",
            "torch.Size([5, 590])\n",
            "torch.Size([5, 760])\n",
            "torch.Size([5, 523])\n",
            "torch.Size([5, 545])\n",
            "torch.Size([5, 182])\n",
            "torch.Size([5, 360])\n",
            "torch.Size([5, 284])\n",
            "torch.Size([5, 359])\n",
            "torch.Size([5, 810])\n",
            "torch.Size([5, 179])\n",
            "torch.Size([5, 350])\n"
          ]
        }
      ]
    },
    {
      "cell_type": "code",
      "source": [
        ""
      ],
      "metadata": {
        "id": "8mYK4vtaWL4B"
      },
      "execution_count": null,
      "outputs": []
    },
    {
      "cell_type": "code",
      "source": [
        ""
      ],
      "metadata": {
        "id": "dDjwa3kRV58w"
      },
      "execution_count": null,
      "outputs": []
    }
  ]
}