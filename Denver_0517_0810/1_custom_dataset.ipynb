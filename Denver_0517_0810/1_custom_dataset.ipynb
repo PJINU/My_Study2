{
  "nbformat": 4,
  "nbformat_minor": 0,
  "metadata": {
    "colab": {
      "name": "1_custom_dataset.ipynb",
      "provenance": [],
      "authorship_tag": "ABX9TyMObGrQfHRNQSGFRcO7TkrA"
    },
    "kernelspec": {
      "name": "python3",
      "display_name": "Python 3"
    },
    "language_info": {
      "name": "python"
    }
  },
  "cells": [
    {
      "cell_type": "code",
      "execution_count": 1,
      "metadata": {
        "colab": {
          "base_uri": "https://localhost:8080/"
        },
        "id": "zMBnn09qQ-KG",
        "outputId": "4682cea7-0c67-46ef-b283-dfda55bd8b15"
      },
      "outputs": [
        {
          "output_type": "stream",
          "name": "stdout",
          "text": [
            "5\n",
            "0 tensor([0])\n",
            "1 tensor([1])\n",
            "2 tensor([2])\n",
            "3 tensor([3])\n",
            "4 tensor([4])\n",
            "5 tensor([5])\n",
            "6 tensor([6])\n",
            "7 tensor([7])\n",
            "8 tensor([8])\n",
            "9 tensor([9])\n"
          ]
        }
      ],
      "source": [
        "# custom datset 만들기(easy.ver)\n",
        "\n",
        "import torch\n",
        "from torch.utils.data import Dataset, DataLoader\n",
        "\n",
        "class MyDataset1(Dataset):\n",
        "    def __init__(self,t):\n",
        "        self.t = t\n",
        "\n",
        "    def __len__(self):\n",
        "        return self.t\n",
        "\n",
        "    def __getitem__(self,idx):\n",
        "        return torch.LongTensor([idx])\n",
        "\n",
        "\n",
        "if __name__ == '__main__':\n",
        "    dataset = MyDataset1(t=5)\n",
        "    print(len(dataset))\n",
        "    it = iter(dataset)\n",
        "\n",
        "    for i in range(10):\n",
        "        print(i, next(it))\n"
      ]
    },
    {
      "cell_type": "code",
      "source": [
        "# custom datset 만들기2(easy.ver)\n",
        "\n",
        "import torch\n",
        "from torch.utils.data import Dataset, DataLoader\n",
        "import numpy as np\n",
        "\n",
        "# input_data = np.array([1,2,3,4,5,6,7,8,9,10,11,12])\n",
        "# input_data = np.array([[1,2],[3,4,5],[6,7]])\n",
        "# input_data = np.arange(12).reshape(3,4)\n",
        "input_data = np.random.randint(0, 250, (10,3,10,10))\n",
        "\n",
        "\n",
        "class MyDataset1(Dataset):\n",
        "    def __init__(self, data):\n",
        "        self.data = data\n",
        "        self.length = len(data)\n",
        "\n",
        "    def __len__(self):\n",
        "        return self.length\n",
        "\n",
        "    def __getitem__(self, idx): # 한 개의 데이터에 대해서 적용할 \n",
        "        x = np.array([idx])\n",
        "        y = self.data[idx]\n",
        "        return x, y\n",
        "\n",
        "\n",
        "if __name__ == '__main__':\n",
        "    dataset = MyDataset1(input_data)\n",
        "    dataloader = DataLoader(dataset = dataset, batch_size=5, shuffle = True)\n",
        "    for loop in range(2):\n",
        "        print(loop)\n",
        "        for batch in dataloader:\n",
        "            data_index, output_data = batch\n",
        "            print(f'index : {data_index.shape}')\n",
        "            print(f'data : {output_data.shape}')\n",
        "            # print('---')"
      ],
      "metadata": {
        "colab": {
          "base_uri": "https://localhost:8080/"
        },
        "id": "7-ZxoL8svZeB",
        "outputId": "528845e1-0414-4463-bd68-d6d8305e20cb"
      },
      "execution_count": 1,
      "outputs": [
        {
          "output_type": "stream",
          "name": "stdout",
          "text": [
            "0\n",
            "index : torch.Size([5, 1])\n",
            "data : torch.Size([5, 3, 10, 10])\n",
            "index : torch.Size([5, 1])\n",
            "data : torch.Size([5, 3, 10, 10])\n",
            "1\n",
            "index : torch.Size([5, 1])\n",
            "data : torch.Size([5, 3, 10, 10])\n",
            "index : torch.Size([5, 1])\n",
            "data : torch.Size([5, 3, 10, 10])\n"
          ]
        }
      ]
    },
    {
      "cell_type": "markdown",
      "source": [
        "### DataLoader의 batch_size와 Dataset의 index 사이의 관계\n",
        "- batch_size만큼 dataset에서 데이터를 가져온다. batch_size만큼 임의의 인덱스를 뽑아주면 그 인덱스 번호에 맞는 데이터를 가져온다. shuffle을 True로 설정하면 데이터가 섞여서 가져오지만 False로 설정하면 데이터를 순서대로 가져온다.\n",
        "    - ex)  \n",
        "        data = [1,2,3,4,5,6,7,8,9,10]  \n",
        "        batch_size = 3 -> 임의의 번호 3개(index)를 선정 => (0,1,4), (3,5,2), (9,7,8), (6)  \n",
        "        data에서 첫번째로 (0,1,4)번에 해당하는 데이터 (1,2,5)을 가져옴  \n",
        "        두번째로 (3,5,2)번에 해당하는 데이터 (4,6,3)을 가져옴  \n",
        "        세번째로 (9,7,8)번에 해당하는 데이터 (10,8,9)을 가져옴  \n",
        "        마지막으로 (6)번에 해당하는 데이터 (7)을 가져옴\n",
        "\n",
        "- DataLoader가 Dataset의 len을 먼저 호출하여 전체 데이터 개수를 확인 -> 전체 데이터 개수를 확인후 그 안에서 인덱스 번호를 임의로 선정\n",
        "\n",
        "- batch에 들어가는 데이터의 size는 동일해야 한다. 만약 동일하지 않은 경우는 어떻게 해야 할까??\n",
        "    - 텍스트 데이터로 구현해보기"
      ],
      "metadata": {
        "id": "4uuJF1WbjelA"
      }
    },
    {
      "cell_type": "code",
      "source": [
        "# custom datset 만들기2(easy.ver)\n",
        "\n",
        "import torch\n",
        "from torch.utils.data import Dataset, DataLoader\n",
        "import numpy as np\n",
        "\n",
        "# input_data = np.array([1,2,3,4,5,6,7,8,9,10,11,12])\n",
        "input_data = np.arange(12).reshape(3,4)\n",
        "\n",
        "\n",
        "class MyDataset1(Dataset):\n",
        "    def __init__(self, data):\n",
        "        self.data = data\n",
        "        self.length = len(data)\n",
        "\n",
        "    def __len__(self):\n",
        "        return self.length\n",
        "\n",
        "    def __getitem__(self, idx): # 한 개의 데이터에 대해서 적용할 \n",
        "        x = np.array([idx])\n",
        "        y = self.data[idx]\n",
        "        return x, y\n",
        "\n",
        "\n",
        "if __name__ == '__main__':\n",
        "    dataset = MyDataset1(input_data)\n",
        "    dataloader = DataLoader(dataset = dataset, batch_size=5, shuffle = True)\n",
        "    for loop in range(2):\n",
        "        print(loop)\n",
        "        for batch in dataloader:\n",
        "            data_index, output_data = batch\n",
        "            print(f'index : {data_index}')\n",
        "            print(f'data : {output_data}')\n",
        "            print('---')"
      ],
      "metadata": {
        "colab": {
          "base_uri": "https://localhost:8080/"
        },
        "id": "PjepRd2YR3Pp",
        "outputId": "de1cc133-e242-4c72-8299-91b0abc6c5ca"
      },
      "execution_count": 2,
      "outputs": [
        {
          "output_type": "stream",
          "name": "stdout",
          "text": [
            "0\n",
            "index : tensor([[0],\n",
            "        [2],\n",
            "        [1]])\n",
            "data : tensor([[ 0,  1,  2,  3],\n",
            "        [ 8,  9, 10, 11],\n",
            "        [ 4,  5,  6,  7]])\n",
            "---\n",
            "1\n",
            "index : tensor([[1],\n",
            "        [2],\n",
            "        [0]])\n",
            "data : tensor([[ 4,  5,  6,  7],\n",
            "        [ 8,  9, 10, 11],\n",
            "        [ 0,  1,  2,  3]])\n",
            "---\n"
          ]
        }
      ]
    },
    {
      "cell_type": "markdown",
      "source": [
        "### 데이터의 size가 다른 경우 "
      ],
      "metadata": {
        "id": "_sEhQOEEzdgC"
      }
    },
    {
      "cell_type": "code",
      "source": [
        "sentences = [\n",
        "            'I like apple',\n",
        "            'I dont like apple',\n",
        "            'My name is Tony Stark',\n",
        "            'I love you',\n",
        "            'I am hungry',\n",
        "            'What is your name'\n",
        "]\n",
        "\n",
        "labels = [\n",
        "       1,\n",
        "       2,\n",
        "       3,\n",
        "       4,\n",
        "       5,\n",
        "       6\n",
        "]\n",
        "\n"
      ],
      "metadata": {
        "id": "P14dNchkW3gb"
      },
      "execution_count": 79,
      "outputs": []
    },
    {
      "cell_type": "code",
      "source": [
        "# 토큰화 방법1\n",
        "\n",
        "tokenized = []\n",
        "\n",
        "for sentence in sentences:\n",
        "    tokenized.append(sentence.split())\n",
        "\n",
        "print(tokenized)"
      ],
      "metadata": {
        "colab": {
          "base_uri": "https://localhost:8080/"
        },
        "id": "fwHOgWXpRrUN",
        "outputId": "61a1957f-0f3f-43f4-b857-0ce5fb32017d"
      },
      "execution_count": 60,
      "outputs": [
        {
          "output_type": "stream",
          "name": "stdout",
          "text": [
            "[['I', 'like', 'apple'], ['I', 'dont', 'like', 'apple'], ['My', 'name', 'is', 'Tony', 'Stark'], ['I', 'love', 'you'], ['I', 'am', 'hungry'], ['What', 'is', 'your', 'name']]\n"
          ]
        }
      ]
    },
    {
      "cell_type": "code",
      "source": [
        "# 빈도수별로 단어장 형성\n",
        "\n",
        "from nltk import FreqDist\n",
        "\n",
        "vocab = FreqDist(np.hstack(tokenized))\n",
        "print(len(vocab))"
      ],
      "metadata": {
        "colab": {
          "base_uri": "https://localhost:8080/"
        },
        "id": "abdXlxDJTTDT",
        "outputId": "834bcd6e-af1c-4c94-8d98-681a0a899223"
      },
      "execution_count": 9,
      "outputs": [
        {
          "output_type": "stream",
          "name": "stdout",
          "text": [
            "9\n"
          ]
        }
      ]
    },
    {
      "cell_type": "code",
      "source": [
        "# 단어장 형성2(numpy 활용)\n",
        "\n",
        "token_word = set(np.hstack(tokenized))\n",
        "token_word"
      ],
      "metadata": {
        "colab": {
          "base_uri": "https://localhost:8080/"
        },
        "id": "oO-G1MKA3fuh",
        "outputId": "0b0b6e1c-b058-411c-eec4-88dceec62417"
      },
      "execution_count": 61,
      "outputs": [
        {
          "output_type": "execute_result",
          "data": {
            "text/plain": [
              "{'I',\n",
              " 'My',\n",
              " 'Stark',\n",
              " 'Tony',\n",
              " 'What',\n",
              " 'am',\n",
              " 'apple',\n",
              " 'dont',\n",
              " 'hungry',\n",
              " 'is',\n",
              " 'like',\n",
              " 'love',\n",
              " 'name',\n",
              " 'you',\n",
              " 'your'}"
            ]
          },
          "metadata": {},
          "execution_count": 61
        }
      ]
    },
    {
      "cell_type": "code",
      "source": [
        "# 단어별 인덱스 설정\n",
        "\n",
        "word_to_index = {}\n",
        "\n",
        "for index, word in enumerate(token_word):\n",
        "    word_to_index[word] = index + 2\n",
        "word_to_index['pad'] = 1\n",
        "word_to_index['unk'] = 0\n",
        "\n",
        "word_to_index\n"
      ],
      "metadata": {
        "colab": {
          "base_uri": "https://localhost:8080/"
        },
        "id": "YmKWmUvIT5-B",
        "outputId": "865ef087-4410-452f-e149-f1d5f4a4f7e4"
      },
      "execution_count": 62,
      "outputs": [
        {
          "output_type": "execute_result",
          "data": {
            "text/plain": [
              "{'I': 13,\n",
              " 'My': 4,\n",
              " 'Stark': 5,\n",
              " 'Tony': 3,\n",
              " 'What': 8,\n",
              " 'am': 10,\n",
              " 'apple': 11,\n",
              " 'dont': 12,\n",
              " 'hungry': 9,\n",
              " 'is': 14,\n",
              " 'like': 2,\n",
              " 'love': 6,\n",
              " 'name': 16,\n",
              " 'pad': 1,\n",
              " 'unk': 0,\n",
              " 'you': 7,\n",
              " 'your': 15}"
            ]
          },
          "metadata": {},
          "execution_count": 62
        }
      ]
    },
    {
      "cell_type": "code",
      "source": [
        "# 단어를 인덱스로 바꿔주기(인코딩)\n",
        "\n",
        "encoded = []\n",
        "for line in tokenized:\n",
        "    temp = []\n",
        "    for w in line:\n",
        "        try:\n",
        "            temp.append(word_to_index[w])\n",
        "        except:\n",
        "            temp.append(word_to_index['unk'])\n",
        "\n",
        "    encoded.append(temp)\n",
        "\n",
        "encoded"
      ],
      "metadata": {
        "colab": {
          "base_uri": "https://localhost:8080/"
        },
        "id": "wyZgFmInWZH7",
        "outputId": "46e684e6-5c06-4eb0-94af-c99f60e6f7a8"
      },
      "execution_count": 63,
      "outputs": [
        {
          "output_type": "execute_result",
          "data": {
            "text/plain": [
              "[[13, 2, 11],\n",
              " [13, 12, 2, 11],\n",
              " [4, 16, 14, 3, 5],\n",
              " [13, 6, 7],\n",
              " [13, 10, 9],\n",
              " [8, 14, 15, 16]]"
            ]
          },
          "metadata": {},
          "execution_count": 63
        }
      ]
    },
    {
      "cell_type": "code",
      "source": [
        "# 최대 길이 확인\n",
        "\n",
        "max_len = max(len(l) for l in encoded)\n",
        "max_len"
      ],
      "metadata": {
        "colab": {
          "base_uri": "https://localhost:8080/"
        },
        "id": "WMktv82tXjwI",
        "outputId": "3322aea2-6157-44ea-8c3c-e3b42ac327a0"
      },
      "execution_count": 31,
      "outputs": [
        {
          "output_type": "execute_result",
          "data": {
            "text/plain": [
              "5"
            ]
          },
          "metadata": {},
          "execution_count": 31
        }
      ]
    },
    {
      "cell_type": "code",
      "source": [
        "# 일반적인 padding. 가장 긴 문자열을 기준으로 나머지를 padding 값으로 채워준다.\n",
        "# 단점 : 메모리의 낭비가 심하다.\n",
        "\n",
        "for line in encoded:\n",
        "    if len(line) < max_len:\n",
        "        line += [word_to_index['pad']] * (max_len - len(line))\n",
        "\n",
        "encoded"
      ],
      "metadata": {
        "colab": {
          "base_uri": "https://localhost:8080/"
        },
        "id": "U5zTWJWQYQMM",
        "outputId": "0cc0a977-8bee-410c-e43f-7a988d34226d"
      },
      "execution_count": 32,
      "outputs": [
        {
          "output_type": "execute_result",
          "data": {
            "text/plain": [
              "[[13, 2, 11, 1, 1],\n",
              " [13, 12, 2, 11, 1],\n",
              " [4, 16, 14, 3, 5],\n",
              " [13, 6, 7, 1, 1],\n",
              " [13, 10, 9, 1, 1],\n",
              " [8, 14, 15, 16, 1]]"
            ]
          },
          "metadata": {},
          "execution_count": 32
        }
      ]
    },
    {
      "cell_type": "code",
      "source": [
        "# 데이터의 size가 다른 경우 batch size마다 가장 긴 문자열을 기준으로 padding을 적용\n",
        "\n",
        "from torch.nn.utils.rnn import pad_sequence\n",
        "\n",
        "class MyDataset2(Dataset):\n",
        "    def __init__(self, data, label):\n",
        "        self.data = data\n",
        "        self.labels = label\n",
        "\n",
        "    def __len__(self):\n",
        "        return len(self.data)\n",
        "\n",
        "    def __getitem__(self, index):\n",
        "        \n",
        "        return [self.data[index], self.labels[index]]"
      ],
      "metadata": {
        "id": "X1A5rb5650lt"
      },
      "execution_count": 72,
      "outputs": []
    },
    {
      "cell_type": "code",
      "source": [
        "class CustomCollate(object):\n",
        "    def __init__(self):\n",
        "        pass\n",
        "\n",
        "    def __call__(self, batch_data):\n",
        "        inputs = [torch.tensor(item[0]) for item in batch_data]\n",
        "        labels = torch.tensor([item[1] for item in batch_data])\n",
        "\n",
        "        inputs = pad_sequence(inputs, batch_first=True)\n",
        "\n",
        "        return [inputs, labels]\n"
      ],
      "metadata": {
        "id": "T2gIBmlaS6zy"
      },
      "execution_count": 76,
      "outputs": []
    },
    {
      "cell_type": "code",
      "source": [
        "dataset = MyDataset2(encoded, labels)\n",
        "collate = CustomCollate()\n",
        "loader = DataLoader(dataset, batch_size=2, shuffle=True, collate_fn=collate)\n",
        "\n",
        "for epochs in range(3):\n",
        "    print('epochs :', epochs)\n",
        "    print()\n",
        "    for data, label in loader:\n",
        "        print(data)\n",
        "        print(label)\n",
        "        print()"
      ],
      "metadata": {
        "colab": {
          "base_uri": "https://localhost:8080/"
        },
        "id": "YV2uDmpMTq08",
        "outputId": "880ccee2-32bd-48f2-948f-93864c1f7ecd"
      },
      "execution_count": 84,
      "outputs": [
        {
          "output_type": "stream",
          "name": "stdout",
          "text": [
            "epochs : 0\n",
            "\n",
            "tensor([[13,  2, 11],\n",
            "        [13,  6,  7]])\n",
            "tensor([1, 4])\n",
            "\n",
            "tensor([[13, 12,  2, 11,  0],\n",
            "        [ 4, 16, 14,  3,  5]])\n",
            "tensor([2, 3])\n",
            "\n",
            "tensor([[ 8, 14, 15, 16],\n",
            "        [13, 10,  9,  0]])\n",
            "tensor([6, 5])\n",
            "\n",
            "epochs : 1\n",
            "\n",
            "tensor([[13,  2, 11],\n",
            "        [13,  6,  7]])\n",
            "tensor([1, 4])\n",
            "\n",
            "tensor([[ 4, 16, 14,  3,  5],\n",
            "        [13, 12,  2, 11,  0]])\n",
            "tensor([3, 2])\n",
            "\n",
            "tensor([[13, 10,  9,  0],\n",
            "        [ 8, 14, 15, 16]])\n",
            "tensor([5, 6])\n",
            "\n",
            "epochs : 2\n",
            "\n",
            "tensor([[13, 12,  2, 11],\n",
            "        [ 8, 14, 15, 16]])\n",
            "tensor([2, 6])\n",
            "\n",
            "tensor([[13,  2, 11],\n",
            "        [13,  6,  7]])\n",
            "tensor([1, 4])\n",
            "\n",
            "tensor([[13, 10,  9,  0,  0],\n",
            "        [ 4, 16, 14,  3,  5]])\n",
            "tensor([5, 3])\n",
            "\n"
          ]
        }
      ]
    },
    {
      "cell_type": "markdown",
      "source": [
        "### 의문?\n",
        "- 커스텀한 collate_fn을 사용하면 __getitem__은 따로 작성하지 않아도 작동하는 건가?\n",
        "    - __getitem__을 빼고 만들었는데도 동작하네..?"
      ],
      "metadata": {
        "id": "_IHmsGuK-XWC"
      }
    },
    {
      "cell_type": "code",
      "source": [
        ""
      ],
      "metadata": {
        "id": "rVHbaEfYTqTM"
      },
      "execution_count": null,
      "outputs": []
    },
    {
      "cell_type": "markdown",
      "source": [
        "### size가 다른 데이터의 경우 dataloader를 이용해 불러오기(실습)"
      ],
      "metadata": {
        "id": "bnj4Fr8tn7Sv"
      }
    },
    {
      "cell_type": "code",
      "source": [
        "# IMDB 데이터 가져오기\n",
        "\n",
        "import urllib.request\n",
        "import pandas as pd\n",
        "\n",
        "urllib.request.urlretrieve(\"https://raw.githubusercontent.com/LawrenceDuan/IMDb-Review-Analysis/master/IMDb_Reviews.csv\", filename=\"IMDb_Reviews.csv\")"
      ],
      "metadata": {
        "colab": {
          "base_uri": "https://localhost:8080/"
        },
        "id": "STtvoytOZBTS",
        "outputId": "b9b67201-b08e-4cfa-fc8e-6c0cab56971b"
      },
      "execution_count": 25,
      "outputs": [
        {
          "output_type": "execute_result",
          "data": {
            "text/plain": [
              "('IMDb_Reviews.csv', <http.client.HTTPMessage at 0x7fb65400d1d0>)"
            ]
          },
          "metadata": {},
          "execution_count": 25
        }
      ]
    },
    {
      "cell_type": "code",
      "source": [
        "# 데이터를 데이터프레임으로 만들기\n",
        "df = pd.read_csv('IMDb_Reviews.csv')\n",
        "df"
      ],
      "metadata": {
        "colab": {
          "base_uri": "https://localhost:8080/",
          "height": 424
        },
        "id": "1brziHYlnQ9V",
        "outputId": "4b52da34-93f7-415d-c2db-21d25b82ca40"
      },
      "execution_count": 39,
      "outputs": [
        {
          "output_type": "execute_result",
          "data": {
            "text/plain": [
              "                                                  review  sentiment\n",
              "0      My family and I normally do not watch local mo...          1\n",
              "1      Believe it or not, this was at one time the wo...          0\n",
              "2      After some internet surfing, I found the \"Home...          0\n",
              "3      One of the most unheralded great works of anim...          1\n",
              "4      It was the Sixties, and anyone with long hair ...          0\n",
              "...                                                  ...        ...\n",
              "49995  the people who came up with this are SICK AND ...          0\n",
              "49996  The script is so so laughable... this in turn,...          0\n",
              "49997  \"So there's this bride, you see, and she gets ...          0\n",
              "49998  Your mind will not be satisfied by this nobud...          0\n",
              "49999  The chaser's war on everything is a weekly sho...          1\n",
              "\n",
              "[50000 rows x 2 columns]"
            ],
            "text/html": [
              "\n",
              "  <div id=\"df-5371c254-bc1f-4399-909a-e5c8a14e4b34\">\n",
              "    <div class=\"colab-df-container\">\n",
              "      <div>\n",
              "<style scoped>\n",
              "    .dataframe tbody tr th:only-of-type {\n",
              "        vertical-align: middle;\n",
              "    }\n",
              "\n",
              "    .dataframe tbody tr th {\n",
              "        vertical-align: top;\n",
              "    }\n",
              "\n",
              "    .dataframe thead th {\n",
              "        text-align: right;\n",
              "    }\n",
              "</style>\n",
              "<table border=\"1\" class=\"dataframe\">\n",
              "  <thead>\n",
              "    <tr style=\"text-align: right;\">\n",
              "      <th></th>\n",
              "      <th>review</th>\n",
              "      <th>sentiment</th>\n",
              "    </tr>\n",
              "  </thead>\n",
              "  <tbody>\n",
              "    <tr>\n",
              "      <th>0</th>\n",
              "      <td>My family and I normally do not watch local mo...</td>\n",
              "      <td>1</td>\n",
              "    </tr>\n",
              "    <tr>\n",
              "      <th>1</th>\n",
              "      <td>Believe it or not, this was at one time the wo...</td>\n",
              "      <td>0</td>\n",
              "    </tr>\n",
              "    <tr>\n",
              "      <th>2</th>\n",
              "      <td>After some internet surfing, I found the \"Home...</td>\n",
              "      <td>0</td>\n",
              "    </tr>\n",
              "    <tr>\n",
              "      <th>3</th>\n",
              "      <td>One of the most unheralded great works of anim...</td>\n",
              "      <td>1</td>\n",
              "    </tr>\n",
              "    <tr>\n",
              "      <th>4</th>\n",
              "      <td>It was the Sixties, and anyone with long hair ...</td>\n",
              "      <td>0</td>\n",
              "    </tr>\n",
              "    <tr>\n",
              "      <th>...</th>\n",
              "      <td>...</td>\n",
              "      <td>...</td>\n",
              "    </tr>\n",
              "    <tr>\n",
              "      <th>49995</th>\n",
              "      <td>the people who came up with this are SICK AND ...</td>\n",
              "      <td>0</td>\n",
              "    </tr>\n",
              "    <tr>\n",
              "      <th>49996</th>\n",
              "      <td>The script is so so laughable... this in turn,...</td>\n",
              "      <td>0</td>\n",
              "    </tr>\n",
              "    <tr>\n",
              "      <th>49997</th>\n",
              "      <td>\"So there's this bride, you see, and she gets ...</td>\n",
              "      <td>0</td>\n",
              "    </tr>\n",
              "    <tr>\n",
              "      <th>49998</th>\n",
              "      <td>Your mind will not be satisfied by this nobud...</td>\n",
              "      <td>0</td>\n",
              "    </tr>\n",
              "    <tr>\n",
              "      <th>49999</th>\n",
              "      <td>The chaser's war on everything is a weekly sho...</td>\n",
              "      <td>1</td>\n",
              "    </tr>\n",
              "  </tbody>\n",
              "</table>\n",
              "<p>50000 rows × 2 columns</p>\n",
              "</div>\n",
              "      <button class=\"colab-df-convert\" onclick=\"convertToInteractive('df-5371c254-bc1f-4399-909a-e5c8a14e4b34')\"\n",
              "              title=\"Convert this dataframe to an interactive table.\"\n",
              "              style=\"display:none;\">\n",
              "        \n",
              "  <svg xmlns=\"http://www.w3.org/2000/svg\" height=\"24px\"viewBox=\"0 0 24 24\"\n",
              "       width=\"24px\">\n",
              "    <path d=\"M0 0h24v24H0V0z\" fill=\"none\"/>\n",
              "    <path d=\"M18.56 5.44l.94 2.06.94-2.06 2.06-.94-2.06-.94-.94-2.06-.94 2.06-2.06.94zm-11 1L8.5 8.5l.94-2.06 2.06-.94-2.06-.94L8.5 2.5l-.94 2.06-2.06.94zm10 10l.94 2.06.94-2.06 2.06-.94-2.06-.94-.94-2.06-.94 2.06-2.06.94z\"/><path d=\"M17.41 7.96l-1.37-1.37c-.4-.4-.92-.59-1.43-.59-.52 0-1.04.2-1.43.59L10.3 9.45l-7.72 7.72c-.78.78-.78 2.05 0 2.83L4 21.41c.39.39.9.59 1.41.59.51 0 1.02-.2 1.41-.59l7.78-7.78 2.81-2.81c.8-.78.8-2.07 0-2.86zM5.41 20L4 18.59l7.72-7.72 1.47 1.35L5.41 20z\"/>\n",
              "  </svg>\n",
              "      </button>\n",
              "      \n",
              "  <style>\n",
              "    .colab-df-container {\n",
              "      display:flex;\n",
              "      flex-wrap:wrap;\n",
              "      gap: 12px;\n",
              "    }\n",
              "\n",
              "    .colab-df-convert {\n",
              "      background-color: #E8F0FE;\n",
              "      border: none;\n",
              "      border-radius: 50%;\n",
              "      cursor: pointer;\n",
              "      display: none;\n",
              "      fill: #1967D2;\n",
              "      height: 32px;\n",
              "      padding: 0 0 0 0;\n",
              "      width: 32px;\n",
              "    }\n",
              "\n",
              "    .colab-df-convert:hover {\n",
              "      background-color: #E2EBFA;\n",
              "      box-shadow: 0px 1px 2px rgba(60, 64, 67, 0.3), 0px 1px 3px 1px rgba(60, 64, 67, 0.15);\n",
              "      fill: #174EA6;\n",
              "    }\n",
              "\n",
              "    [theme=dark] .colab-df-convert {\n",
              "      background-color: #3B4455;\n",
              "      fill: #D2E3FC;\n",
              "    }\n",
              "\n",
              "    [theme=dark] .colab-df-convert:hover {\n",
              "      background-color: #434B5C;\n",
              "      box-shadow: 0px 1px 3px 1px rgba(0, 0, 0, 0.15);\n",
              "      filter: drop-shadow(0px 1px 2px rgba(0, 0, 0, 0.3));\n",
              "      fill: #FFFFFF;\n",
              "    }\n",
              "  </style>\n",
              "\n",
              "      <script>\n",
              "        const buttonEl =\n",
              "          document.querySelector('#df-5371c254-bc1f-4399-909a-e5c8a14e4b34 button.colab-df-convert');\n",
              "        buttonEl.style.display =\n",
              "          google.colab.kernel.accessAllowed ? 'block' : 'none';\n",
              "\n",
              "        async function convertToInteractive(key) {\n",
              "          const element = document.querySelector('#df-5371c254-bc1f-4399-909a-e5c8a14e4b34');\n",
              "          const dataTable =\n",
              "            await google.colab.kernel.invokeFunction('convertToInteractive',\n",
              "                                                     [key], {});\n",
              "          if (!dataTable) return;\n",
              "\n",
              "          const docLinkHtml = 'Like what you see? Visit the ' +\n",
              "            '<a target=\"_blank\" href=https://colab.research.google.com/notebooks/data_table.ipynb>data table notebook</a>'\n",
              "            + ' to learn more about interactive tables.';\n",
              "          element.innerHTML = '';\n",
              "          dataTable['output_type'] = 'display_data';\n",
              "          await google.colab.output.renderOutput(dataTable, element);\n",
              "          const docLink = document.createElement('div');\n",
              "          docLink.innerHTML = docLinkHtml;\n",
              "          element.appendChild(docLink);\n",
              "        }\n",
              "      </script>\n",
              "    </div>\n",
              "  </div>\n",
              "  "
            ]
          },
          "metadata": {},
          "execution_count": 39
        }
      ]
    },
    {
      "cell_type": "code",
      "source": [
        "# 전체 데이터의 개수\n",
        "len(df)"
      ],
      "metadata": {
        "colab": {
          "base_uri": "https://localhost:8080/"
        },
        "id": "q0K8eu6EnYnG",
        "outputId": "1ef8b7c6-1023-4894-d897-95cd642c47ac"
      },
      "execution_count": 6,
      "outputs": [
        {
          "output_type": "execute_result",
          "data": {
            "text/plain": [
              "50000"
            ]
          },
          "metadata": {},
          "execution_count": 6
        }
      ]
    },
    {
      "cell_type": "code",
      "source": [
        "# 샘플용 데이터로 100개만 사용\n",
        "sample = df[:100]\n",
        "sample"
      ],
      "metadata": {
        "colab": {
          "base_uri": "https://localhost:8080/",
          "height": 424
        },
        "id": "oPOEphF8oek8",
        "outputId": "51a1b7ed-8f65-4f70-b269-77e5add4deb8"
      },
      "execution_count": 40,
      "outputs": [
        {
          "output_type": "execute_result",
          "data": {
            "text/plain": [
              "                                               review  sentiment\n",
              "0   My family and I normally do not watch local mo...          1\n",
              "1   Believe it or not, this was at one time the wo...          0\n",
              "2   After some internet surfing, I found the \"Home...          0\n",
              "3   One of the most unheralded great works of anim...          1\n",
              "4   It was the Sixties, and anyone with long hair ...          0\n",
              "..                                                ...        ...\n",
              "95  I can honestly tell you that this movie is the...          1\n",
              "96  I first came across this film when I read a bo...          1\n",
              "97  I don't think I will include any spoilers but ...          1\n",
              "98  a real hoot, unintentionally. sidney portier's...          0\n",
              "99  Another horror flick in which a goof-ball teen...          0\n",
              "\n",
              "[100 rows x 2 columns]"
            ],
            "text/html": [
              "\n",
              "  <div id=\"df-c56da92f-a9a4-4de3-a7d6-516a4993c52b\">\n",
              "    <div class=\"colab-df-container\">\n",
              "      <div>\n",
              "<style scoped>\n",
              "    .dataframe tbody tr th:only-of-type {\n",
              "        vertical-align: middle;\n",
              "    }\n",
              "\n",
              "    .dataframe tbody tr th {\n",
              "        vertical-align: top;\n",
              "    }\n",
              "\n",
              "    .dataframe thead th {\n",
              "        text-align: right;\n",
              "    }\n",
              "</style>\n",
              "<table border=\"1\" class=\"dataframe\">\n",
              "  <thead>\n",
              "    <tr style=\"text-align: right;\">\n",
              "      <th></th>\n",
              "      <th>review</th>\n",
              "      <th>sentiment</th>\n",
              "    </tr>\n",
              "  </thead>\n",
              "  <tbody>\n",
              "    <tr>\n",
              "      <th>0</th>\n",
              "      <td>My family and I normally do not watch local mo...</td>\n",
              "      <td>1</td>\n",
              "    </tr>\n",
              "    <tr>\n",
              "      <th>1</th>\n",
              "      <td>Believe it or not, this was at one time the wo...</td>\n",
              "      <td>0</td>\n",
              "    </tr>\n",
              "    <tr>\n",
              "      <th>2</th>\n",
              "      <td>After some internet surfing, I found the \"Home...</td>\n",
              "      <td>0</td>\n",
              "    </tr>\n",
              "    <tr>\n",
              "      <th>3</th>\n",
              "      <td>One of the most unheralded great works of anim...</td>\n",
              "      <td>1</td>\n",
              "    </tr>\n",
              "    <tr>\n",
              "      <th>4</th>\n",
              "      <td>It was the Sixties, and anyone with long hair ...</td>\n",
              "      <td>0</td>\n",
              "    </tr>\n",
              "    <tr>\n",
              "      <th>...</th>\n",
              "      <td>...</td>\n",
              "      <td>...</td>\n",
              "    </tr>\n",
              "    <tr>\n",
              "      <th>95</th>\n",
              "      <td>I can honestly tell you that this movie is the...</td>\n",
              "      <td>1</td>\n",
              "    </tr>\n",
              "    <tr>\n",
              "      <th>96</th>\n",
              "      <td>I first came across this film when I read a bo...</td>\n",
              "      <td>1</td>\n",
              "    </tr>\n",
              "    <tr>\n",
              "      <th>97</th>\n",
              "      <td>I don't think I will include any spoilers but ...</td>\n",
              "      <td>1</td>\n",
              "    </tr>\n",
              "    <tr>\n",
              "      <th>98</th>\n",
              "      <td>a real hoot, unintentionally. sidney portier's...</td>\n",
              "      <td>0</td>\n",
              "    </tr>\n",
              "    <tr>\n",
              "      <th>99</th>\n",
              "      <td>Another horror flick in which a goof-ball teen...</td>\n",
              "      <td>0</td>\n",
              "    </tr>\n",
              "  </tbody>\n",
              "</table>\n",
              "<p>100 rows × 2 columns</p>\n",
              "</div>\n",
              "      <button class=\"colab-df-convert\" onclick=\"convertToInteractive('df-c56da92f-a9a4-4de3-a7d6-516a4993c52b')\"\n",
              "              title=\"Convert this dataframe to an interactive table.\"\n",
              "              style=\"display:none;\">\n",
              "        \n",
              "  <svg xmlns=\"http://www.w3.org/2000/svg\" height=\"24px\"viewBox=\"0 0 24 24\"\n",
              "       width=\"24px\">\n",
              "    <path d=\"M0 0h24v24H0V0z\" fill=\"none\"/>\n",
              "    <path d=\"M18.56 5.44l.94 2.06.94-2.06 2.06-.94-2.06-.94-.94-2.06-.94 2.06-2.06.94zm-11 1L8.5 8.5l.94-2.06 2.06-.94-2.06-.94L8.5 2.5l-.94 2.06-2.06.94zm10 10l.94 2.06.94-2.06 2.06-.94-2.06-.94-.94-2.06-.94 2.06-2.06.94z\"/><path d=\"M17.41 7.96l-1.37-1.37c-.4-.4-.92-.59-1.43-.59-.52 0-1.04.2-1.43.59L10.3 9.45l-7.72 7.72c-.78.78-.78 2.05 0 2.83L4 21.41c.39.39.9.59 1.41.59.51 0 1.02-.2 1.41-.59l7.78-7.78 2.81-2.81c.8-.78.8-2.07 0-2.86zM5.41 20L4 18.59l7.72-7.72 1.47 1.35L5.41 20z\"/>\n",
              "  </svg>\n",
              "      </button>\n",
              "      \n",
              "  <style>\n",
              "    .colab-df-container {\n",
              "      display:flex;\n",
              "      flex-wrap:wrap;\n",
              "      gap: 12px;\n",
              "    }\n",
              "\n",
              "    .colab-df-convert {\n",
              "      background-color: #E8F0FE;\n",
              "      border: none;\n",
              "      border-radius: 50%;\n",
              "      cursor: pointer;\n",
              "      display: none;\n",
              "      fill: #1967D2;\n",
              "      height: 32px;\n",
              "      padding: 0 0 0 0;\n",
              "      width: 32px;\n",
              "    }\n",
              "\n",
              "    .colab-df-convert:hover {\n",
              "      background-color: #E2EBFA;\n",
              "      box-shadow: 0px 1px 2px rgba(60, 64, 67, 0.3), 0px 1px 3px 1px rgba(60, 64, 67, 0.15);\n",
              "      fill: #174EA6;\n",
              "    }\n",
              "\n",
              "    [theme=dark] .colab-df-convert {\n",
              "      background-color: #3B4455;\n",
              "      fill: #D2E3FC;\n",
              "    }\n",
              "\n",
              "    [theme=dark] .colab-df-convert:hover {\n",
              "      background-color: #434B5C;\n",
              "      box-shadow: 0px 1px 3px 1px rgba(0, 0, 0, 0.15);\n",
              "      filter: drop-shadow(0px 1px 2px rgba(0, 0, 0, 0.3));\n",
              "      fill: #FFFFFF;\n",
              "    }\n",
              "  </style>\n",
              "\n",
              "      <script>\n",
              "        const buttonEl =\n",
              "          document.querySelector('#df-c56da92f-a9a4-4de3-a7d6-516a4993c52b button.colab-df-convert');\n",
              "        buttonEl.style.display =\n",
              "          google.colab.kernel.accessAllowed ? 'block' : 'none';\n",
              "\n",
              "        async function convertToInteractive(key) {\n",
              "          const element = document.querySelector('#df-c56da92f-a9a4-4de3-a7d6-516a4993c52b');\n",
              "          const dataTable =\n",
              "            await google.colab.kernel.invokeFunction('convertToInteractive',\n",
              "                                                     [key], {});\n",
              "          if (!dataTable) return;\n",
              "\n",
              "          const docLinkHtml = 'Like what you see? Visit the ' +\n",
              "            '<a target=\"_blank\" href=https://colab.research.google.com/notebooks/data_table.ipynb>data table notebook</a>'\n",
              "            + ' to learn more about interactive tables.';\n",
              "          element.innerHTML = '';\n",
              "          dataTable['output_type'] = 'display_data';\n",
              "          await google.colab.output.renderOutput(dataTable, element);\n",
              "          const docLink = document.createElement('div');\n",
              "          docLink.innerHTML = docLinkHtml;\n",
              "          element.appendChild(docLink);\n",
              "        }\n",
              "      </script>\n",
              "    </div>\n",
              "  </div>\n",
              "  "
            ]
          },
          "metadata": {},
          "execution_count": 40
        }
      ]
    },
    {
      "cell_type": "code",
      "source": [
        "# sample 전처리. 불필요한 문자 제거\n",
        "\n",
        "sample['review'] = sample['review'].str.replace('[^a-zA-Z0-9 ]', '')\n",
        "sample.head()"
      ],
      "metadata": {
        "colab": {
          "base_uri": "https://localhost:8080/",
          "height": 369
        },
        "id": "6-rPj6dXoq9f",
        "outputId": "4b482471-40ac-442e-f9d2-5d752286407a"
      },
      "execution_count": 41,
      "outputs": [
        {
          "output_type": "stream",
          "name": "stderr",
          "text": [
            "/usr/local/lib/python3.7/dist-packages/ipykernel_launcher.py:3: FutureWarning: The default value of regex will change from True to False in a future version.\n",
            "  This is separate from the ipykernel package so we can avoid doing imports until\n",
            "/usr/local/lib/python3.7/dist-packages/ipykernel_launcher.py:3: SettingWithCopyWarning: \n",
            "A value is trying to be set on a copy of a slice from a DataFrame.\n",
            "Try using .loc[row_indexer,col_indexer] = value instead\n",
            "\n",
            "See the caveats in the documentation: https://pandas.pydata.org/pandas-docs/stable/user_guide/indexing.html#returning-a-view-versus-a-copy\n",
            "  This is separate from the ipykernel package so we can avoid doing imports until\n"
          ]
        },
        {
          "output_type": "execute_result",
          "data": {
            "text/plain": [
              "                                              review  sentiment\n",
              "0  My family and I normally do not watch local mo...          1\n",
              "1  Believe it or not this was at one time the wor...          0\n",
              "2  After some internet surfing I found the Homefr...          0\n",
              "3  One of the most unheralded great works of anim...          1\n",
              "4  It was the Sixties and anyone with long hair a...          0"
            ],
            "text/html": [
              "\n",
              "  <div id=\"df-d83e5cc6-5901-417e-a06f-b1f7212b2776\">\n",
              "    <div class=\"colab-df-container\">\n",
              "      <div>\n",
              "<style scoped>\n",
              "    .dataframe tbody tr th:only-of-type {\n",
              "        vertical-align: middle;\n",
              "    }\n",
              "\n",
              "    .dataframe tbody tr th {\n",
              "        vertical-align: top;\n",
              "    }\n",
              "\n",
              "    .dataframe thead th {\n",
              "        text-align: right;\n",
              "    }\n",
              "</style>\n",
              "<table border=\"1\" class=\"dataframe\">\n",
              "  <thead>\n",
              "    <tr style=\"text-align: right;\">\n",
              "      <th></th>\n",
              "      <th>review</th>\n",
              "      <th>sentiment</th>\n",
              "    </tr>\n",
              "  </thead>\n",
              "  <tbody>\n",
              "    <tr>\n",
              "      <th>0</th>\n",
              "      <td>My family and I normally do not watch local mo...</td>\n",
              "      <td>1</td>\n",
              "    </tr>\n",
              "    <tr>\n",
              "      <th>1</th>\n",
              "      <td>Believe it or not this was at one time the wor...</td>\n",
              "      <td>0</td>\n",
              "    </tr>\n",
              "    <tr>\n",
              "      <th>2</th>\n",
              "      <td>After some internet surfing I found the Homefr...</td>\n",
              "      <td>0</td>\n",
              "    </tr>\n",
              "    <tr>\n",
              "      <th>3</th>\n",
              "      <td>One of the most unheralded great works of anim...</td>\n",
              "      <td>1</td>\n",
              "    </tr>\n",
              "    <tr>\n",
              "      <th>4</th>\n",
              "      <td>It was the Sixties and anyone with long hair a...</td>\n",
              "      <td>0</td>\n",
              "    </tr>\n",
              "  </tbody>\n",
              "</table>\n",
              "</div>\n",
              "      <button class=\"colab-df-convert\" onclick=\"convertToInteractive('df-d83e5cc6-5901-417e-a06f-b1f7212b2776')\"\n",
              "              title=\"Convert this dataframe to an interactive table.\"\n",
              "              style=\"display:none;\">\n",
              "        \n",
              "  <svg xmlns=\"http://www.w3.org/2000/svg\" height=\"24px\"viewBox=\"0 0 24 24\"\n",
              "       width=\"24px\">\n",
              "    <path d=\"M0 0h24v24H0V0z\" fill=\"none\"/>\n",
              "    <path d=\"M18.56 5.44l.94 2.06.94-2.06 2.06-.94-2.06-.94-.94-2.06-.94 2.06-2.06.94zm-11 1L8.5 8.5l.94-2.06 2.06-.94-2.06-.94L8.5 2.5l-.94 2.06-2.06.94zm10 10l.94 2.06.94-2.06 2.06-.94-2.06-.94-.94-2.06-.94 2.06-2.06.94z\"/><path d=\"M17.41 7.96l-1.37-1.37c-.4-.4-.92-.59-1.43-.59-.52 0-1.04.2-1.43.59L10.3 9.45l-7.72 7.72c-.78.78-.78 2.05 0 2.83L4 21.41c.39.39.9.59 1.41.59.51 0 1.02-.2 1.41-.59l7.78-7.78 2.81-2.81c.8-.78.8-2.07 0-2.86zM5.41 20L4 18.59l7.72-7.72 1.47 1.35L5.41 20z\"/>\n",
              "  </svg>\n",
              "      </button>\n",
              "      \n",
              "  <style>\n",
              "    .colab-df-container {\n",
              "      display:flex;\n",
              "      flex-wrap:wrap;\n",
              "      gap: 12px;\n",
              "    }\n",
              "\n",
              "    .colab-df-convert {\n",
              "      background-color: #E8F0FE;\n",
              "      border: none;\n",
              "      border-radius: 50%;\n",
              "      cursor: pointer;\n",
              "      display: none;\n",
              "      fill: #1967D2;\n",
              "      height: 32px;\n",
              "      padding: 0 0 0 0;\n",
              "      width: 32px;\n",
              "    }\n",
              "\n",
              "    .colab-df-convert:hover {\n",
              "      background-color: #E2EBFA;\n",
              "      box-shadow: 0px 1px 2px rgba(60, 64, 67, 0.3), 0px 1px 3px 1px rgba(60, 64, 67, 0.15);\n",
              "      fill: #174EA6;\n",
              "    }\n",
              "\n",
              "    [theme=dark] .colab-df-convert {\n",
              "      background-color: #3B4455;\n",
              "      fill: #D2E3FC;\n",
              "    }\n",
              "\n",
              "    [theme=dark] .colab-df-convert:hover {\n",
              "      background-color: #434B5C;\n",
              "      box-shadow: 0px 1px 3px 1px rgba(0, 0, 0, 0.15);\n",
              "      filter: drop-shadow(0px 1px 2px rgba(0, 0, 0, 0.3));\n",
              "      fill: #FFFFFF;\n",
              "    }\n",
              "  </style>\n",
              "\n",
              "      <script>\n",
              "        const buttonEl =\n",
              "          document.querySelector('#df-d83e5cc6-5901-417e-a06f-b1f7212b2776 button.colab-df-convert');\n",
              "        buttonEl.style.display =\n",
              "          google.colab.kernel.accessAllowed ? 'block' : 'none';\n",
              "\n",
              "        async function convertToInteractive(key) {\n",
              "          const element = document.querySelector('#df-d83e5cc6-5901-417e-a06f-b1f7212b2776');\n",
              "          const dataTable =\n",
              "            await google.colab.kernel.invokeFunction('convertToInteractive',\n",
              "                                                     [key], {});\n",
              "          if (!dataTable) return;\n",
              "\n",
              "          const docLinkHtml = 'Like what you see? Visit the ' +\n",
              "            '<a target=\"_blank\" href=https://colab.research.google.com/notebooks/data_table.ipynb>data table notebook</a>'\n",
              "            + ' to learn more about interactive tables.';\n",
              "          element.innerHTML = '';\n",
              "          dataTable['output_type'] = 'display_data';\n",
              "          await google.colab.output.renderOutput(dataTable, element);\n",
              "          const docLink = document.createElement('div');\n",
              "          docLink.innerHTML = docLinkHtml;\n",
              "          element.appendChild(docLink);\n",
              "        }\n",
              "      </script>\n",
              "    </div>\n",
              "  </div>\n",
              "  "
            ]
          },
          "metadata": {},
          "execution_count": 41
        }
      ]
    },
    {
      "cell_type": "code",
      "source": [
        "# 토큰화\n",
        "\n",
        "tokenized = []\n",
        "for sentence in sample['review']:\n",
        "    tokenized.append(sentence.split())\n",
        "\n",
        "tokenized"
      ],
      "metadata": {
        "id": "nXvgQeY3pE8x"
      },
      "execution_count": null,
      "outputs": []
    },
    {
      "cell_type": "code",
      "source": [
        "from nltk import FreqDist\n",
        "\n",
        "\n",
        "voca = FreqDist(np.hstack(tokenized))\n",
        "len(voca)"
      ],
      "metadata": {
        "colab": {
          "base_uri": "https://localhost:8080/"
        },
        "id": "gGLHVcxlqBLL",
        "outputId": "8fd13997-6d76-46c3-da8e-5fef6af3ee68"
      },
      "execution_count": 11,
      "outputs": [
        {
          "output_type": "execute_result",
          "data": {
            "text/plain": [
              "5483"
            ]
          },
          "metadata": {},
          "execution_count": 11
        }
      ]
    },
    {
      "cell_type": "code",
      "source": [
        "# 단어장 만들기\n",
        "\n",
        "voca = list(set(np.hstack(tokenized)))\n",
        "print(voca)\n",
        "print(len(voca))"
      ],
      "metadata": {
        "colab": {
          "base_uri": "https://localhost:8080/"
        },
        "id": "KL9g10Qm-6Rw",
        "outputId": "2d05c85f-5e98-4179-93c3-b4f6f9e1585e"
      },
      "execution_count": 48,
      "outputs": [
        {
          "output_type": "stream",
          "name": "stdout",
          "text": [
            "['inducing', 'constructed', 'plotwise', 'find', 'Pacino', 'Zombie', 'you', 'either', 'piece', 'beliefs', 'Michael', 'oneuped', 'screenplay', 'preferable', 'nephew', 'charming', 'bound', 'Street', 'fourteen', 'creepy', 'middleaged', 'ever', 'topnotch', 'Philosophy', 'monolith', 'caused', 'soldier', 'outsideI', 'Stay', 'if', 'amusing', 'classbr', 'wow', 'Anchorman', 'season', 'paying', 'Show', 'PIECE', 'another', 'nature', 'groupie', 'atmosphere', 'hollywood', 'renowned', 'addressed', 'Asian', 'purist', 'Bauer', 'bunch', 'standout', 'Mes', 'name', 'Sparv', 'Films', 'undergrowth', 'Hades', 'reliance', 'funnier', 'Alex', 'met', 'knifeand', 'Youve', 'Mutiny', 'everybody', 'fan', 'plenty', 'hours', 'going', 'shake', 'Keitals', 'overlook', 'rich', 'chose', 'Hood', 'enthusiasm', 'phenomena', 'lucky', 'Jewish', 'leaps', 'consciousness', 'sixteen', 'tortured', 'Raider', 'swinging', 'As', 'diamond', 'stretched', 'wonders', 'act', 'implausible', 'bullied', 'midthirty', 'investigating', 'overall', 'Run', 'then', 'Though', 'political', 'acid', 'effect', 'HD', 'Cameron', 'Ivans', 'Boo', 'knew', 'employees', 'evoking', 'tour', 'Danes', 'Singapores', 'complicity', 'hoping', 'several', 'microchip', 'tragic', 'along', 'dreamlike', 'Land', 'structure', 'suspension', 'buddy', 'Saturday', 'Patric', 'enjoying', 'spiders', 'exceeded', 'eatingmoney', 'Anyone', 'third', 'pun', 'studios', 'strapped', 'Different', 'nude', 'hip', 'werent', 'virginity', 'heads', 'hiking', 'system', 'everywhere', '710', 'cineastes', 'right', 'head', 'it8', 'Hattie', 'contained', 'Before', 'restaurant', 'times', 'timing', 'weak', 'attacking', 'Hollywood', 'Russian', 'video', 'expecting', 'essence', 'Hamilton', 'prior', 'chief', 'come', 'ultraslowness', 'Humilitated', 'Caruso', 'John', 'countryside', 'wuss', 'aroused', 'angles', 'Oscar', 'Peters', 'me', 'missing', 'ridiculous', 'beard', 'adaptation', 'ticking', 'overshadowed', 'depending', 'cheerful', 'effectively', 'inert', 'Canada', 'adult', 'Granted', 'Glynnis', 'rooms', 'under', 'imitating', 'racism', 'came', 'spooky', 'culture', 'wants', 'Man', 'beforebr', 'citys', 'instance', 'supposed', 'mindlessly', 'sucked', 'simplest', 'reject', 'shortlived', 'bumps', 'clunky', 'indoor', 'section', 'tortureporn', 'older', 'theres', 'Overall', 'look', 'Mark', 'lonely', 'ways', 'clearbr', 'discs', 'suspend', 'Stanley', 'Jean', 'portrayal', 'peculiar', 'hard', 'George', 'Floor', 'portiers', 'committed', 'legendary', 'song', 'Harris', 'Yorker', 'idea', 'Potters', 'about', 'prominent', 'KING', 'finds', 'watch', 'crackle', 'liner', 'Doyle', 'sickest', 'tight', 'hot', 'butterfly', 'trumps', 'ensuring', 'acquit', 'Bullets', 'ignore', 'SENTENCE', 'creative', 'Coysbr', 'recorded', 'magically', 'lisp', 'exterior', 'loved', 'points', 'pidgin', 'absolute', 'Fortunately', 'was', 'personal', 'mesmerizing', 'introspective', 'novelist', 'Andys', 'uniform', 'emphasis', 'series', 'Roberts', 'liked', 'Marry', 'unanswered', 'WWI', 'fashion', 'rented', 'altering', 'start', 'cartoon', 'doubts', 'sick', 'von', 'masterpiece', 'explaining', 'corners', 'blacks', 'Park', 'prevent', 'Majelewski', 'Satans', 'memorable', 'unscrupulous', 'Theater', 'kick', 'shelter', 'problem', 'scale', 'inflicted', 'Sunday', 'yawp', 'Shirley', 'Movie', 'easy', 'goes', 'cousin', 'lifted', 'campsite', 'immediate', 'train', 'neither', 'had', 'calamitous', 'method', 'sarcastic', 'discussion', 'actual', 'eyebrow', 'endbr', 'factories', 'Butterworth', 'Team', 'preCastro', 'fanfriend', 'recently', 'homage', 'thoughtbr', 'factors', 'deal', 'little', 'Writing', 'criminal', 'dancer', 'Neff', '30', 'die', 'The', 'mention', 'KITTY', 'threaten', 'popularity', 'Danner', 'irrelevant', 'outing', 'concerned', 'Well', 'raises', '1851', 'lame', 'Forsyth', 'issue', 'bother', 'metro', 'shooting', 'For', 'wont', 'yet', 'eclectic', 'shape', 'surprising', 'aim', 'manages', 'Credits', 'missed', 'reality', 'glass', 'Goldoni', 'offers', 'hottest', 'One', 'crossover', 'Judels', 'pleasureseven', 'hand', 'ask', 'fairly', 'lines', 'flopperoo', 'passed', 'Ritterwho', 'entertaining', 'spree', 'teams', 'Hudkins', 'relationship', 'frightening', 'Stella', 'edited', 'mutilated', 'has', 'battle', 'Miriam', '90s', 'profile', 'two', 'sadism', 'DAMNEDBAD', 'diner', 'Fine', 'Come', 'wanting', 'predictable', 'nose', 'store', 'dale', '1990s', 'lord', 'getting', 'intent', 'forty', 'white', 'Sizemore', 'returned', 'educational', 'ages', 'heard', 'color', 'dives', 'histheir', 'childhood', 'Scott', 'provided', 'Most', 'World', 'clarify', 'Lamore', 'Anatomy', 'double', 'Wholl', 'entire', 'without', 'stolen', 'dumpsters', 'barbaric', 'Kane', 'Burton', 'quoted', 'mausoleum', 'remake', 'padding', 'the', 'mates', 'trumpeter', 'humanities', 'away', 'MGM', 'journey', 'teenagers', 'money', 'Nicholson', 'Baldwin', 'possibilities', 'Spike', 'Raiders', 'illuminating', 'intention', 'explain', 'Scare', 'murderous', 'solve', 'boss', 'headon', 'telling', 'yearning', 'attitude', 'offering', 'footwork', 'Aniston', 'basic', 'condemn', 'do', 'F', 'unique', 'destroys', 'Someone', 'Kathleen', 'inspired', 'redeeming', 'innovative', 'Constance', 'credits', 'numerous', 'JapaneseAmericans', 'theme', 'Hull', '40YearOld', 'ghost', 'trauma', 'stands', 'unhelpful', 'reasonable', 'aforementioned', 'rob', 'lovers', 'modern', 'causes', 'Camilla', 'Heigl', 'Blythe', 'especially', 'rabid', 'stir', 'character', 'sits', 'butt', 'Island', 'various', 'fraud', 'Rats', 'obviously', 'Austin', 'electronics', 'let', 'intoned', 'aspects', 'eyesight', 'convincing', 'Bergmans', 'site', 'throughout', 'stretch', 'planned', 'genitalia', 'crisscross', 'fans', 'involved', 'Gallipoli', 'directorial', 'shopworn', 'resembles', '1937', 'Macer', 'Arguably', 'Ritter', 'Norman', 'friends', 'endofworld', 'hated', 'finished', 'boast', 'politic', 'Nice', 'boyBen', 'lowlife', 'blowing', 'bw', 'Brooke', 'faith', 'redeem', 'treasure', 'Silent', 'war', 'historical', 'become', 'Shyamalans', 'teenage', 'also', 'goreYou', 'Prince', 'business', 'cheating', 'actress', 'whose', 'breaking', 'interment', 'directer', 'RENT', 'smart', 'dancergirlfriend', 'campground', 'rules', 'friendship', 'anywhere', 'premise', 'instructor', 'bugs', 'postwar', 'claims', 'Mia', 'tricked', 'stunning', 'literal', 'weekend', '50', 'Even', 'level', 'ignorance', 'BETTER', 'psychiatrist', 'shouldnt', 'names', 'setting', 'basis', 'everyones', 'richness', 'IMDb', 'survive', 'putting', 'Stevie', 'Broadcast', 'started', 'aspect', 'learn', 'whodunit', 'enter', 'alibis', 'successful', 'Metcalf', 'Streisand', 'professor', 'Jr', 'note', 'Barretto', 'definitely', 'wondering', 'reached', 'decides', 'huh', 'bike', 'Last', 'knives', 'peanut', 'subways', 'attempting', 'designed', 'travelogue', 'brothers', 'Caine', 'human', 'ratmovies', 'word', 'date', 'amount', 'pregnant', 'Are', 'sketchy', 'fill', 'cutesy', 'can', 'control', 'leader', 'asked', 'Believe', 'highly', 'endingwhich', 'shorter', 'steadfast', 'simple', 'diction', 'curious', 'decision', 'loads', 'Rambo', 'defies', 'feeble', 'Mad', 'entries', 'block', 'Everyone', 'harken', 'neighbor', 'morning', 'makers', 'unfair', 'scripts', 'Whitman', 'REVIEW', 'of', 'falling', 'please', 'killerbr', 'attitudes', 'included', 'bosss', 'pose', 'attack', 'sent', 'biggest', 'potential', 'incredible', 'wastes', 'lively', 'wit', 'situation', 'Brekinridge', 'vets', '1947s', 'yearsbr', 'rely', 'cast', 'heart', 'Horrible', 'idolises', 'McQueen', 'discovers', 'By', 'absolutely', 'Cars', 'What', 'men', 'weakness', 'title', 'selfabsorbed', 'Mars', 'comics', 'air', 'river', 'GOLDEN', 'pensions', 'extra', 'certain', 'Freaked', 'indication', 'wholesome', 'these', 'evidenced', 'couples', 'Sixties', 'Leisins', 'impressive', 'down', 'talks', 'FLOCK', 'CAREY', 'boringbr', 'Lowdown', 'overly', 'smokes', 'pay', 'suicide', 'Five', 'crusade', 'Here', 'humdrum', 'Celebrity', 'conditions', 'blatant', 'sunk', 'landscapes', 'am', 'scenes', 'betweenbr', 'college', 'writers', 'salt', 'manical', 'raunchy', 'beach', 'Galactic', 'stop', 'watchbr', 'Pure', 'creating', 'count', 'lacking', 'finding', 'Enjoy', 'trail', 'DEATH', 'Mimi', 'Lehman', 'gamut', 'Eternity', 'partner', 'challenged', 'extremely', 'usbr', 'Selden', 'Nights', 'less', 'fondling', 'Hunter', 'ie', 'discuss', 'legend', 'Indeed', 'hitting', 'doubt', 'spunky', 'very', 'retread', 'ones', 'involves', 'surrealistic', 'manicurist', 'unrealisticbr', 'utilises', 'victorious', 'clips', 'leg', 'masturbation', 'Johnson', 'slight', 'adults', 'El', 'stereotypicallyits', 'ready', 'crimebr', 'belated', 'wrongbr', 'disgusting', 'impress', 'female', 'rule', 'impression', 'romps', 'forced', 'powdered', 'director', 'geared', 'rape', 'portraying', '8', 'selfinvolved', 'brain', 'ambushes', 'musical', 'BLOW', 'compelling', 'Miami', 'Doyles', '1953', 'watches', 'eye', 'past', 'epic', 'script', 'burned', 'edgy', 'grabbing', 'McCoy', 'retire', 'unfortunately', 'worker', 'Um', 'room', 'innocent', 'some', 'loathsome', 'DeNiro', 'Dancy', 'Ira', 'subplots', 'undead', 'expressing', 'catterwalling', 'Track', 'works', 'features', 'Stories', 'fear', 'accurate', 'schlock', 'outstripped', 'psychic', 'further', 'day', 'Gedde', 'dysfunctional', 'showsbr', 'momentous', 'Unuiversal', 'amidst', 'Lars', 'br', 'similar', 'Barnils', 'claimed', 'competency', 'car', 'African', 'Personally', 'looseOne', 'quotations', 'laughable', 'Dark', 'memorablebr', 'consider', 'HalloweenOh', 'hysterically', 'implanted', 'empty', 'fault', 'outside', 'males', 'jungle', 'rise', 'worked', 'Attenboroughs', 'Babette', 'weird', 'recent', 'warmth', 'holds', 'gifted', 'rerecorded', 'Brosnan', 'Kyle', 'buttend', '80s', 'aspiring', 'cinema', 'connecting', 'Murray', 'dwarfs', 'approach', 'western', 'activists', 'like', 'FUNNYand', 'Watch', 'ultimately', 'indestructible', 'Bannacheck', 'gorgeous', 'powerful', 'onscreen', 'van', 'enhance', 'Ecxellent', 'medals', 'messing', 'congruity', 'desperation', 'Especially', 'Rarely', 'Much', 'Made', 'monitors', 'Clair', 'Shes', 'talented', 'fluid', 'antics', 'failed', 'Fk', 'gold', 'location', 'forgotten', 'Ridiculous', 'spirit', 'assassin', 'courageous', 'CounterStrike', 'sizes', 'actresses', 'most', 'NONE', 'inspiration', 'commie', 'looping', 'year', 'Washing', 'William', 'skiing', 'officer', 'Redgrave', 'introduction', 'dance', 'each', 'Charmed', 'Nagel', 'CementHeads', 'includes', 'Men', 'psycho', 'often', 'present', 'brutally', 'Unexpectedly', 'accomplished', 'Harry', 'shine', 'driver', 'poor', 'ranks', 'Salvador', 'infiltrated', 'Laurence', 'Helmers', 'wears', 'entertainers', 'California', 'Beautiful', 'knifebr', 'chat', 'macho', 'compared', 'Hitchcocks', 'entitled', 'obsession', 'plentybr', 'Fabio', 'complicated', 'comedies', 'subsequently', 'leading', 'revolt', 'huge', 'seductive', 'Tans', 'mystical', 'strange', 'headed', 'national', 'news', 'Husbands', 'gray', 'quietly', 'free', 'Bad', 'awful', 'Maniac', 'depression', 'His', 'marry', 'serve', 'Gantry', '1948', 'excitement', 'virtually', 'suddenly', 'Through', 'dollar', 'Michelle', 'laterbr', 'remembered', 'Byebye', 'action', 'thembr', 'RaymarThere', 'Wook', 'narcissism', 'demanded', 'reminded', 'innocentbr', 'Shadows', 'cheesy', 'lesser', 'Anne', 'Rating1', 'ex', 'tirade', 'Full', 'mucho', 'knocks', 'possibly', 'fascinating', 'innermost', 'discussionbr', 'erupts', 'Star', 'found', 'sound', 'Emilio', 'seemed', 'waited', 'cheat', 'Imagine', 'spies', 'traits', 'on', 'added', 'couple', 'health', 'play', 'cardinal', 'Pitt', 'AT', 'gruesome', 'eh', 'fights', 'unfolded', 'worse', 'assessmentbr', 'Gnaw', 'Duvall', 'distance', 'bring', 'It', 'who', 'sport', 'wives', 'Overalljust', 'aware', 'panther', 'panning', 'yearold', 'physical', 'top', 'wedding', 'presence', 'delivered', 'town', 'Alice', 'jobbr', 'actually', 'institutional', 'surprisingly', 'asks', 'Gandhi', 'trash', 'conjunction', 'invade', 'letting', 'notch', 'scathingly', 'shower', 'problems', 'deaf', 'Attenborough', 'sort', 'warning', 'gallows', 'Werner', 'surpassed', 'goingbr', 'predators', 'Nyro', 'emptiness', 'laugh', 'animal', 'racial', 'outbr', 'Set', 'rejoice', 'managerbr', 'compositions', 'deeper', 'transformed', 'singer', 'Godfather', 'okay', '40yearold', 'Vietnam', 'breakthrough', 'Others', 'samaddhi', 'nearly', 'actor', 'agreeing', 'memory', 'rocks', 'rarely', 'alcoholbr', 'combine', 'careerbr', 'aided', 'possessed', 'seven', 'supposedly', 'recommended', 'Nobody', 'IMDB', 'warn', 'Bravo', 'divine', 'Danny', 'Boyce', 'officers', 'rollercoaster', 'Jerome', 'lack', 'heights', 'teens', 'marker', 'Matrix', 'food', 'Raising', 'castaways', 'those', 'seems', 'tend', 'purposebr', 'deafandblind', 'lifebr', 'redundant', 'PERIOD', 'Assael', 'alone', '3D', 'itd', 'bizarre', 'flashback', 'producer', 'haha', 'guys', 'undeserved', 'existence', 'appearing', 'transfer', 'noone', 'humor', 'cement', 'bottomless', 'doesnt', 'Cinema', 'starving', 'concept', 'didactic', 'WWII', 'spark', 'Buddy', 'breathless', 'follow', 'Bolkan', 'Woodys', 'Daddys', 'anecdotes', '30s', 'Definitely', 'compose', 'itself', 'assumption', 'winners', 'Blur', 'Trish', 'matter', 'develops', 'Mercies', 'dame', 'procommunist', 'period', 'suicidal', 'American', 'paints', 'possibility', 'stars', 'sheepishly', 'consolidate', 'plastic', 'Go', 'comedy', 'credibility', 'stuff', 'primary', 'dresses', 'terror', 'ounce', 'stomach', 'timebr', 'MAKEUP', 'us', 'filmnamely', 'tonight', 'FEEL', 'roasting', 'vanishing', 'even', 'weakest', 'factory', 'coolest', 'admit', 'absence', 'guard', 'Brightest', 'gestus', 'my', 'seen', 'attacks', 'Lauren', 'morelikely', 'embarrassment', 'four', 'horrorbr', 'Madonnas', 'Spain', 'whining', 'captured', '1981', 'lostbr', 'ancientbr', 'blood', 'raped', 'began', 'mom', 'suffered', 'wicked', 'well', '12', 'veiled', 'keester', 'cigarettes', 'Actors', 'everyday', 'knitting', 'mid', 'LA', 'pencil', 'hoot', '2003', 'Congratulations', 'describes', 'terrestrial', 'Absolutely', 'bar', 'vast', 'oxygen', 'plan', 'courage', 'taped', 'paranoia', 'But', 'drive', 'breakem', 'MOVIE', '21', 'Emma', 'height', 'exclaims', 'andor', 'row', 'plodding', 'appreciate', 'See', 'time', 'Eve', 'remained', 'hangs', 'kids', 'hearted', 'yours', 'badbr', 'loyal', 'RalphtheallpurposeAnimal', 'mutated', 'TO', 'unscary', 'Frankensteins', '1971', 'essential', 'colleagues', 'hostage', 'selfconception', 'nunsploitationThe', 'Boy', '410', 'Pierce', 'called', 'roles', 'yes', 'Susan', 'honestly', 'fast', 'waitress', 'trashfilm', 'aftertaste', 'Surely', 'deviants', 'guitar', 'performance', 'gay', 'moves', 'unimaginably', 'outsideAbrahamThe', 'Were', 'equally', 'wooden', 'fig', 'reading', 'werebr', 'area', 'Hot', 'happening', 'backing', 'engagement', 'discovered', 'devoid', 'Niro', 'miserably', 'Paulie', 'grade', 'Many', 'opposed', 'Neil', 'amongst', 'direction', 'stealing', 'masterful', 'DAWN', 'THE', 'maintains', 'Jones', 'extensive', 'received', 'got', 'produced', 'principals', 'segway', 'embarrassing', 'boyfriend', 'noir', 'Little', 'engaging', 'Soon', 'artistic', 'stroked', 'brittleat', 'isnt', 'forth', 'amnesia', 'Either', 'Winstons', 'aficionado', 'Sleep', 'Whyte', 'enterprise', 'running', 'drek', 'afraid', 'statements', 'noticed', 'reminding', 'Instead', 'purpose', 'Babs', 'Leisin', 'pushing', 'month', 'see', 'Nevertheless', 'dishwashers', 'unharmed', 'upset', 'Once', 'De', 'dream', 'abduction', 'Chanbr', 'deteriorates', 'Jew', 'Oh', 'drops', 'threadbare', 'admiring', 'Video', 'Hurt', 'Stan', 'Heroes', 'arriving', 'Train', 'directed', 'announce', 'comedic', 'Departed', 'Dracula', 'Giving', 'couldnt', 'Bergman', 'renting', 'Disease', 'deadly', 'Shots', 'where', 'thenbr', 'thrills', 'pretty', 'freezing', 'scifihorror', 'Recommended', 'chunks', 'Elizabeth', 'surprise', 'priestess', 'slowmoving', 'Elvira', 'nonexistent', 'meaning', 'struggles', 'WHY', 'filmmakers', 'campus', 'when', 'material', 'owing', 'confess', 'HUGEbr', 'puts', 'great', 'uniquely', 'Rain', 'unrated', 'group', 'Starts', 'hears', 'exactly', 'mentioned', 'Freudian', 'Italian', 'adopted', 'forward', 'mecca', 'hiding', 'Rogers', 'Major', 'demonstrating', 'exposing', 'wouldnt', 'off', 'heels', 'storyline', 'actorsI', 'strong', 'virginbr', 'chance', 'echo', 'blown', 'terrible', 'agreements', 'utter', 'touched', 'welldirected', 'brings', 'needing', 'history', 'Coolio', 'havebr', 'theater', 'wryly', 'consumer', 'resolution', 'sentences', 'kills', 'Dont', 'prom', 'nonart', 'baloney', 'Hollyweird', 'Keanu', 'safety', 'Andreas', 'Hes', 'desperately', 'Yet', 'accomplicebr', 'world', 'Sometimes', 'precious', 'arrested', 'stills', 'picaresque', 'Rapaport', 'prejudices', 'minutes', 'youre', 'show', 'distraught', 'box', 'romantic', 'proceeding', 'cannot', 'Bela', 'snow', 'new', 'Guy', 'led', 'Alec', 'afterwards', 'effeminate', 'same', 'workers', 'cop', 'it', 'eight', 'SILENCE', 'labels', 'whom', 'best', 'unwashed', 'despised', 'effectiveness', 'souls', 'senseless', 'Swedish', 'teammates', 'Pickpocket', 'answer', 'terrific', 'silliness', 'side', 'bitbr', 'curtains', 'lessoften', 'means', 'enjoy', 'theory', 'certainly', 'beginningbr', 'previously', 'rien', 'way', 'obtrusive', 'Cal', 'tone', 'became', 'house', 'New', 'quick', 'paintings', 'consisting', 'Leave', 'Shootouts', 'Sontags', 'words', 'familiarity', 'father', 'make', 'opposite', 'UK', 'flashbacks', 'having', 'Macmurray', 'consistent', 'Then', 'leftist', 'thriller', 'nosey', 'droppingly', 'Marine', 'living', 'decent', 'Cicus', 'wellresearched', 'tanks', 'share', 'countries', 'covered', 'coincides', 'leftwing', 'reflections', 'survived', 'Three', 'cheap', 'awakens', 'Brother', 'keeps', 'across', 'vie', 'existing', 'here', 'politics', 'Paratrooper', 'All', 'OConnorwhos', 'send', 'Charles', 'bigbudget', 'superfluous', 'hear', 'coworkers', 'siblings', 'serious', 'Some', 'herself', 'Time', 'prepares', 'strikes', 'disagree', 'Space', 'force', 'in', 'core', 'Altman', 'Stunt', 'Malco', 'ioffercom', 'Lopez', 'environment', 'Erroll', 'trappings', 'initially', 'Brashear', 'stereotypical', 'Zelig', 'commentaries', 'Making', '2005', 'explosion', 'child', 'interpretation', 'solemnly', 'bite', 'precisely', 'subtle', 'members', 'soon', 'thoughts', 'sat', 'testify', 'composition', 'narratives', 'pouring', 'intense', 'single', 'MORE', 'greatest', 'except', 'Luckily', 'woefully', 'jazz', 'solidbut', 'mean', 'husbands', 'sleazy', 'subjectmatter', 'adversity', 'credible', 'conclusion', 'growth', 'Foxx', 'unconcerned', 'advanced', 'threw', 'Errolls', 'fully', 'boat', 'forgot', 'beginning', 'ships', 'Times', 'rats', 'Civil', 'portion', 'mainstream', 'work', 'felt', 'baseball', 'magazines', 'Gods', 'showing', 'Check', 'Party', 'misleading', 'fauxinfant', 'threatening', 'opportunities', 'view', 'excess', 'flawsbr', 'Ivan', 'Focus', 'ground', 'editing', 'minimal', 'renewal', 'otherwise', 'Stranges', 'nuts', 'draw', 'jurisdiction', 'licensing', 'breasts', 'MUSIC', 'tepid', 'joins', 'northern', 'perspective', 'overstating', 'slowing', 'poorly', 'splits', 'visual', 'logic', 'difference', 'Ill', '19361939', 'Myers', 'directors', 'criticizing', 'growingexperiments', 'killing', 'anger', 'love', 'racist', 'investment', 'MichaelVincentis', 'Tsai', 'runs', 'gushing', 'cellar', 'Ryan', 'afternoon', 'Post', 'Rob', 'involving', 'are', 'Norse', 'Brunos', 'verity', 'obsessive', 'their', 'fastfood', 'Tarzans', 'camp', 'madman', 'Branagh', 'suspense', 'thinkbr', 'kudos', 'disappears', 'absolves', 'ill', '1945', 'upon', 'overtly', 'regarding', 'circle', 'emoting', 'Catalan', 'joy', 'desired', 'during', 'fameis', 'Misdemeanorsanother', 'guarantee', 'Brain', 'black', 'hoped', 'overseeing', 'agree', 'bigot', 'purgatory', 'prize', 'paper', 'anymore', 'happens', 'TAKES', 'becomes', 'Doctors', 'Hard', 'steps', 'misty', 'brainwashed', 'turns', 'kooky', 'Muslims', 'Talk', 'stacks', 'Gere', 'vs', 'admirees', 'circa', '14', 'Chorus', 'anotherbr', 'Curiously', 'cute', 'episode', 'prostitutes', 'Stone', 'GMs', 'achieved', 'embarrassingbr', 'stopping', 'bodies', 'Ensenada', 'somehow', 'inside', 'sweet', 'remember', 'slightly', 'reach', 'stunned', 'audacious', 'heros', 'superficiality', 'use', 'Thanks', 'fist', 'ugly', 'oneSo', 'army', 'That', 'stale', 'scorned', 'philosophical', 'push', 'murdered', 'focused', 'captivated', 'Pennsylvania', 'hour', 'underage', '1940s', 'Uprisingbr', 'results', 'talking', 'weaknesses', 'episodes', 'latenight', 'heaven', 'indicates', 'kept', 'conflicts', 'Allens', 'insecurity', 'fantastic', 'criticism', 'ago', 'crippled', 'investigate', 'convinces', 'boot', 'rough', 'Western', 'Pryor', 'DVD', 'sidekick', 'actressshe', 'pencils', 'Yes', 'revolving', 'whats', 'juvenilitybr', 'plausibility', 'climactic', 'Heiden', 'impulses', 'resurrect', 'spaces', 'magic', 'remembers', 'finishes', 'offered', 'manipulating', 'Zazas', 'guess', 'always', 'exaggerated', 'Williams', 'welcome', 'furthermore', 'necks', 'job', 'entirely', 'obscene', 'sadly', 'wayAnd', 'breathing', 'possible', 'metal', 'surrounds', 'arrivesbr', 'edged', 'MacDonaldand', 'preteens', 'mass', 'pasts', 'ladies', 'Mustard', 'unable', 'helping', 'vacuity', 'doctor', 'forgettable', 'thoughits', 'whenever', 'proper', 'front', 'Tonys', 'Tender', 'ballet', 'complement', 'decadence', 'Jennifer', 'mercenary', 'dialogs', 'Ticaks', 'Nothing', 'About', 'societies', 'sexaholic', 'thunderstorm', 'tired', 'arent', 'musclebound', 'Circus', 'mob', 'understandthe', 'eastmeetswest', 'beyond', 'themselves', 'stupid', 'Hitchcock', 'young', 'ed', 'Fight', 'speculated', 'forehead', 'retirement', 'Altmans', 'addition', 'Book', 'type', 'card', 'corrupts', 'stone', 'Japs', 'Olivier', 'Citizen', 'ethnic', 'Strangers', 'THROUGHOUT', 'state', 'Louis', 'Ordway', 'one', 'notorious', 'mission', 'allergic', 'old', 'never', 'Laura', 'brought', 'destruction', 'DP', 'coverage', 'source', 'cardboard', 'meticulous', 'yea', 'true', 'Id', 'thrillerbr', 'Quirozdid', 'bland', 'Ferraris', 'Sweden', 'write', 'SF', '1972', 'Jupiter', 'grandest', 'Also', 'opening', 'reviewers', 'impossible', 'tag', 'biting', 'featuring', 'girlfriend', 'theirs', 'closure', 'Sleepless', 'pretending', 'Kid', 'achievement', 'unfitting', 'figured', 'appeal', 'satisfying', 'Highly', 'timeline', 'Hedg', 'improve', 'Grandmother', 'brother', 'Channel', 'want', 'Darkness', 'ware', 'Raymar', 'stuntwork', 'Helmer', 'mebr', 'enlistment', '1943', 'belt', 'eerieThe', 'stupendous', 'Bernhard', 'Widmark', 'conversation', 'Brent', 'energy', 'mustard', '4', 'hormonal', 'making', 'situations', 'figures', 'RachelsCarlas', 'pristine', 'wronged', 'slasher', 'We', 'comeuppance', 'While', 'version', 'floors', 'prevalent', 'bullet', 'strangulation', 'twenty', 'to', 'hideous', 'Given', 'statement', 'fix', 'Glover', 'featurette', 'exclusion', 'workbr', 'visuals', 'Jane', 'Career', 'pop', 'military', 'Winger', 'fictional', 'Upon', 'wondered', 'people', 'Zucco', 'thereby', 'Put', 'M', 'mustering', 'sons', 'fact', 'just', 'done', 'fulfilling', 'grotesque', 'Dick', 'normality', 'Wilde', 'prostitute', 'Barry', 'horoerotic', 'transplanted', 'beautone', 'childish', 'Nombre', 'get', 'toad', 'decided', 'doppleganger', 'River', 'Til', 'maybe', 'endless', 'sequences', 'pianist', 'hint', 'mood', 'cameraman', 'why', 'Gilligans', 'No', 'stating', 'behind', 'disrupt', 'doors', 'lowbudget', 'momentsbr', 'Night', 'girlewwww', 'untouchable', 'drowning', 'Ozus', 'cravingshorse', 'examination', 'flaw', 'security', 'supports', 'Pam', 'hooked', 'plain', 'Ocampo', 'legitimate', 'technologically', 'Spanish', 'perfection', 'Redfords', 'positively', 'houses', 'filmmaker', 'firsthand', 'Mighty', 'transporting', 'beautifully', 'actors', 'Amanda', 'whos', 'brow', 'talent', 'blame', 'lento', 'castrationFlavia', 'solicits', 'Can', 'AN', 'dimestore', 'Line', 'farmhand', 'worrying', 'tormented', 'casting', 'operator', 'back', 'selfrighteous', 'Buddybr', 'genre', 'voices', 'late', 'interesting', 'Ed', 'positive', 'fierce', 'surrogate', 'familiar', 'Tibor', 'wild', 'music', 'thinkA', 'truly', 'example', 'FlaviaFlorinda', 'descending', 'arthouse', 'could', 'loving', 'Chans', 'Varicam', 'violence', 'magnificient', 'twist', 'emission', 'screaming', 'improbable', 'hair', 'random', 'spoiled', 'dire', 'kissing', 'epilogue', 'alsoepic', 'Mingliangs', 'seemsbr', 'youll', 'move', 'stereotypes', 'Over', 'Smith', 'Finn', 'arebr', 'chagrin', 'utterly', 'killers', 'field', 'brides', 'been', 'apparent', 'insisting', 'vet', 'breathes', 'parents', 'collapse', 'beaten', 'beauty', 'Andy', 'attendant', 'involvement', 'fought', 'punch', 'picks', 'intellectual', 'propaganda', 'split', 'FANTASTIC', 'good', 'trained', 'childrens', 'varied', 'copy', 'milieu', 'Hugh', 'feverish', 'flaw7', 'days', 'incapable', 'nor', 'things', 'medal', 'Teri', 'Bowman', 'mistress', 'finally', 'argue', 'distracts', 'sense', 'factbr', 'comprehend', 'assumes', 'Nearly', 'morally', 'gain', 'enduring', 'assigned', 'progressing', 'Pfeiffer', 'Hillary', 'confrontation', 'IIera', 'PRC', 'dealer', 'have', 'Ohio', 'Leo', 'nothings', 'player', 'STARDUST', 'teen', 'Somehow', 'driving', 'as', 'corner', 'After', 'Claire', 'Cocktales', 'deals', 'breaks', 'identify', 'wonderfully', 'dimensional', 'Damien', 'actresswaif', 'change', 'stage', 'bird', 'trying', 'NOTHING', 'dialogue', 'impotence', 'someShe', 'items', 'In', 'comments', '70s', 'quarter', 'butter', 'NOT', 'rapids', 'regards', 'Seattle', 'Linnea', 'verve', 'cyborg', 'among', 'begin', 'shoot', 'rescued', 'rage', 'discarded', 'influential', 'window', 'Director', 'Ann', 'compete', 'ship', 'Usually', 'save', 'News', 'Dorothy', 'eventsThe', 'believed', 'obsessed', 'playing', 'willing', 'stumbled', 'latter', 'Not', 'Sin', 'jaw', 'An', 'Grissom', 'masterstroke', 'agreement', 'brutal', 'miserablybr', 'quietest', 'Metro', 'supernatural', 'decreasing', 'Dr', 'requirement', 'enthusiastic', 'DD51', 'Joe', 'fair', 'casino', 'alcohol', 'suspicions', 'Hurts', 'mixture', 'presented', 'totally', 'heck', 'unnecessarily', 'available', 'prematurely', 'appears', 'Jaws', 'Heaven', 'Spooky', 'fatherTired', 'drivers', 'tumultuous', 'Redd', 'somewhere', '1941', 'acts', 'Tan', 'aka', 'scratching', 'Sanders', 'march', 'glassesis', 'challenges', 'giving', 'Paul', 'hit', 'barfed', 'viewerbr', 'book', 'James', 'Broadway', 'influenced', 'bickering', 'dagost', 'hymn', 'en', 'oblivious', 'wait', 'superb', 'believes', 'drinks', 'spend', 'Twice', 'land', 'case', 'bout', 'impressed', '19', 'entering', 'sudden', 'causing', 'umpf', 'outoftouch', 'minute', 'hairy', 'Abraham', 'Terror', 'seriously', 'subtlety', 'Keener', 'Blue', 'awareness', 'notwithstanding', 'spots', 'parked', 'didnt', 'attempt', 'whatd', 'enchanting', 'fighting', 'Lord', 'sadness', 'phenomenal', 'sung', 'him', 'teeth', 'These', 'effective', 'experimental', 'warmed', 'Allison', 'anybody', 'peeping', 'escaped', 'HOUSE', 'grand', 'events', 'unarmed', 'cars', 'Strange', 'dozor', 'we', 'Francobr', 'AWAY', 'accurately', 'three', 'walks', 'demand', 'Scandavian', 'extraction', 'mainly', 'viewing', 'decade', 'R1', 'YOU', 'comfortable', 'lie', 'university', 'justified', 'Ramon', 'hate', 'photographed', 'written', 'recycling', 'dreaming', 'dabbing', 'deepbr', 'betterbr', 'Bynes', 'no', 'Kubrick', 'exDaily', 'gave', 'Apatow', 'from', 'Carruthers', 'subtitles', 'broadcast', 'timeJohn', 'Ralph', 'aboutAlso', 'Possiblythis', 'dont', 'sophisticated', 'Military', 'realistically', 'blind', 'pickup', 'match', 'Journey', 'plentiful', 'tells', 'tantamount', 'Light', 'oncefamous', 'including', 'washed', 'hilt', 'abilities', 'slice', 'divorce', 'integration', 'extreme', 'larger', 'bloody', 'parody', 'Lloyd', 'gangster', 'OKeeffe', '1988', 'Holly', 'Montana', 'lyrics', 'smoky', 'bits', 'complex', 'Paunchy', 'Barbara', 'Robert', 'Pacific', 'wellwritten', 'given', 'Reeves', 'disc', 'go', 'interest', 'weeks', 'fondle', 'overboard', 'hold', 'cried', 'ingredients', 'Wives', 'blonde', 'comment', 'sets', 'counterparts', '6', 'paucity', 'already', 'Richards', 'offend', 'fatherAndre', 'embrace', 'big', 'Wow', 'board', 'Hours', 'magnificent', 'genius', 'Thats', 'batlike', 'darker', 'feast', 'boundless', 'wasthe', 'cases', 'Besides', 'prayer', 'sixteenth', 'special', 'towering', 'backfire', 'polite', 'creaky', 'cryptic', 'TV', 'Corps', 'notice', 'expected', 'asbestos', 'Yulin', 'crisp', 'repertoire', 'moved', 'Nightline', 'know', 'part', 'screen', 'Corrigan', 'spastic', 'genetics', 'birthmarks', 'though', 'Gilers', 'with', 'and', 'suggest', 'publisher', 'If', 'Bassenger', 'run', 'wannabe', 'long', 'fun', 'meat', 'taking', 'selfhate', 'imagine', 'Torture', 'privy', 'Gene', 'leads', 'apartment', 'fragile', 'Patti', 'wifes', 'Jim', 'up', 'Reform', 'bittersweet', 'psychological', 'focus', 'antiStalinist', 'male', 'intelligent', 'routine', 'appeared', 'deck', 'Haunted', 'trenches', 'speak', 'steam', 'lovemaking', 'fellow', 'talents', 'manufacturing', 'BEST', 'sky', 'eccentric', 'Virgin', 'lifestyle', 'Madame', 'known', 'longer', 'light', 'Sherlock', 'torture', 'mind', 'master', 'LOW', 'wins', 'help', 'through', 'Heigls', 'theyre', 'disappearing', 'Doktor', 'personnel', 'peddled', 'warlocks', 'fond', 'nicely', 'ran', 'develop', 'stream', 'worthy', 'David', 'directing', 'America', 'WIN', 'bloodshed', 'happen', 'blows', 'rest', 'justification', 'ambiguity', 'loudly', 'created', 'comic', 'woven', 'makes', 'stabbing', 'impenetrable', 'disappearance', 'occasional', 'millions', 'design', 'Witch', 'articulate', 'apartments', 'every', 'touch', 'judging', 'made', 'Simone', '3', 'August', 'gang', 'inspirational', 'maturity', 'Grier', 'deemed', 'clan', 'sports', 'evening', 'athlete', 'However', 'positions', 'denigrated', 'point', 'Battling', 'girlNikki', 'burning', 'shallowness', 'assassins', 'walking', 'Hell', 'comes', 'worth', 'shame', 'wave', 'likedbr', 'Murder', 'question', 'musicals', 'Jeff', 'begging', 'Redford', 'ethically', 'Or', 'hood', 'Rogen', 'setup', 'Joanna', 'abysmal', 'more', 'shared', 'what', 'hilarious', 'laughter', 'viewers', 'building', 'hunting', 'Youll', 'luring', 'homes', 'looks', 'knife', 'thrilling', '5', 'Guys', 'Jay', 'quickly', 'severely', 'grain', 'Barcelona', 'cementhead', 'Later', 'developed', 'is', 'next', 'factual', 'Every', 'frame', 'pregnancy', 'dialog', 'eventually', 'quality', 'CREDIT', 'Weissmuller', 'owes', 'villain', 'until', 'NOTGR', 'This', 'passivity', '1970s', 'commercials', 'concepts', 'ski', 'helps', 'Hence', 'lyrical', 'hole', 'Trying', 'Actually', 'Kinkade', 'abducted', 'arrive', 'excellent', 'funeral', 'this', 'Old', 'phony', 'night', 'sideshow', 'narrator', 'min', 'Mona', 'dropping', 'flaws', 'songs', 'Gordon', 'Bert', 'distracting', 'doubtless', 'Both', 'performer', 'trailer', 'unfold', 'Ice', 'but', '40', 'understand', 'awhile', 'seductress', 'Better', 'comfort', 'religions', 'mediocre', 'belongs', 'Following', 'disappear', 'Passivity', 'enjoyable', 'Finally', 'creepiness', 'Farrows', 'metoo', 'addicted', '1975', 'Ray', 'intellectually', '45', 'spoilers', 'unintentionally', 'Unfortunately', 'pointbr', 'anyone', 'mummy', 'lived', 'ceremony', 'miserable', 'undervalued', 'dramatic', 'bills', 'Still', 'bloggers', 'greets', 'EXTREMELY', 'agrees', 'achingly', 'Women', 'daylight', 'tough', 'relationships', 'priest', 'flicknot', 'anyway', 'jokes', 'vocal', 'kamikazes', 'both', 'mess', 'nothing', 'because', 'mists', 'women', 'Paramount', 'piano', 'must', 'Hitchhiking', 'today', 'Willard', 'reborn', 'Olympics', 'shallow', 'adorable', 'presumably', 'ordered', 'Primo', 'forgets', 'Bobby', 'tedious', 'nono', 'whatever', 'life', 'Other', 'veins', 'understood', 'amused', 'gives', 'last', 'visualaural', 'plausible', 'actions', 'heroes', 'HAPPENS', 'acknowledge', 'shocked', 'thinking', 'Why', 'Sweet', 'exploitation', 'Terrible', 'heartfelt', 'antihero', 'holes', 'Far', 'story', 'typified', 'chases', 'merely', 'provoking', 'between', 'convey', 'Science', 'Mall', 'Didnt', 'Las', 'drawback', 'pace', 'Walter', 'flies', 'spot', 'did', 'myself', 'simplifications', 'Since', 'stopped', 'Tim', 'Ive', 'giant', 'pangs', 'Dies', 'conflicted', 'order', 'Okay', 'obnoxious', 'stupidbr', 'saw', 'create', 'bush', 'grace', 'former', 'ensemble', 'glowing', 'metaphor', 'hubcap', 'account', 'insular', 'elementary', 'deny', 'format', 'Burt', 'Like', '4th', 'loud', 'social', 'score', 'thesp', 'wall', 'rave', 'Film', 'Kiss', 'behave', 'hateful', 'repentAfter', 'language', 'misplaced', 'starts', 'taste', 'growls', 'powers', 'wisely', 'internet', 'doing', 'Mary', 'dreamed', 'splitting', 'intricate', 'mark', 'Columbo', 'rewarded', 'smack', 'streets', 'Jericho', 'facial', 'thrusts', 'Cuba', 'answers', 'Shrooms', 'Frank', 'domineering', 'Chris', 'watching', 'Bell', 'Marc', 'wilderness', 'stripped', 'ladder', 'legally', 'brilliance', 'Santini', 'ordinary', 'Mystery', 'filmbr', 'capabilities', 'Warner', 'rent', 'before', 'at', 'adorn', 'Quiet', 'dough', 'Part', 'gladly', 'bouquet', 'racing', 'needles', 'Walhberg', 'cracked', 'over', 'Clearly', 'satire', 'Ms', 'bringing', 'blondes', 'goody', 'Steven', 'ABC', 'stabbed', 'pickpocket', 'experiences', 'trivial', 'similarly', 'ladys', 'atrocious', 'swearing', 'appear', 'out', 'stretches', 'Dead', 'nasty', 'clearest', 'opinions', 'Sadly', 'wellbr', 'caught', 'atop', 'meet', 'Cut', 'frequently', 'studio', 'sparking', 'meant', 'guilt', 'meagre', 'selfloathing', 'Distrust', 'filmmaking', 'learns', 'risked', 'mere', 'signals', 'Only', 'Gettaway', 'Diether', 'colorful', 'exquisite', 'jealous', 'Raiderthat', 'soupcon', 'birth', 'fallen', 'lead', 'text', 'auteur', 'Nell', 'bill', 'wonder', 'perfectly', 'People', 'admits', 'Manny', 'Flint', 'zombies', 'unusual', 'above', 'fake', 'need', 'trafficking', 'snapshot', 'suggests', 'critics', 'average', 'deceives', 'faced', 'Allenish', 'Pretty', 'nifty', 'kid', 'should', 'particularly', 'support', 'Who', 'rid', '1974', 'tightened', 'Demons', 'solid', 'cabaret', 'Lilas', 'Jackson', 'improvement', 'Debra', 'cause', 'wildly', 'false', 'City', 'assumed', 'shots', 'Christmas', 'Plus', 'justifies', 'Including', 'manage', 'Loudens', 'Vegas', 'Hoh', 'Arguebly', 'commits', 'Claw', 'follows', '10', 'homefront', 'course', 'invited', 'shocking', 'stepped', 'On', 'ticks', 'doubtlessly', 'laws', 'cover', 'Ferrell', 'allusions', 'handsomer', 'almost', 'sequence', 'still', 'yell', 'left', 'attention', 'lightness', 'ongoing', 'lengthy', 'Sheldrake', 'glares', 'et', 'havent', 'huddling', 'embodies', 'DancerCancer', 'office', 'terribly', 'Prepies', 'none', 'Annie', 'shack', 'irritating', 'Was', 'marvelous', 'reason', 'Mice', 'puzzled', 'corridors', 'originally', 'growthserum', 'utmost', 'fullest', 'own', 'petulant', 'freethinking', 'sister', 'Stuart', 'hourglass', 'shows', 'Courage', 'plot', 'uh', 'JeanClaude', 'unheralded', 'midget', 'jumping', 'coach', 'COURSE', 'Music', 'evidence', 'Ebenezer', 'mental', 'ideas', 'fortune', 'Brian', 'Apollonia', 'Wars', 'murderbr', 'At', 'film', 'costumes', 'bore', 'Freuds', 'Summer', 'advises', 'perception', 'rights', 'surfing', 'jumpy', 'Sarnes', 'subtly', 'debut', 'caring', 'ranging', 'revenge', 'final', 'Rudd', 'middle', 'finebr', 'rock', 'gardeners', 'its', 'audience', 'insight', 'gotta', 'buying', 'offenders', 'Marion', 'sporadic', 'there', 'galleries', 'dirty', 'parables', 'Mastrantonio', 'proposals', 'Fever', 'crazy', 'future', 'characterizes', 'trick', 'plant', 'USA', 'reception', 'linesseveral', 'cyan', 'shield', 'sees', 'woman', 'trains', 'relates', 'ethical', '1010', 'fluff', 'GREAT', 'usual', 'Andrew', 'diffident', 'collective', 'chord', 'EC', 'awe', 'rip', 'victim', 'Kenneth', 'something', 'nightclubs', 'handles', 'defenseless', 'custody', 'radio', 'reference', 'Porkys', 'caliber', 'CounterRevolution', 'link', 'heist', 'Thelma', 'unless', 'style', 'treatment', 'or', 'apocalypse', 'Zeus', 'Tarantulaswho', 'Hedgepeth', 'consumerled', 'villian', 'Americana', 'after', 'killer', 'usually', 'allout', 'offensive', 'flowersbushestreeswherever', 'wished', 'ghosts', 'origin', 'compiled', 'appliances', 'hooded', 'excuse', '20', 'POV', 'namesake', 'nerve', 'Freaks', 'guest', 'yuppie', 'responsible', 'artificial', 'crime', 'pulled', 'urban', 'footage', 'deafening', 'Ski', 'smell', 'wool', 'flick', 'Spielbergs', 'Bruce', 'resonates', 'promise', 'clever', 'Cable', 'suspenseful', 'buffoon', 'transition', 'ahead', 'illustrates', 'alchemy', '911', 'awesome', 'stole', 'talentless', 'sorry', 'downs', 'outstay', 'presents', 'mentioning', 'continuing', 'chock', 'From', 'nonanamorphic', 'operative', 'DePalmas', 'dimwitted', 'Interiors', 'reasons', 'lovebr', 'adds', 'shock', 'therefore', 'mechanism', 'sos', 'production', 'Sarne', 'carrying', 'low', 'Theres', 'newspapers', 'beautiful', 'Lee', 'loneliness', 'elsewhere', 'slim', 'accept', 'Im', '1946', 'i', 'moving', 'smashed', 'lot', 'Harvey', 'fourth', 'pitch', 'originality', 'attempts', 'kind', 'expectations', 'quest', 'boring', 'conductor', 'Moe', 'frustrating', 'does', 'comedians', 'babes', 'Two', 'costars', 'thus', 'Hackman', 'effects', 'uncomfortable', 'died', 'research', 'education', 'credit', 'falls', 'Anjanette', 'unexplored', 'Kim', 'makeup', 'fits', 'shadows', 'poison', 'barely', 'LION', 'presentationbr', 'Just', 'expects', 'Brilliant', 'arc', 'criticize', 'kill', 'reel', 'small', 'Burning', 'forever', 'healthy', 'contains', 'announcements', 'Lisa', 'build', 'washedout', 'begins', 'morose', 'NO', 'seek', 'accompanies', 'circumstances', 'hope', 'sounds', 'onto', 'whilst', 'decades', 'freedom', 'common', 'producers', 'seduced', 'dancing', 'movie', 'Canuck', 'childrenbr', 'Secrecy', 'rifle', 'chasing', 'Sterling', 'set', 'ramble', 'Wayland', 'helmed', 'perfect', 'joke', 'mother', 'writing', 'announcing', '1951', 'poked', 'Catherine', 'ring', 'Winston', 'accompanied', 'clothes', 'Except', 'would', 'revolves', 'locked', 'suspect', 'many', 'uninteresting', 'becoming', 'seconds', 'broad', 'jollies', 'least', 'named', 'Hoods', 'expression', 'Bassengers', 'determine', 'residents', 'Car', 'background', 'so', 'twitter', 'equal', 'twice', 'showed', 'countedbr', 'grabbed', 'different', 'welledited', 'Fuller', 'La', '1980', 'compare', 'classics', 'endearing', 'cynic', 'tranquilizers', 'widow', 'herbr', 'few', 'breathe', 'allows', 'girls', 'transports', 'behalf', 'dangerous', 'underappreciated', 'took', 'GIsbr', 'around', 'thespian', 'package', 'Direction', 'She', 'rental', 'dull', 'friendsbr', 'Gibbs', 'Romany', 'bit', 'only', 'atmospheric', 'rhythms', 'face', 'toward', 'purple', 'lobbies', 'may', 'miles', 'particular', 'trapped', 'nuditybut', 'opportunity', 'affluence', 'think', 'helpless', 'knocking', 'wistfulness', 'fistfight', 'regular', 'opinion', 'vacation', 'total', 'family', 'rating', 'jobs', 'Nick', 'zippy', 'subside', 'DD20', 'MarineHedge', 'reservations', 'tell', 'Nina', 'masksbr', 'kiss', 'fightchase', 'plots', 'simply', 'sidney', 'House', 'encounters', 'crimes', 'role', 'sanity', 'driveby', 'intercutting', 'unsympathetic', 'pals', 'resemble', 'lose', 'audiencesbr', 'teenager', 'Sinclair', 'reveals', 'entertainment', 'pitched', 'crew', 'Rose', 'backbr', 'jerks', 'a', 'They', 'ended', 'whites', 'disturbing', 'habits', 'meets', 'wholeheartedly', 'nowhere', 'Glenn', 'paraphrasing', 'nomination', 'pigstysexual', 'climb', 'killed', 'Scientist', 'Aphrodite', 'stranglehold', 'Without', 'his', 'fight', 'peoplepusses', 'process', 'Anthony', 'convinced', 'congratulated', 'picture', 'detective', 'warlock', 'they', 'models', 'shouting', 'Sandra', 'slow', 'wishing', 'nudity', 'Felix', 'rate', 'picturebr', 'Sopranos', 'avoid', 'Sisters', 'pull', 'Adrian', 'Brunojust', 'rewind', 'intonations', 'treatbr', 'keep', 'sorority', 'anything', 'parts', 'grim', 'Herzogs', 'home', 'private', 'elaborate', 'together', 'Season', 'St', 'Kentucky', 'red', 'ontological', 'worldbr', 'intrusion', 'endings', 'sci', 'initial', 'obstacle', 'thingsbr', 'figure', 'dripping', 'police', '1930s', 'clubs', 'fastpaced', 'THIS', 'Hedge', 'ratings', 'campers', 'audiencebr', 'females', 'lying', 'Taxi', 'fearand', 'hopefully', 'domain', 'dark', 'defines', 'however', 'enemy', 'Latin', 'Yorks', 'noses', 'hell', 'crooked', 'choice', 'lures', 'ups', 'waiting', 'sequel', 'thats', 'Cincinnati', 'treats', 'pledge', 'connotations', 'broken', 'later', 'nowherebr', 'elegant', '1984', 'viewed', 'Death', 'exercise', 'Kong', 'TVs', 'sit', 'end', 'York', 'boys', 'camera', 'Katherine', 'supremely', 'physically', 'glory', 'harmless', 'risking', 'blindly', 'overthetop', 'Seth', 'happened', 'picked', 'woo', 'conversations', 'not', 'sparks', 'unbelievable', 'protg', 'Truly', 'stations', 'stages', 'ineffective', 'incompetent', 'pointless', 'drummed', 'sure', 'antiheroine', 'accountants', 'hey', 'Thirteenth', 'winds', 'sleaze', 'friend', 'earlier', 'BACK', 'wasnt', 'protagonist', 'Korean', 'Glory', 'confusing', 'Khoo', 'Your', 'party', 'DONT', 'Bassett', 'Loggia', 'Mc', 'disbelief', 'reunite', 'serial', 'despite', 'Galipeau', 'Archies', 'girlsbr', 'embarks', 'singing', 'Musics', 'possessions', 'Keaton', 'saving', 'laughablebr', 'screenwriter', 'general', 'Jacknife', 'Fog', 'turn', 'ruins', 'belonged', 'cleavage', 'throw', 'English', 'implied', 'dog', 'kicked', 'methods', 'fourmillion', 'heterosexual', 'spoil', 'sunshinebr', 'driven', 'You', 'himself', 'areas', 'During', 'mound', 'Additionally', 'sides', 'wrote', 'ugliness', 'CIA', 'Things', 'traps', 'fx', 'scary', 'carnage', 'Khoos', 'bad', 'required', 'B', 'Be', 'any', 'levels', 'wings', 'KNOW', 'were', 'anybodys', 'devour', 'ratcheted', 'infamous', 'wasted', 'theyll', 'Lees', 'ITV', 'Emphatically', 'wanted', 'conceal', 'hunter', 'destination', 'subway', 'halfwits', 'cheapie', 'havoc', 'project', 'profanity', 'defined', 'portray', 'everything', 'looking', 'vital', 'tattooed', 'doThis', 'Ethical', 'heres', 'interlinked', 'Toledo', 'herebr', 'mise', 'characterizations', 'for', 'failure', 'art', 'rides', 'street', 'Gwenyth', 'surprised', 'Instructor', 'underrated', 'warm', 'offer', 'Disney', 'damn', 'voice', 'garbage', 'wolfman', 'peep', 'children', 'phenomenon', 'Unless', 'demonstrates', 'paid', 'Sylvester', 'dieing', 'punching', 'plays', 'betters', 'Because', 'floating', 'deserved', 'caricatures', 'sitting', 'scare', 'applaud', 'alcoholic', 'Grill', 'straight', 'trouble', 'sexy', 'sociopath', 'shootout', 'laughoutloud', 'emotionally', 'Song', 'featurettes', 'hadnt', 'God', 'combat', 'desperate', 'murders', 'Bobbys', 'Holmes', 'King', 'junk', 'Nochnoi', 'twists', 'awfully', 'Bidwell', 'bash', 'adapted', 'fiction', 'Lady', 'girlfriends', 'insane', 'tale', 'postproduction', 'corpses', 'aimless', 'heavily', 'documentaryesquire', 'pie', 'Working', 'blue', 'Chandler', 'struck', 'Playing', 'nonsensical', 'resident', 'preparing', 'tricks', 'Read', 'He', 'dead', 'Dealers', 'key', 'chased', 'somewhat', 'released', 'standards', 'be', 'insecurities', 'pulp', 'apparently', 'filled', 'First', 'evidente', 'Broken', 'nights', 'improbably', 'flying', 'Judy', 'receives', 'steal', 'cant', 'clone', 'blues', 'photography', 'essentially', 'Had', 'misgivings', 'obvious', 'robbery', 'rising', 'Vaughan', 'Devoting', '60ship', 'our', 'winning', 'focuses', 'glance', 'modest', 'following', 'ONLY', 'handle', 'hangglider', 'stunner', 'combined', 'soundtrack', 'deceased', 'files', 'pass', 'Kubricks', 'era', 'tunnel', 'graveThe', 'cutout', 'relative', 'unlike', 'afterward', 'coming', 'Again', 'coworker', 'constantly', 'crass', 'piste', 'Watanabe', 'LAMBS', 'betterThe', 'cleaned', 'LifetimeTV', 'evil', 'Mississippi', 'dispensed', 'mythical', 'drift', 'uses', 'plus', 'intercut', 'fame', 'dizziness', 'Singaporeans', 'horrible', 'kicking', 'acceptable', 'feels', 'flat', 'cinematic', 'spine', 'inflected', 'thinly', 'optimisticbr', 'demonstrate', 'ka', 'release', 'trashy', 'firefighters', 'spying', 'echoed', 'sales', 'Gooding', 'guy', 'confronted', 'retain', 'trio', 'short', 'Widmarks', 'highlighted', 'amateur', 'Zeta', 'ALL', 'Those', 'jerk', 'remembering', 'boy', 'major', 'dodgy', 'sometimes', 'representing', 'Special', 'Disorder', 'balancing', 'attentiondeficit', 'continues', 'hug', 'McInnerny', 'inferior', 'first', 'Spring', 'sleep', 'Sixth', 'Prom', 'vision', 'tightlyheld', 'hill', 'access', 'babe', 'oops', 'Vietnamese', 'knowledge', 'affected', 'funny', 'greatbr', 'taken', 'brief', 'badly', 'Ethics', 'Tango', 'claiming', 'Comer', 'South', 'game', 'shot', 'Excessive', 'meas', 'shines', 'wrong', 'stay', 'movies', 'tennis', 'naval', 'thought', 'overpraised', 'politically', 'man', 'email', 'acting', 'Each', 'envies', 'defy', 'Heretic', 'RRated', 'replacement', 'delay', 'mothers', 'Recha', 'travel', 'mimis', 'veteran', 'born', 'unnerving', 'idols', 'untypical', 'dope', 'reunited', 'Mr', 'Onethird', 'Panama', 'everyone', 'subdued', 'Gordons', 'etcbr', 'summary', 'Americans', 'trifles', 'instruction', 'escape', 'Europe', 'feeling', 'closer', 'suit', 'Maybe', 'lover', 'popular', 'hire', 'mostly', 'Mental', 'trampling', 'HOLD', 'others', 'therefor', 'Take', 'expressive', 'ineptitude', 'trashcan', 'miss', 'painting', 'tics', 'exemplified', 'glamourous', 'dropped', 'artificiality', 'torsosbr', 'hams', 'Of', 'Douglas', 'looked', 'Miles', 'generous', 'pity', 'chauvinistic', 'image', 'riders', 'repeatedly', 'CONVINCE', 'manifests', 'gotten', 'Scrooge', 'catches', 'EARINGS', 'concerning', 'give', 'kitchens', 'So', 'slashes', 'winner', 'natural', 'intended', 'forces', 'surf', 'ocean', 'likely', 'universe', 'such', 'grandma', 'tracks', 'brave', 'classic', 'sorts', 'perils', 'stories', 'scores', 'glimpse', 'Hart', 'placed', 'DEAD', 'angry', 'feature', 'plaything', 'sexist', 'Revolution', 'discriminated', 'too', 'her', 'lock', 'Having', 'previous', 'Odyssey', 'neighbors', 'quirky', 'dates', 'budget', 'Henshall', 'glasses', 'puffing', 'distasteful', 'Fast', 'thank', 'taunts', 'suspending', 'creaturefeatures', 'imagination', 'sillybr', 'umpire', 'Cox', 'completely', 'spiral', 'editingbr', 'purely', 'pile', 'games', 'Way', 'call', 'heavens', 'bus', 'pleasing', 'Genevieve', 'Look', 'model', 'knowing', 'phone', 'Chaos', 'US', 'moments', 'full', 'needed', 'battles', 'daily', 'rare', 'lacks', 'NC17', 'WANT', 'accent', 'beggars', 'tiny', 'mentally', 'trance', 'damaging', 'soft', 'filming', 'program', 'banzai', 'daydreams', 'spoken', 'womanizing', 'irritated', 'pieces', 'Visiting', 'she', 'unlikable', 'comforting', 'Jack', 'once', 'trumpet', 'agehigh', 'compensate', 'Skid', 'chemical', 'finish', 'Lenny', 'respect', 'played', 'TVFilm', 'Capra', 'sexier', 'aged', 'hometown', 'says', 'Sure', 'separates', 'sacrifice', 'all', 'carnal', 'pursuit', 'fragrant', 'virgin', 'Revealingly', 'drunk', 'Jenkins', 'keyboard', 'ratio', 'buys', 'reminiscent', 'aimed', 'overwhelmed', 'quite', 'vein', 'although', 'Pie', 'Do', 'Brokens', 'British', 'finger', 'fat', 'fit', 'shown', 'roof', 'imprint', 'bachelor', 'eyes', 'accounts', 'excited', 'Fred', 'holding', 'Macy', 'beer', 'band', 'betterMichael', 'Dishonesty', 'DavisColtraneMonk', 'centered', 'funerals', 'Manna', 'inappropriate', 'Strongly', 'reoccurring', 'an', 'panthers', 'orchids', 'richer', 'shed', 'happy', 'Pangborn', 'months', 'Vanessa', 'stab', 'townspeople', 'par', 'Maury', 'murder', 'bulk', 'excop', 'influence', 'cult', 'career', 'hotel', 'lovely', 'he', 'reforming', 'manager', 'renewed', 'Everything', 'HouseAlexandra', 'simplistic', 'which', 'god', 'Plot', 'strafes', 'parole', 'values', 'moviebr', 'uncertain', 'writer', 'Ferrari', 'marine', 'caskets', 'concerts', 'orgasm', 'shaky', 'peoples', 'waybr', 'overalls', 'thinks', 'Lugosi', 'filmasart', 'Being', 'Triers', 'morality', 'asap', 'Canal', 'belief', 'deserve', 'extent', 'honors', 'demise', 'token', 'wounding', 'half', 'scared', 'happiness', 'Goodfellas', 'Cuban', 'criminals', 'truck', 'pair', 'Homefront', 'dimmed', 'yourself', 'filthy', 'documentary', 'hallucination', 'sex', 'tune', 'Its', 'Breckinridge', 'feel', 'Very', 'within', 'strives', 'Morrows', 'images', 'typical', 'screams', 'ultra', 'agenda', 'Sharon', 'tiresome', 'hurt', 'weather', 'fighter', 'main', 'docks', 'laughed', 'someone', 'surviving', 'balls', 'doubledecker', 'Frulein', 'Carlton', 'message', 'Catalunya', 'tradition', 'treated', 'enough', 'sensory', 'punishment', 'nobody', 'complete', 'negate', 'add', 'unreliable', 'gun', 'souped', 'death', 'controlled', 'Lelia', 'passing', 'directerthe', 'inspirations', '2001', 'Duckling', 'unfortunate', 'ineffectively', 'allbr', 'zero', 'strongest', 'Her', 'leave', 'Food', 'Continent', 'followed', 'Kiley', 'multileveled', 'moment', 'onetime', 'Claudine', 'clich', 'constitutes', 'hobbled', 'body', 'Ken', 'untalented', 'Thank', 'innuendo', 'pure', 'vintage', 'school', '3000', 'reviews', 'unaware', 'unknown', 'Shop', 'say', 'surprises', 'range', 'Giler', 'Travolta', 'ten', 'fangs', 'viewer', 'Falk', 'terrified', 'bottle', 'seeing', 'shortly', 'ass', 'trucks', 'Lila', 'HIGH', 'Rather', 'Woody', 'unvarnished', 'term', 'rocked', 'nonsense', 'Steve', 'ambition', 'subsequent', 'Cotter', 'Beautifully', 'bald', 'Babbage', 'Diver', 'Living', 'drama', 'favor', 'Moore', 'Despite', 'howlers', 'gory', 'appearance', 'Acting', 'rings', 'chest', 'put', 'Moreover', '1978', 'Blair', 'hallowed', 'Alpine', 'now', 'manfully', 'fireballs', 'hijinks', 'OF', 'Easy', 'Goodfellows', 'cut', 'waste', 'believe', 'dimension', 'Used', 'Hogwarts', 'discomfort', 'woods', 'bed', 'Loy', 'heroic', 'truths', 'Rhoda', 'jump', 'luck', 'overused', 'Something', 'basket', 'troublesome', 'stoolie', 'mindless', 'animated', 'Grillo', 'Jett', 'working', 'Lombard', 'passively', 'public', 'ha', 'gripping', 'ethnically', 'flock', 'splatter', 'that', 'gore', 'donning', 'else', 'provocative', 'contrary', 'disorder', 'unappealing', 'Blues', 'Reed', 'Jan', 'Hispanic', 'arms', 'include', 'Drivers', 'willpower', '430', 'bra', 'viewbr', 'piling', 'hero', 'Will', 'Wendt', 'Lehmans', 'zombie', 'impossibly', 'ritual', 'JapaneseAmerican', 'genuinely', 'castmember', 'better', 'sheer', 'sewers', 'journalist', 'champion', 'dontIt', 'sheriffs', 'goofball', 'blackening', 'pretend', 'casebr', 'hippies', 'cops', 'wacky', 'Niflheim', 'ads', 'moral', 'recommend', 'plotstrand', 'Newman', 'Business', 'normally', 'kindness', 'cinematography', 'hands', 'cinemabr', 'remind', 'connect', 'downward', 'partially', 'science', 'invaded', 'Halloween', 'lipstick', 'competitionbr', 'forgive', 'de', 'pushes', 'notices', 'personality', 'camping', 'striking', 'headlines', 'Clockwork', 'deliberate', 'unsure', 'auteurs', 'ditto', 'citizens', 'selfishly', 'cooled', 'theaters', 'locations', 'stained', 'Alan', 'easiest', 'indeed', 'emotional', 'stabs', 'hasnt', 'Franklin', 'releasethey', 'surreal', 'Lafia', 'minor', 'floor', 'youve', 'tats', 'neurotic', 'Royston', 'Another', 'years', 'films', 'digestible', 'seemingly', 'pocketbook', 'vampirevery', 'gets', 'Quigley', 'MURDER', 'WLWT', 'tear', 'Nikki', 'Carl', 'eyed', 'Dean', 'contribute', 'tautly', 'Vilarasau', 'your', 'Crime', 'girl', 'virtuosity', 'extras', 'daughters', 'said', 'Carell', 'mixes', 'animation', 'enroute', 'try', 'cooking', 'much', 'ruin', 'cinematographer', 'sucking', 'Emily', 'deserves', 'barber', 'magnific', 'Nature', 'qualify', 'largely', 'DID', 'anyones', 'graduates', 'Tom', 'coverup', 'quickerlike', 'wife', 'wine', 'dismiss', 'Thus', 'Al', 'paytv', 'timesThe', 'told', 'meanings', 'really', 'Cabin', 'Feh', 'CementHead', 'Meandering', 'decide', 'highschool', 'flack', 'cruel', 'held', 'Railroad', 'class', 'accidental', 'Crispin', 'leaves', 'incredibly', 'strayed', 'subjects', 'microfilm', 'thrashing', 'expect', 'purported', 'Granny', 'high', 'tasteless', 'Me', 'crowded', 'Chaykin', 'Front', 'coiffed', 'easily', 'development', 'jumps', 'summer', 'cheer', 'improvisational', 'paratrooper', 'horror', 'touchstone', 'turkey', 'Celebritybr', 'idiot', 'Robitussen', 'CAPTAIN', 'Their', 'attic', 'being', 'celebration', 'threats', 'dautre', 'appreciated', 'softer', 'starring', 'identification', 'silent', 'Mitchell', 'alive', 'Paltrow', 'scene', 'fly', 'Cowan', 'immediately', 'Deconstructing', 'ghastly', 'aint', 'study', 'depths', 'yeah', 'characters', 'existential', 'experience', 'tries', 'ive', 'scrapes', 'bootcamp', 'wrongs', 'feelings', 'lightening', 'hunt', 'vengeful', 'produce', 'decidedly', 'basically', 'draws', 'turning', 'School', 'talk', 'village', 'award', 'second', 'SWV', 'dating', 'Perhaps', 'rationing', 'saved', 'than', 'rather', 'dragged', 'chilling', 'painwhile', 'eighties', 'mock', 'believable', 'expense', 'Nothingbr', 'outright', 'Looking', 'naivety', 'Four', 'confirm', 'amazing', 'distributing', 'displaying', 'Anyways', 'strip', 'Candy', 'due', 'touching', 'romance', 'loves', 'unwatchable', 'buddies', 'fi', 'Otherwise', 'simplifiedbr', 'Storeys', 'stayed', 'pleasant', 'wallsFlavia', 'Pavloskys', 'ultimate', 'Lowry', 'stand', 'shes', 'filmed', 'himbr', 'training', 'Allen', 'unpopular', 'tease', 'lost', 'express', 'detract', 'sad', 'dislikes', 'limits', 'niches', 'Due', 'enhancement', 'ITVbr', 'selections', 'wimpy', 'smalltown', 'Angeles', 'Scenes', 'midnight', 'anytime', 'frightened', 'truth', 'blow', 'invites', 'questions', 'manicure', 'impact', 'forget', 'original', 'Garland', 'lighten', 'trip', 'DVDs', 'confession', 'whatsoever', 'Singapore', 'postSoviet', 'Lolita', 'preproduction', 'correct', 'beloved', 'horses', 'foolish', 'absurd', 'enjoyed', 'danger', 'other', 'masterwork', 'Weird', 'mysterious', 'near', 'Joan', 'spineless', 'check', 'cold', 'weapon', 'enjoyably', 'rerecruited', 'Hurd', 'Wong', 'etc', 'firearms', 'saves', 'Problem', 'listen', 'AfricanAmerican', 'Lack', 'performances', 'distant', 'convent', '2', 'performs', 'sexual', 'Buddys', 'Orange', 'will', 'Beth', 'department', 'portrayed', 'six', 'Cherry', 'discover', 'honesty', 'exaggeration', 'mystery', 'automakers', 'onbr', 'Pinto', 'animals', 'IN', 'colossal', 'rubbed', 'hyperbolic', 'wanton', 'Charlie', 'served', 'underdog', 'line', 'border', 'Did', 'knows', 'happilyeverafter', 'ending', 'flawed', 'Donna', 'pushy', '15', 'None', 'MUST', 'worst', 'Myra', 'mistakes', 'Geeks', 'poses', 'struggle', 'considerable', 'remarkable', 'loss', 'hag', 'since', 'disappointing', 'War', 'sack', 'moderate', 'oldbr', 'Whether', 'shameful', 'theyve', 'rushes', 'sarcasmHOW', 'strained', 'Rosales', 'SO', 'Bruno', 'week', 'waking', 'huffing', 'far', 'Michigan', 'fall', 'married', 'subject', 'depiction', 'Davis', 'consumed', 'Risky', 'electrical', 'prints', 'sweetie', 'poem', 'chemistry', 'fearless', 'flicks', 'ignored', 'favorite', 'watchable', 'eat', 'drunken', 'worry', 'Devo', 'Curiosity', 'FOR', 'gas', 'pain', 'Baxter', 'country', 'Paths', 'groundbreaking', 'cowritten', 'large', 'Blood', 'sisters', 'disappointed', 'Worried', 'miscast', 'sidebar', 'historic', 'sexcomedy', 'girlbr', 'dad', 'crushed', 'Richard', '110', 'Baby', 'McIlwraith', 'angst', 'Silence', 'shoes', 'position', 'warned', 'Winter', 'layers', 'Disgusted', 'Therefore', 'ravenous', 'Los', 'starred', 'listed', 'taught', 'changes', 'Olympic', 'Great', 'calls', 'fails', 'herrape', 'energetic', 'Cassavetes', 'freaks', 'MANY', 'blunders', 'solved', 'scientist', 'SWING', 'A', 'linguistic', 'by', 'Our', 'windows', 'describe', 'suspects', 'five', 'Rock', 'multiple', 'Quite', 'reworked', 'And', 'threat', 'important', 'Dickens', 'Sense', 'skills', 'welldevelopedOverallFlavia', 'independent', 'city', 'throat', 'Skip', 'attractive', 'Characters', 'There', 'Japanese', 'imaginationchallenged', 'VANITIES', 'vindictive', 'Julia', 'HOLIDAY', 'affection', 'watched', 'Buying', 'narrative', 'strung', 'depth', 'onethird', 'Revelation', 'sonbr', 'annoying', 'superior', 'crude', 'authentic', 'indie', 'unrealistic', 'fancy', 'Miriams', 'wish', 'wonderful', 'goodnight', 'impotencebr', 'Is', 'crash', 'la', 'asleep', 'dressing', 'Stitzer', 'creep', 'mustsee', 'cameras', 'seachange', 'awkward', 'Sheen', 'Although', 'realistic', 'lives', 'Clayton', 'local', 'venture', 'shades', 'based', 'real', 'whole', 'Vol', 'entertainent', 'Now', 'Chappellet', 'television', 'Oliver', 'Miscommunication', 'closeups', 'MST3K', 'Carole', 'desires', 'higher', 'facially', 'monster', 'fireplace', 'marriage', 'Nasaan', 'turned', 'considered', 'proves', 'riding', 'trimming', 'relevant', 'dcor', 'bedroom', '50s', 'Waite', 'list', 'takes', 'Ator', 'hes', 'early', 'continue', 'bars', 'intension', 'Carson', 'Elmer', 'Sam', 'intriguing', 'couldve', 'ego', 'tension', 'concert', 'altered', 'pawing', 'take', 'To', 'technical', 'able', 'ironic', 'absorb', 'guilty', 'USO', 'star', 'society', 'fire', 'glad', 'hysterical', 'door', 'commented', 'close', 'cares', 'tapes', 'I', 'ends', 'thing', 'Conan', 'creaking', 'cutting', 'efforts', 'SPOILERS', 'brilliant', 'internment', 'flinches', 'Beware', 'losing', 'read', 'Judd', 'Myrna', 'Navy', 'inability', 'Radio', 'wagon', 'lovable', 'wayside', 'Freed', 'against', 'Intricate', 'insufficiency', 'moralizing', 'hits', 'hundreds', 'place', 'crap', 'allowed', 'announces', 'edge', 'organization', 'hopelessness', 'awayis', 'tempted', 'cave', 'fine', 'rampant', 'hystericallybr', 'pretense', 'someones', 'towards', 'OK', 'reflected', '1', 'dies', 'Tony', 'WHOA', 'combining', 'otherbr', 'son', 'Godards', 'expand', 'vibrant', 'righting', 'jauntiness', 'instead', 'dreary', 'bomb', 'alter', 'melodrama', 'needs', 'again', 'AfroAmerican', 'collection', 'Office', 'souffl', 'syncsound', 'Teresa', 'outstanding', 'reputation', 'Carpenter', 'perhaps', 'doting', 'might', 'provides', 'vehicle', 'attain', 'Manhattan', 'patriotism', 'ensues', 'catch', 'Soprano', 'receiving', 'station', 'corrupted', 'apologise', 'wherever', 'My', 'manner', 'talkingand', 'web', 'detail', 'while', 'shaped', 'Wheres', 'number', 'them', 'itbr', 'centerpiece', 'Rockwell', 'using', 'realize', 'Chan', 'psyche', 'ARGH', 'round', 'Lorenzo', 'explains', 'space', 'probably', 'KKK', 'cheesiest', 'Flowers', 'climax', 'psychopaths', 'resides', 'hoods', 'courses', 'nice', 'admitting', 'commentary', 'Say', 'treacherous', 'heavy', 'curiositybr', 'threatens', 'Days', 'how', 'Monas', 'onlybr', 'form', 'Evidence', 'When', 'gem', 'claim', 'Heteroman', 'handoutbr', 'places', 'idiotic', 'Yeah', 'witnesses', 'annoys', 'member', 'break', 'power', 'territory', 'nightmare', 'Pacinos', 'into', 'laughing', 'fixation', 'Cuckoo', 'voiceover', 'papa', 'went', 'activity', 'forest', 'professional', 'lifelong', 'snake', 'hardships', 'entry', 'fell', 'demented', 'used', 'Stevens', 'rodents', 'overseas', 'daughter', 'Dozor', 'gawdbr', 'reporter', 'Ben', 'Thong', 'live', 'flop', 'grab', 'seem', 'care', 'supporting', '4ever', 'determined', 'Crimes', 'spacedout', 'hiphop', 'clichs', 'atrium', 'prisonbr', 'MacMurray', 'With', 'motion', 'infested', 'convenient', 'jokey', 'bored', 'spouse', 'intimate', 'spiritual', 'misspelled', 'Columbos', 'century', 'refuses', 'connections', 'Arthur', 'established', 'Arizona', 'pining', 'nicebr', 'person', 'Purple']\n",
            "5483\n"
          ]
        }
      ]
    },
    {
      "cell_type": "code",
      "source": [
        "# 단어마다 인덱스 정해주기\n",
        "\n",
        "word_to_index = {v : idx+2 for idx, v in enumerate(voca)}\n",
        "word_to_index['unk'] = 1\n",
        "word_to_index['pad'] = 0\n",
        "\n",
        "word_to_index"
      ],
      "metadata": {
        "id": "fPHwfPsIrlhp"
      },
      "execution_count": null,
      "outputs": []
    },
    {
      "cell_type": "code",
      "source": [
        "# 인코더 데이터 만들기\n",
        "\n",
        "encoded = []\n",
        "\n",
        "for line in tokenized:\n",
        "    temp = []\n",
        "    for w in line:\n",
        "        try:\n",
        "            temp.append(word_to_index[w])\n",
        "        except:\n",
        "            temp.append(word_to_index['unk'])\n",
        "    encoded.append(temp)\n",
        "\n",
        "encoded"
      ],
      "metadata": {
        "id": "0lp4Dl9Ir6HK"
      },
      "execution_count": null,
      "outputs": []
    },
    {
      "cell_type": "code",
      "source": [
        "max_len = max(len(line) for line in encoded)\n",
        "min_len = min(len(line) for line in encoded)\n",
        "print(max_len, min_len)"
      ],
      "metadata": {
        "colab": {
          "base_uri": "https://localhost:8080/"
        },
        "id": "qP88ltxxtwwK",
        "outputId": "4cf313bf-1c24-484e-acea-d0688f8be957"
      },
      "execution_count": 51,
      "outputs": [
        {
          "output_type": "stream",
          "name": "stdout",
          "text": [
            "864 28\n"
          ]
        }
      ]
    },
    {
      "cell_type": "code",
      "source": [
        "# 일반적인 padding 방법. 가장 큰 문자열을 기준으로 padding 적용\n",
        "\n",
        "# for line in encoded:\n",
        "#     if len(line) < max_len:\n",
        "#         line += [word_to_index['pad']] * (max_len - len(line))"
      ],
      "metadata": {
        "id": "bGUu8njWwlYH"
      },
      "execution_count": 16,
      "outputs": []
    },
    {
      "cell_type": "code",
      "source": [
        "# max_len = max(len(line) for line in encoded)\n",
        "# min_len = min(len(line) for line in encoded)\n",
        "# print(max_len, min_len)"
      ],
      "metadata": {
        "colab": {
          "base_uri": "https://localhost:8080/"
        },
        "id": "5XONpddLxKEg",
        "outputId": "1ee5cc95-67a6-4a17-c53a-373856150f39"
      },
      "execution_count": 17,
      "outputs": [
        {
          "output_type": "stream",
          "name": "stdout",
          "text": [
            "864 864\n"
          ]
        }
      ]
    },
    {
      "cell_type": "code",
      "source": [
        "# dataset 만들기\n",
        "\n",
        "# class MyDataset3(Dataset):\n",
        "\n",
        "#     def __init__(self, data):\n",
        "#         self.data = data\n",
        "\n",
        "#     def __len__(self):\n",
        "#         return len(self.data)\n",
        "    \n",
        "#     def __getitem__(self, index):\n",
        "        \n",
        "\n",
        "def custom_collate2(data):\n",
        "    input_line = [torch.tensor(line) for line in data]\n",
        "    input_pad = pad_sequence(input_line, batch_first=True)\n",
        "    return input_pad\n",
        "\n",
        "if __name__ == '__main__':\n",
        "    # dataset = encoded\n",
        "    dataloader = DataLoader(encoded, 5, shuffle = True, collate_fn=custom_collate2)\n",
        "    \n",
        "    for epoch in range(5):\n",
        "        print(f'epochs : {epoch + 1}')\n",
        "        for batch in dataloader:\n",
        "            print(batch.shape)\n",
        "    "
      ],
      "metadata": {
        "colab": {
          "base_uri": "https://localhost:8080/"
        },
        "id": "cvFJcg-ixWCp",
        "outputId": "87dea3d1-19c9-490b-ca15-25b478c7f6ff"
      },
      "execution_count": 56,
      "outputs": [
        {
          "output_type": "stream",
          "name": "stdout",
          "text": [
            "epochs : 1\n",
            "torch.Size([5, 196])\n",
            "torch.Size([5, 724])\n",
            "torch.Size([5, 760])\n",
            "torch.Size([5, 317])\n",
            "torch.Size([5, 427])\n",
            "torch.Size([5, 352])\n",
            "torch.Size([5, 649])\n",
            "torch.Size([5, 719])\n",
            "torch.Size([5, 523])\n",
            "torch.Size([5, 288])\n",
            "torch.Size([5, 360])\n",
            "torch.Size([5, 810])\n",
            "torch.Size([5, 603])\n",
            "torch.Size([5, 545])\n",
            "torch.Size([5, 227])\n",
            "torch.Size([5, 206])\n",
            "torch.Size([5, 370])\n",
            "torch.Size([5, 391])\n",
            "torch.Size([5, 235])\n",
            "torch.Size([5, 864])\n",
            "epochs : 2\n",
            "torch.Size([5, 719])\n",
            "torch.Size([5, 204])\n",
            "torch.Size([5, 810])\n",
            "torch.Size([5, 317])\n",
            "torch.Size([5, 496])\n",
            "torch.Size([5, 420])\n",
            "torch.Size([5, 760])\n",
            "torch.Size([5, 291])\n",
            "torch.Size([5, 590])\n",
            "torch.Size([5, 370])\n",
            "torch.Size([5, 308])\n",
            "torch.Size([5, 864])\n",
            "torch.Size([5, 352])\n",
            "torch.Size([5, 603])\n",
            "torch.Size([5, 523])\n",
            "torch.Size([5, 182])\n",
            "torch.Size([5, 545])\n",
            "torch.Size([5, 724])\n",
            "torch.Size([5, 427])\n",
            "torch.Size([5, 317])\n",
            "epochs : 3\n",
            "torch.Size([5, 427])\n",
            "torch.Size([5, 864])\n",
            "torch.Size([5, 192])\n",
            "torch.Size([5, 225])\n",
            "torch.Size([5, 760])\n",
            "torch.Size([5, 291])\n",
            "torch.Size([5, 603])\n",
            "torch.Size([5, 496])\n",
            "torch.Size([5, 308])\n",
            "torch.Size([5, 359])\n",
            "torch.Size([5, 523])\n",
            "torch.Size([5, 263])\n",
            "torch.Size([5, 288])\n",
            "torch.Size([5, 352])\n",
            "torch.Size([5, 545])\n",
            "torch.Size([5, 719])\n",
            "torch.Size([5, 810])\n",
            "torch.Size([5, 317])\n",
            "torch.Size([5, 649])\n",
            "torch.Size([5, 145])\n",
            "epochs : 4\n",
            "torch.Size([5, 360])\n",
            "torch.Size([5, 308])\n",
            "torch.Size([5, 308])\n",
            "torch.Size([5, 420])\n",
            "torch.Size([5, 590])\n",
            "torch.Size([5, 760])\n",
            "torch.Size([5, 864])\n",
            "torch.Size([5, 603])\n",
            "torch.Size([5, 810])\n",
            "torch.Size([5, 496])\n",
            "torch.Size([5, 288])\n",
            "torch.Size([5, 317])\n",
            "torch.Size([5, 350])\n",
            "torch.Size([5, 291])\n",
            "torch.Size([5, 724])\n",
            "torch.Size([5, 137])\n",
            "torch.Size([5, 719])\n",
            "torch.Size([5, 206])\n",
            "torch.Size([5, 352])\n",
            "torch.Size([5, 523])\n",
            "epochs : 5\n",
            "torch.Size([5, 760])\n",
            "torch.Size([5, 496])\n",
            "torch.Size([5, 288])\n",
            "torch.Size([5, 220])\n",
            "torch.Size([5, 163])\n",
            "torch.Size([5, 719])\n",
            "torch.Size([5, 590])\n",
            "torch.Size([5, 523])\n",
            "torch.Size([5, 420])\n",
            "torch.Size([5, 545])\n",
            "torch.Size([5, 284])\n",
            "torch.Size([5, 359])\n",
            "torch.Size([5, 810])\n",
            "torch.Size([5, 603])\n",
            "torch.Size([5, 864])\n",
            "torch.Size([5, 154])\n",
            "torch.Size([5, 235])\n",
            "torch.Size([5, 360])\n",
            "torch.Size([5, 649])\n",
            "torch.Size([5, 391])\n"
          ]
        }
      ]
    },
    {
      "cell_type": "code",
      "source": [
        "from torch.nn.utils.rnn import pad_sequence\n",
        "\n",
        "def custom_collate(data):\n",
        "    inputs = [torch.tensor(line) for line in data]\n",
        "    inputs = pad_sequence(inputs, batch_first=True)\n",
        "\n",
        "    return inputs\n",
        "\n",
        "if __name__ == '__main__':\n",
        "    dataloader = DataLoader(encoded, 5, shuffle = True, collate_fn=custom_collate)\n",
        "    \n",
        "    for epoch in range(5):\n",
        "        print(f'epochs : {epoch + 1}')\n",
        "        for batch in dataloader:\n",
        "            print(batch.shape)\n",
        "\n"
      ],
      "metadata": {
        "colab": {
          "base_uri": "https://localhost:8080/"
        },
        "id": "Xwg5H-g5VvVI",
        "outputId": "cef2b8db-f945-4383-b51a-3e8e1ee2ba31"
      },
      "execution_count": 26,
      "outputs": [
        {
          "output_type": "stream",
          "name": "stdout",
          "text": [
            "epochs : 1\n",
            "torch.Size([5, 427])\n",
            "torch.Size([5, 724])\n",
            "torch.Size([5, 545])\n",
            "torch.Size([5, 350])\n",
            "torch.Size([5, 523])\n",
            "torch.Size([5, 590])\n",
            "torch.Size([5, 288])\n",
            "torch.Size([5, 203])\n",
            "torch.Size([5, 370])\n",
            "torch.Size([5, 239])\n",
            "torch.Size([5, 496])\n",
            "torch.Size([5, 760])\n",
            "torch.Size([5, 810])\n",
            "torch.Size([5, 603])\n",
            "torch.Size([5, 864])\n",
            "torch.Size([5, 420])\n",
            "torch.Size([5, 360])\n",
            "torch.Size([5, 719])\n",
            "torch.Size([5, 196])\n",
            "torch.Size([5, 649])\n",
            "epochs : 2\n",
            "torch.Size([5, 288])\n",
            "torch.Size([5, 724])\n",
            "torch.Size([5, 810])\n",
            "torch.Size([5, 370])\n",
            "torch.Size([5, 263])\n",
            "torch.Size([5, 523])\n",
            "torch.Size([5, 719])\n",
            "torch.Size([5, 317])\n",
            "torch.Size([5, 864])\n",
            "torch.Size([5, 150])\n",
            "torch.Size([5, 427])\n",
            "torch.Size([5, 545])\n",
            "torch.Size([5, 220])\n",
            "torch.Size([5, 359])\n",
            "torch.Size([5, 420])\n",
            "torch.Size([5, 590])\n",
            "torch.Size([5, 603])\n",
            "torch.Size([5, 308])\n",
            "torch.Size([5, 649])\n",
            "torch.Size([5, 203])\n",
            "epochs : 3\n",
            "torch.Size([5, 350])\n",
            "torch.Size([5, 810])\n",
            "torch.Size([5, 206])\n",
            "torch.Size([5, 590])\n",
            "torch.Size([5, 864])\n",
            "torch.Size([5, 391])\n",
            "torch.Size([5, 291])\n",
            "torch.Size([5, 317])\n",
            "torch.Size([5, 204])\n",
            "torch.Size([5, 649])\n",
            "torch.Size([5, 133])\n",
            "torch.Size([5, 496])\n",
            "torch.Size([5, 317])\n",
            "torch.Size([5, 760])\n",
            "torch.Size([5, 303])\n",
            "torch.Size([5, 359])\n",
            "torch.Size([5, 427])\n",
            "torch.Size([5, 523])\n",
            "torch.Size([5, 719])\n",
            "torch.Size([5, 370])\n",
            "epochs : 4\n",
            "torch.Size([5, 359])\n",
            "torch.Size([5, 235])\n",
            "torch.Size([5, 291])\n",
            "torch.Size([5, 649])\n",
            "torch.Size([5, 308])\n",
            "torch.Size([5, 360])\n",
            "torch.Size([5, 284])\n",
            "torch.Size([5, 263])\n",
            "torch.Size([5, 352])\n",
            "torch.Size([5, 206])\n",
            "torch.Size([5, 370])\n",
            "torch.Size([5, 184])\n",
            "torch.Size([5, 864])\n",
            "torch.Size([5, 724])\n",
            "torch.Size([5, 603])\n",
            "torch.Size([5, 206])\n",
            "torch.Size([5, 760])\n",
            "torch.Size([5, 810])\n",
            "torch.Size([5, 391])\n",
            "torch.Size([5, 350])\n",
            "epochs : 5\n",
            "torch.Size([5, 220])\n",
            "torch.Size([5, 724])\n",
            "torch.Size([5, 308])\n",
            "torch.Size([5, 303])\n",
            "torch.Size([5, 391])\n",
            "torch.Size([5, 649])\n",
            "torch.Size([5, 317])\n",
            "torch.Size([5, 864])\n",
            "torch.Size([5, 227])\n",
            "torch.Size([5, 590])\n",
            "torch.Size([5, 760])\n",
            "torch.Size([5, 523])\n",
            "torch.Size([5, 545])\n",
            "torch.Size([5, 182])\n",
            "torch.Size([5, 360])\n",
            "torch.Size([5, 284])\n",
            "torch.Size([5, 359])\n",
            "torch.Size([5, 810])\n",
            "torch.Size([5, 179])\n",
            "torch.Size([5, 350])\n"
          ]
        }
      ]
    },
    {
      "cell_type": "code",
      "source": [
        ""
      ],
      "metadata": {
        "id": "8mYK4vtaWL4B"
      },
      "execution_count": null,
      "outputs": []
    },
    {
      "cell_type": "code",
      "source": [
        ""
      ],
      "metadata": {
        "id": "dDjwa3kRV58w"
      },
      "execution_count": null,
      "outputs": []
    }
  ]
}