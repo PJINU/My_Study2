{
  "nbformat": 4,
  "nbformat_minor": 0,
  "metadata": {
    "colab": {
      "name": "\bfeature_map_data_analysis.ipynb",
      "provenance": []
    },
    "kernelspec": {
      "name": "python3",
      "display_name": "Python 3"
    },
    "language_info": {
      "name": "python"
    }
  },
  "cells": [
    {
      "cell_type": "markdown",
      "source": [
        "### \bfeature map 데이터 분석하기\n",
        "- batch마다 min, max 값 확인하기\n",
        "- batch마다 l2norm 확인하기"
      ],
      "metadata": {
        "id": "N2jgaaIgm18F"
      }
    },
    {
      "cell_type": "code",
      "execution_count": 1,
      "metadata": {
        "id": "WT05ueyXHnZx"
      },
      "outputs": [],
      "source": [
        "import torchvision\n",
        "import torch.nn\n",
        "import numpy as np"
      ]
    },
    {
      "cell_type": "code",
      "source": [
        "a = torch.randint(0, 20, (10,3,3,4), dtype=torch.float32)\n",
        "# print(a, a.shape)\n",
        "print(a.view(a.size(0), -1), a.view(a.size(0), -1).shape)"
      ],
      "metadata": {
        "colab": {
          "base_uri": "https://localhost:8080/"
        },
        "id": "Acym-3wgHqgv",
        "outputId": "4a1e0fd5-6fdc-488c-bb54-cc8ce9fd3cb9"
      },
      "execution_count": 4,
      "outputs": [
        {
          "output_type": "stream",
          "name": "stdout",
          "text": [
            "tensor([[ 7.,  2., 18.,  3., 19.,  8., 11., 12.,  6., 15., 11., 11.,  3., 15.,\n",
            "          1.,  7.,  3.,  6., 11.,  9., 11., 11., 19., 13.,  4., 17., 13., 11.,\n",
            "          8., 13., 13., 18., 18., 10., 17.,  4.],\n",
            "        [ 7.,  8.,  3., 18., 14.,  5.,  8.,  2.,  1.,  7.,  9., 16., 15.,  4.,\n",
            "         12., 16., 11.,  3.,  3., 17.,  6., 11.,  3.,  7.,  7., 13., 18., 18.,\n",
            "         12.,  7., 18., 19., 18., 11.,  3., 13.],\n",
            "        [ 6.,  6.,  9., 14.,  3.,  3., 19.,  9., 11., 14.,  0., 13.,  3.,  3.,\n",
            "         16.,  5.,  2., 19.,  1.,  8.,  8.,  6.,  0., 10., 17., 18., 11.,  1.,\n",
            "          0.,  0.,  7.,  6.,  9.,  6., 17., 16.],\n",
            "        [13., 15.,  4.,  1., 16., 12.,  9., 17., 11., 14.,  5., 12.,  3.,  1.,\n",
            "          8.,  0.,  4.,  7.,  5., 17., 13.,  5.,  2.,  4.,  4.,  8., 17.,  7.,\n",
            "         13.,  3.,  2.,  5.,  7.,  0.,  9.,  5.],\n",
            "        [ 4., 10., 18.,  9., 15.,  1., 17., 17.,  5., 11., 12.,  6., 16., 18.,\n",
            "         17.,  5.,  6.,  2., 17., 12.,  4., 17., 12., 13.,  9., 12., 15., 11.,\n",
            "          3.,  4.,  1., 10.,  4.,  8.,  6.,  9.],\n",
            "        [11., 17.,  3.,  0.,  1., 18.,  4.,  8.,  8., 17., 16., 15., 10., 16.,\n",
            "          1.,  2.,  7., 16.,  0.,  4., 16., 19., 17., 13.,  7.,  6., 16.,  7.,\n",
            "         18.,  5., 17., 13., 12., 13., 19.,  8.],\n",
            "        [ 3., 10.,  4., 19., 14., 18.,  0.,  1., 10.,  0., 13.,  4., 10.,  8.,\n",
            "         18.,  0.,  4.,  8., 18.,  6.,  6.,  4., 10.,  7., 18., 19.,  3., 15.,\n",
            "          0., 12.,  9., 14.,  4., 13.,  5.,  4.],\n",
            "        [ 4.,  5., 14., 13., 18.,  3., 11., 11., 16.,  4., 16.,  9.,  8., 10.,\n",
            "          9., 14.,  7., 10., 11., 13.,  1., 13.,  0., 15., 13.,  5., 12., 15.,\n",
            "          5.,  3., 11.,  7.,  8., 17.,  8., 16.],\n",
            "        [16.,  4.,  7.,  8.,  4.,  2., 14.,  0., 10.,  2.,  6.,  0., 12., 17.,\n",
            "          5., 10.,  4.,  8.,  9., 11.,  4., 16.,  7., 12.,  7.,  4., 14.,  7.,\n",
            "         19.,  7., 14.,  1.,  8., 14., 18., 17.],\n",
            "        [14.,  1.,  0., 14., 10.,  0., 16., 13.,  1.,  2.,  0., 14.,  1.,  9.,\n",
            "         11., 10., 11., 16.,  6., 16.,  1., 19., 13., 13., 10., 18., 17.,  6.,\n",
            "         16., 17.,  5., 12., 13., 15.,  2.,  3.]]) torch.Size([10, 36])\n"
          ]
        }
      ]
    },
    {
      "cell_type": "code",
      "source": [
        "print(torch.max(a.view(a.size(0),-1), dim=1))\n",
        "print(torch.min(a.view(a.size(0),-1), dim=1))"
      ],
      "metadata": {
        "colab": {
          "base_uri": "https://localhost:8080/"
        },
        "id": "M3kitqXeH1xJ",
        "outputId": "0abe1b76-dec4-4d37-e567-98aa504efb19"
      },
      "execution_count": 51,
      "outputs": [
        {
          "output_type": "stream",
          "name": "stdout",
          "text": [
            "torch.return_types.max(\n",
            "values=tensor([19., 19., 17., 19., 18., 19., 18., 19., 19., 19.]),\n",
            "indices=tensor([13,  2, 23, 13,  8,  9, 15, 26, 19, 14]))\n",
            "torch.return_types.min(\n",
            "values=tensor([0., 1., 0., 0., 0., 0., 0., 0., 1., 0.]),\n",
            "indices=tensor([ 7, 13,  5,  9,  0, 22, 28,  5, 35,  5]))\n"
          ]
        }
      ]
    },
    {
      "cell_type": "code",
      "source": [
        "torch.linalg.vector_norm(a.view(a.size(0),-1), dim=1)"
      ],
      "metadata": {
        "colab": {
          "base_uri": "https://localhost:8080/"
        },
        "id": "p-s_tyTHH5ME",
        "outputId": "a2a1275c-b8dd-4b81-ee5b-02141ef47178"
      },
      "execution_count": 46,
      "outputs": [
        {
          "output_type": "execute_result",
          "data": {
            "text/plain": [
              "tensor([341.2301, 293.6154, 379.5629, 318.2719, 386.9625, 365.8264, 325.2061,\n",
              "        349.6341, 347.9195, 356.6048])"
            ]
          },
          "metadata": {},
          "execution_count": 46
        }
      ]
    },
    {
      "cell_type": "code",
      "source": [
        "torch.amax(a, dim=(1,2,3))"
      ],
      "metadata": {
        "colab": {
          "base_uri": "https://localhost:8080/"
        },
        "id": "tGMi4y89PEMc",
        "outputId": "71206248-45a0-4a88-9b7c-22e90ff3039a"
      },
      "execution_count": 6,
      "outputs": [
        {
          "output_type": "execute_result",
          "data": {
            "text/plain": [
              "tensor([19., 19., 19., 17., 18., 19., 19., 18., 19., 19.])"
            ]
          },
          "metadata": {},
          "execution_count": 6
        }
      ]
    },
    {
      "cell_type": "code",
      "source": [
        ""
      ],
      "metadata": {
        "id": "DJ3Xt6v9SNDC"
      },
      "execution_count": null,
      "outputs": []
    }
  ]
}