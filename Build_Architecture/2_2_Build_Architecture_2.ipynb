{
  "nbformat": 4,
  "nbformat_minor": 0,
  "metadata": {
    "colab": {
      "name": "2_2_Build_Architecture_2.ipynb",
      "provenance": [],
      "mount_file_id": "1F3uDgbDwW26Izo1GUzBmcNSTyVHG_8gl",
      "authorship_tag": "ABX9TyPDGpNtfeNyebr6JOKmshj7"
    },
    "kernelspec": {
      "name": "python3",
      "display_name": "Python 3"
    },
    "language_info": {
      "name": "python"
    }
  },
  "cells": [
    {
      "cell_type": "markdown",
      "source": [
        "### Build Architecture2 - 모델 디버그를 위한 shape출력\n",
        "- 레이어가 많아질 경우 어떻게 할 것인가?\n",
        "- 모든 레이어를 다 작성할 것인지?\n",
        "- 디버그를 위한 shape 출력문은 어떻게 만들 것인지?\n",
        "- 여러개의 레이어를 통과시킨 후 merge할 경우"
      ],
      "metadata": {
        "id": "g3_vLHYFyd6Y"
      }
    },
    {
      "cell_type": "code",
      "execution_count": 1,
      "metadata": {
        "id": "v49Sp7BrUJmv"
      },
      "outputs": [],
      "source": [
        "import torch\n",
        "import torch.nn as nn\n",
        "import numpy as np"
      ]
    },
    {
      "cell_type": "code",
      "source": [
        "# 임의의 데이터 생성\n",
        "\n",
        "input_data = torch.randn((1,3,244,244))\n",
        "\n",
        "print(input_data.shape)\n",
        "print(input_data.dtype)"
      ],
      "metadata": {
        "colab": {
          "base_uri": "https://localhost:8080/"
        },
        "id": "ANuzUO-EUS1y",
        "outputId": "94d67a50-9f61-42ee-ad99-b0ac9b0e3f3d"
      },
      "execution_count": 2,
      "outputs": [
        {
          "output_type": "stream",
          "name": "stdout",
          "text": [
            "torch.Size([1, 3, 244, 244])\n",
            "torch.float32\n"
          ]
        }
      ]
    },
    {
      "cell_type": "markdown",
      "source": [
        "### 리스트 활용\n",
        "- 리스트(or nn.ModuleList)에 layer를 담아 활용하기\n",
        "- forward 함수(디버그)\n",
        "    - for문을 통해 리스트에서 레이어를 하나씩 가져오고 -> 각 레이어마다 shape을 확인\n",
        "\n",
        "- forward 함수(디버그 완료 후)\n",
        "    - nn.Sequential"
      ],
      "metadata": {
        "id": "J4mIzQRTsDFR"
      }
    },
    {
      "cell_type": "code",
      "source": [
        "# ModuleList를 활용\n",
        "\n",
        "class CNN(nn.Module):\n",
        "    def __init__(self):\n",
        "        super().__init__()\n",
        "        self.layers = [nn.Conv2d(3,5,kernel_size=3),\n",
        "                  nn.ReLU()]\n",
        "        self.layers2 = [nn.Conv2d(3,7,kernel_size=3),\n",
        "                   nn.Conv2d(7,5,kernel_size=1),\n",
        "                   nn.ReLU()]\n",
        "\n",
        "        # 두 개의 레이어에 각각 통과시킨 후 merge하기\n",
        "        self.modules1 = nn.ModuleList(self.layers)\n",
        "        self.modules2 = nn.ModuleList(self.layers2)\n",
        "\n",
        "        self.seq1 = nn.Sequential(*self.layers)\n",
        "        self.seq2 = nn.Sequential(*self.layers2)\n",
        "\n",
        "        self.fc1 = nn.Linear(5*242*242, 512)\n",
        "\n",
        "    \n",
        "    def forward(self, x):\n",
        "        for idx, module1 in enumerate(self.modules1):\n",
        "            if idx == 0:\n",
        "                x1 =  module1(x)\n",
        "            else:\n",
        "                x1 = module1(x1)\n",
        "            print('x1.shape :', x1.shape)\n",
        "\n",
        "        for idx, module2 in enumerate(self.modules2):\n",
        "            if idx == 0:\n",
        "                x2 = module2(x)\n",
        "            else:\n",
        "                x2 = module2(x2)\n",
        "            print('x2 :', x2.shape)\n",
        "\n",
        "        # merge(addtion)\n",
        "        conv_out = x1 + x2\n",
        "        print('conv_out :', conv_out.shape)\n",
        "\n",
        "        fc_input = conv_out.view(conv_out.size(0), -1)\n",
        "        print('fc_input:', fc_input.shape)\n",
        "        fc_output = self.fc1(fc_input)\n",
        "        print(fc_output.shape)\n",
        "\n",
        "        return fc_output"
      ],
      "metadata": {
        "id": "y20e5zsRi0JC"
      },
      "execution_count": 3,
      "outputs": []
    },
    {
      "cell_type": "code",
      "source": [
        "model = CNN()\n",
        "model"
      ],
      "metadata": {
        "colab": {
          "base_uri": "https://localhost:8080/"
        },
        "id": "LQT7u4RxmYlJ",
        "outputId": "69d024cd-a076-4904-9b66-b2717a69cf63"
      },
      "execution_count": 4,
      "outputs": [
        {
          "output_type": "execute_result",
          "data": {
            "text/plain": [
              "CNN(\n",
              "  (modules1): ModuleList(\n",
              "    (0): Conv2d(3, 5, kernel_size=(3, 3), stride=(1, 1))\n",
              "    (1): ReLU()\n",
              "  )\n",
              "  (modules2): ModuleList(\n",
              "    (0): Conv2d(3, 7, kernel_size=(3, 3), stride=(1, 1))\n",
              "    (1): Conv2d(7, 5, kernel_size=(1, 1), stride=(1, 1))\n",
              "    (2): ReLU()\n",
              "  )\n",
              "  (seq1): Sequential(\n",
              "    (0): Conv2d(3, 5, kernel_size=(3, 3), stride=(1, 1))\n",
              "    (1): ReLU()\n",
              "  )\n",
              "  (seq2): Sequential(\n",
              "    (0): Conv2d(3, 7, kernel_size=(3, 3), stride=(1, 1))\n",
              "    (1): Conv2d(7, 5, kernel_size=(1, 1), stride=(1, 1))\n",
              "    (2): ReLU()\n",
              "  )\n",
              "  (fc1): Linear(in_features=292820, out_features=512, bias=True)\n",
              ")"
            ]
          },
          "metadata": {},
          "execution_count": 4
        }
      ]
    },
    {
      "cell_type": "code",
      "source": [
        "result = model(input_data)\n",
        "result"
      ],
      "metadata": {
        "id": "PIiiSrrVmfec"
      },
      "execution_count": null,
      "outputs": []
    },
    {
      "cell_type": "markdown",
      "source": [
        "### Cat n Dog 데이터셋 실습"
      ],
      "metadata": {
        "id": "pNxfmY76uz6n"
      }
    },
    {
      "cell_type": "code",
      "source": [
        "import os\n",
        "import pandas as pd\n",
        "\n",
        "def make_cnd_dataframe():\n",
        "    paths = []\n",
        "    dataset_type = []\n",
        "    labels = []\n",
        "    for dirname, _, filenames in os.walk('/content/drive/MyDrive/고모부_머신러닝/dogncat'):\n",
        "        for filename in filenames:\n",
        "            \n",
        "            if '.jpg' in filename:\n",
        "                filepath = dirname + '/' + filename\n",
        "                paths.append(filepath)\n",
        "\n",
        "            if '/training_set' in filepath:\n",
        "                dataset_type.append('train')\n",
        "\n",
        "            elif '/test_set' in filepath:\n",
        "                dataset_type.append('test')\n",
        "\n",
        "            else:\n",
        "                dataset_type.append('N/A')\n",
        "\n",
        "            if 'dogs' in filepath:\n",
        "                labels.append('DOG')\n",
        "            \n",
        "            elif 'cats' in filepath:\n",
        "                labels.append('CAT')\n",
        "            \n",
        "            else:\n",
        "                labels.append('N/A')\n",
        "    \n",
        "    data_df = pd.DataFrame({'Path' : paths, 'Type' : dataset_type, 'Label' : labels})\n",
        "\n",
        "    return data_df\n",
        "\n",
        "        "
      ],
      "metadata": {
        "id": "tPAUH9rju38V"
      },
      "execution_count": 21,
      "outputs": []
    },
    {
      "cell_type": "code",
      "source": [
        "def make_dataframe_catndog():    \n",
        "    paths = []\n",
        "    dataset_type = []\n",
        "    label = []\n",
        "\n",
        "    for dirname, _, filenames in os.walk('/content/drive/MyDrive/고모부_머신러닝/dogncat'):\n",
        "        for filename in filenames:\n",
        "            if '.jpg' in filename:\n",
        "                file_path = dirname+'/'+filename\n",
        "                paths.append(file_path)\n",
        "\n",
        "            if '/training_set' in file_path:\n",
        "                dataset_type.append('train')\n",
        "\n",
        "            elif '/test_set' in file_path:\n",
        "                dataset_type.append('test')\n",
        "\n",
        "            else:\n",
        "                dataset_type.append('N/A') \n",
        "\n",
        "            if 'dogs' in file_path:\n",
        "                label.append('DOG')\n",
        "\n",
        "            elif 'cats' in file_path:\n",
        "                label.append('CAT')\n",
        "\n",
        "            else:\n",
        "                label.append('N/A')\n",
        "        \n",
        "    df = pd.DataFrame({'path' : file_path, 'dataset' : dataset_type, 'label' : label})\n",
        "    return df"
      ],
      "metadata": {
        "id": "tV8W_JHt0tZ6"
      },
      "execution_count": 25,
      "outputs": []
    },
    {
      "cell_type": "code",
      "source": [
        "cnd_df = make_dataframe_catndog()\n",
        "\n",
        "cnd_df.head()"
      ],
      "metadata": {
        "colab": {
          "base_uri": "https://localhost:8080/",
          "height": 206
        },
        "id": "6NXf9Ko7xCbb",
        "outputId": "86bcdb07-09cf-4c3a-c288-319da0aa573b"
      },
      "execution_count": 26,
      "outputs": [
        {
          "output_type": "execute_result",
          "data": {
            "text/plain": [
              "                                                path dataset label\n",
              "0  /content/drive/MyDrive/고모부_머신러닝/dognc...    test   CAT\n",
              "1  /content/drive/MyDrive/고모부_머신러닝/dognc...    test   CAT\n",
              "2  /content/drive/MyDrive/고모부_머신러닝/dognc...    test   CAT\n",
              "3  /content/drive/MyDrive/고모부_머신러닝/dognc...    test   CAT\n",
              "4  /content/drive/MyDrive/고모부_머신러닝/dognc...    test   CAT"
            ],
            "text/html": [
              "\n",
              "  <div id=\"df-8c536070-12fe-41fa-b200-790396a2b474\">\n",
              "    <div class=\"colab-df-container\">\n",
              "      <div>\n",
              "<style scoped>\n",
              "    .dataframe tbody tr th:only-of-type {\n",
              "        vertical-align: middle;\n",
              "    }\n",
              "\n",
              "    .dataframe tbody tr th {\n",
              "        vertical-align: top;\n",
              "    }\n",
              "\n",
              "    .dataframe thead th {\n",
              "        text-align: right;\n",
              "    }\n",
              "</style>\n",
              "<table border=\"1\" class=\"dataframe\">\n",
              "  <thead>\n",
              "    <tr style=\"text-align: right;\">\n",
              "      <th></th>\n",
              "      <th>path</th>\n",
              "      <th>dataset</th>\n",
              "      <th>label</th>\n",
              "    </tr>\n",
              "  </thead>\n",
              "  <tbody>\n",
              "    <tr>\n",
              "      <th>0</th>\n",
              "      <td>/content/drive/MyDrive/고모부_머신러닝/dognc...</td>\n",
              "      <td>test</td>\n",
              "      <td>CAT</td>\n",
              "    </tr>\n",
              "    <tr>\n",
              "      <th>1</th>\n",
              "      <td>/content/drive/MyDrive/고모부_머신러닝/dognc...</td>\n",
              "      <td>test</td>\n",
              "      <td>CAT</td>\n",
              "    </tr>\n",
              "    <tr>\n",
              "      <th>2</th>\n",
              "      <td>/content/drive/MyDrive/고모부_머신러닝/dognc...</td>\n",
              "      <td>test</td>\n",
              "      <td>CAT</td>\n",
              "    </tr>\n",
              "    <tr>\n",
              "      <th>3</th>\n",
              "      <td>/content/drive/MyDrive/고모부_머신러닝/dognc...</td>\n",
              "      <td>test</td>\n",
              "      <td>CAT</td>\n",
              "    </tr>\n",
              "    <tr>\n",
              "      <th>4</th>\n",
              "      <td>/content/drive/MyDrive/고모부_머신러닝/dognc...</td>\n",
              "      <td>test</td>\n",
              "      <td>CAT</td>\n",
              "    </tr>\n",
              "  </tbody>\n",
              "</table>\n",
              "</div>\n",
              "      <button class=\"colab-df-convert\" onclick=\"convertToInteractive('df-8c536070-12fe-41fa-b200-790396a2b474')\"\n",
              "              title=\"Convert this dataframe to an interactive table.\"\n",
              "              style=\"display:none;\">\n",
              "        \n",
              "  <svg xmlns=\"http://www.w3.org/2000/svg\" height=\"24px\"viewBox=\"0 0 24 24\"\n",
              "       width=\"24px\">\n",
              "    <path d=\"M0 0h24v24H0V0z\" fill=\"none\"/>\n",
              "    <path d=\"M18.56 5.44l.94 2.06.94-2.06 2.06-.94-2.06-.94-.94-2.06-.94 2.06-2.06.94zm-11 1L8.5 8.5l.94-2.06 2.06-.94-2.06-.94L8.5 2.5l-.94 2.06-2.06.94zm10 10l.94 2.06.94-2.06 2.06-.94-2.06-.94-.94-2.06-.94 2.06-2.06.94z\"/><path d=\"M17.41 7.96l-1.37-1.37c-.4-.4-.92-.59-1.43-.59-.52 0-1.04.2-1.43.59L10.3 9.45l-7.72 7.72c-.78.78-.78 2.05 0 2.83L4 21.41c.39.39.9.59 1.41.59.51 0 1.02-.2 1.41-.59l7.78-7.78 2.81-2.81c.8-.78.8-2.07 0-2.86zM5.41 20L4 18.59l7.72-7.72 1.47 1.35L5.41 20z\"/>\n",
              "  </svg>\n",
              "      </button>\n",
              "      \n",
              "  <style>\n",
              "    .colab-df-container {\n",
              "      display:flex;\n",
              "      flex-wrap:wrap;\n",
              "      gap: 12px;\n",
              "    }\n",
              "\n",
              "    .colab-df-convert {\n",
              "      background-color: #E8F0FE;\n",
              "      border: none;\n",
              "      border-radius: 50%;\n",
              "      cursor: pointer;\n",
              "      display: none;\n",
              "      fill: #1967D2;\n",
              "      height: 32px;\n",
              "      padding: 0 0 0 0;\n",
              "      width: 32px;\n",
              "    }\n",
              "\n",
              "    .colab-df-convert:hover {\n",
              "      background-color: #E2EBFA;\n",
              "      box-shadow: 0px 1px 2px rgba(60, 64, 67, 0.3), 0px 1px 3px 1px rgba(60, 64, 67, 0.15);\n",
              "      fill: #174EA6;\n",
              "    }\n",
              "\n",
              "    [theme=dark] .colab-df-convert {\n",
              "      background-color: #3B4455;\n",
              "      fill: #D2E3FC;\n",
              "    }\n",
              "\n",
              "    [theme=dark] .colab-df-convert:hover {\n",
              "      background-color: #434B5C;\n",
              "      box-shadow: 0px 1px 3px 1px rgba(0, 0, 0, 0.15);\n",
              "      filter: drop-shadow(0px 1px 2px rgba(0, 0, 0, 0.3));\n",
              "      fill: #FFFFFF;\n",
              "    }\n",
              "  </style>\n",
              "\n",
              "      <script>\n",
              "        const buttonEl =\n",
              "          document.querySelector('#df-8c536070-12fe-41fa-b200-790396a2b474 button.colab-df-convert');\n",
              "        buttonEl.style.display =\n",
              "          google.colab.kernel.accessAllowed ? 'block' : 'none';\n",
              "\n",
              "        async function convertToInteractive(key) {\n",
              "          const element = document.querySelector('#df-8c536070-12fe-41fa-b200-790396a2b474');\n",
              "          const dataTable =\n",
              "            await google.colab.kernel.invokeFunction('convertToInteractive',\n",
              "                                                     [key], {});\n",
              "          if (!dataTable) return;\n",
              "\n",
              "          const docLinkHtml = 'Like what you see? Visit the ' +\n",
              "            '<a target=\"_blank\" href=https://colab.research.google.com/notebooks/data_table.ipynb>data table notebook</a>'\n",
              "            + ' to learn more about interactive tables.';\n",
              "          element.innerHTML = '';\n",
              "          dataTable['output_type'] = 'display_data';\n",
              "          await google.colab.output.renderOutput(dataTable, element);\n",
              "          const docLink = document.createElement('div');\n",
              "          docLink.innerHTML = docLinkHtml;\n",
              "          element.appendChild(docLink);\n",
              "        }\n",
              "      </script>\n",
              "    </div>\n",
              "  </div>\n",
              "  "
            ]
          },
          "metadata": {},
          "execution_count": 26
        }
      ]
    },
    {
      "cell_type": "code",
      "source": [
        "train_df = cnd_df[cnd_df['dataset'] == 'train']\n",
        "test_df = cnd_df[cnd_df['dataset'] == 'test']\n",
        "\n",
        "train_path = train_df['path'].values\n",
        "test_path = test_df['path'].values\n",
        "\n",
        "train_label = train_df['label'].values\n",
        "test_label = test_df['label'].values"
      ],
      "metadata": {
        "id": "sKp5R02V2y8E"
      },
      "execution_count": 27,
      "outputs": []
    },
    {
      "cell_type": "code",
      "source": [
        "# 데이터셋 만들기\n",
        "\n",
        "from torch.utils.data import Dataset,DataLoader\n",
        "import cv2\n",
        "\n",
        "class CndDataset(Dataset):\n",
        "    def __init__(self, paths, labels):\n",
        "        super(CndDataset, self).__init__()\n",
        "        self.path = paths\n",
        "        self.label = labels\n",
        "\n",
        "    def __len__(self):\n",
        "        return len(self.path)\n",
        "\n",
        "    def __getitem__(self, idx):\n",
        "        image = np.asarray(cv2.cvtColor(cv2.imread(self.path[idx]), cv2.COLOR_BGR2RGB), dtype=np.float32).transpose(2,0,1)\n",
        "\n",
        "        if self.label is not None:\n",
        "            label = self.label[idx]\n",
        "\n",
        "        return image, label\n",
        "\n",
        "        "
      ],
      "metadata": {
        "id": "JU521EL43kKt"
      },
      "execution_count": 44,
      "outputs": []
    },
    {
      "cell_type": "code",
      "source": [
        "cnd_dataset = CndDataset(train_path, train_label)\n",
        "loader = DataLoader(cnd_dataset, batch_size=10, shuffle=True)\n"
      ],
      "metadata": {
        "id": "omcMOv2c--C2"
      },
      "execution_count": 45,
      "outputs": []
    },
    {
      "cell_type": "code",
      "source": [
        "class CNN2(nn.Module):\n",
        "    def __init__(self):\n",
        "        super().__init__()\n",
        "        self.layers = [nn.Conv2d(3,5,kernel_size=3),\n",
        "                  nn.ReLU()]\n",
        "        self.layers2 = [nn.Conv2d(3,7,kernel_size=3),\n",
        "                   nn.Conv2d(7,5,kernel_size=1),\n",
        "                   nn.ReLU()]\n",
        "\n",
        "        # 두 개의 레이어에 각각 통과시킨 후 merge하기\n",
        "        self.modules1 = nn.ModuleList(self.layers)\n",
        "        self.modules2 = nn.ModuleList(self.layers2)\n",
        "\n",
        "        self.seq1 = nn.Sequential(*self.layers)\n",
        "        self.seq2 = nn.Sequential(*self.layers2)\n",
        "\n",
        "        self.fc1 = nn.Linear(5 * 228 * 306, 512)\n",
        "\n",
        "    \n",
        "    def forward(self, x):\n",
        "        print('input_image_shape :', x.shape)\n",
        "\n",
        "        for idx, module1 in enumerate(self.modules1):\n",
        "            if idx == 0:\n",
        "                x1 =  module1(x)\n",
        "            else:\n",
        "                x1 = module1(x1)\n",
        "            print('x1.shape :', x1.shape)\n",
        "\n",
        "        for idx, module2 in enumerate(self.modules2):\n",
        "            if idx == 0:\n",
        "                x2 = module2(x)\n",
        "            else:\n",
        "                x2 = module2(x2)\n",
        "            print('x2.shape :', x2.shape)\n",
        "\n",
        "        # merge(addtion)\n",
        "        conv_out = x1 + x2\n",
        "        print('conv_out :', conv_out.shape)\n",
        "\n",
        "        fc_input = conv_out.view(conv_out.size(0), -1)\n",
        "        print('fc_input:', fc_input.shape)\n",
        "        fc_output = self.fc1(fc_input)\n",
        "        print('fc_output :', fc_output.shape)\n",
        "\n",
        "        # return fc_output"
      ],
      "metadata": {
        "id": "uS90Asd9BID8"
      },
      "execution_count": 61,
      "outputs": []
    },
    {
      "cell_type": "code",
      "source": [
        "cnd_model = CNN2()\n",
        "cnd_model"
      ],
      "metadata": {
        "colab": {
          "base_uri": "https://localhost:8080/"
        },
        "id": "GVbXCIXjBQWk",
        "outputId": "61369e9e-48ef-4c3e-e936-61fde8f0ab74"
      },
      "execution_count": 62,
      "outputs": [
        {
          "output_type": "execute_result",
          "data": {
            "text/plain": [
              "CNN2(\n",
              "  (modules1): ModuleList(\n",
              "    (0): Conv2d(3, 5, kernel_size=(3, 3), stride=(1, 1))\n",
              "    (1): ReLU()\n",
              "  )\n",
              "  (modules2): ModuleList(\n",
              "    (0): Conv2d(3, 7, kernel_size=(3, 3), stride=(1, 1))\n",
              "    (1): Conv2d(7, 5, kernel_size=(1, 1), stride=(1, 1))\n",
              "    (2): ReLU()\n",
              "  )\n",
              "  (seq1): Sequential(\n",
              "    (0): Conv2d(3, 5, kernel_size=(3, 3), stride=(1, 1))\n",
              "    (1): ReLU()\n",
              "  )\n",
              "  (seq2): Sequential(\n",
              "    (0): Conv2d(3, 7, kernel_size=(3, 3), stride=(1, 1))\n",
              "    (1): Conv2d(7, 5, kernel_size=(1, 1), stride=(1, 1))\n",
              "    (2): ReLU()\n",
              "  )\n",
              "  (fc1): Linear(in_features=348840, out_features=512, bias=True)\n",
              ")"
            ]
          },
          "metadata": {},
          "execution_count": 62
        }
      ]
    },
    {
      "cell_type": "code",
      "source": [
        "image_array, image_label = next(iter(loader))\n",
        "cnd_model(image_array)"
      ],
      "metadata": {
        "colab": {
          "base_uri": "https://localhost:8080/"
        },
        "id": "CSRFLG6LAk5-",
        "outputId": "af5c1083-dc81-4d07-d3e9-a446077c9b95"
      },
      "execution_count": 63,
      "outputs": [
        {
          "output_type": "stream",
          "name": "stdout",
          "text": [
            "input_image_shape : torch.Size([10, 3, 230, 308])\n",
            "x1.shape : torch.Size([10, 5, 228, 306])\n",
            "x1.shape : torch.Size([10, 5, 228, 306])\n",
            "x2.shape : torch.Size([10, 7, 228, 306])\n",
            "x2.shape : torch.Size([10, 5, 228, 306])\n",
            "x2.shape : torch.Size([10, 5, 228, 306])\n",
            "conv_out : torch.Size([10, 5, 228, 306])\n",
            "fc_input: torch.Size([10, 348840])\n",
            "fc_output : torch.Size([10, 512])\n"
          ]
        }
      ]
    },
    {
      "cell_type": "markdown",
      "source": [
        "### 데이터의 특성을 파악하기\n",
        "\n",
        "- 각 배치 내에서 모든 과정의 min 값과 max값을 출력\n",
        "\n",
        "- 각 배치 내에서 모든 과정의 l2 norm을 프린트해보기"
      ],
      "metadata": {
        "id": "nswIQT7_Ivc9"
      }
    },
    {
      "cell_type": "code",
      "source": [
        "layers = [nn.Conv2d(3, 10, [5,5], padding='same')]\n",
        "layers.append(nn.ReLU())\n",
        "layers.append(nn.Conv2d(10, 20, [5,5], stride=2))\n",
        "layers.append(nn.ReLU())\n"
      ],
      "metadata": {
        "id": "Z2dY7f-aN54g"
      },
      "execution_count": 38,
      "outputs": []
    },
    {
      "cell_type": "code",
      "source": [
        "modules = nn.ModuleList(layers)"
      ],
      "metadata": {
        "id": "bhjMj1kcAeAt"
      },
      "execution_count": 39,
      "outputs": []
    },
    {
      "cell_type": "code",
      "source": [
        "seq = nn.Sequential(*layers)"
      ],
      "metadata": {
        "id": "belmWoZ0AfGr"
      },
      "execution_count": 40,
      "outputs": []
    },
    {
      "cell_type": "code",
      "source": [
        "input = torch.randn([1,3,224,224])\n",
        "print(input.shape)\n",
        "print(input.dtype)\n",
        "print(type(input))"
      ],
      "metadata": {
        "colab": {
          "base_uri": "https://localhost:8080/"
        },
        "id": "L3O_BAZEA_Ko",
        "outputId": "f5662d5c-a517-42d8-e7b8-0ecd37cd7606"
      },
      "execution_count": 41,
      "outputs": [
        {
          "output_type": "stream",
          "name": "stdout",
          "text": [
            "torch.Size([1, 3, 224, 224])\n",
            "torch.float32\n",
            "<class 'torch.Tensor'>\n"
          ]
        }
      ]
    },
    {
      "cell_type": "code",
      "source": [
        "out = seq(input)"
      ],
      "metadata": {
        "id": "7_MFKPjqA086"
      },
      "execution_count": 42,
      "outputs": []
    },
    {
      "cell_type": "code",
      "source": [
        "out.shape"
      ],
      "metadata": {
        "colab": {
          "base_uri": "https://localhost:8080/"
        },
        "id": "TYDQalAQBHmh",
        "outputId": "b6dfc7e3-e816-490f-e740-a7b9e64def1c"
      },
      "execution_count": 43,
      "outputs": [
        {
          "output_type": "execute_result",
          "data": {
            "text/plain": [
              "torch.Size([1, 20, 110, 110])"
            ]
          },
          "metadata": {},
          "execution_count": 43
        }
      ]
    },
    {
      "cell_type": "code",
      "source": [
        "o = modules[0](input)\n",
        "o.shape"
      ],
      "metadata": {
        "colab": {
          "base_uri": "https://localhost:8080/"
        },
        "id": "ASVlz-O2B7go",
        "outputId": "db01517a-5445-49fa-cf40-1d9fb97eeb42"
      },
      "execution_count": 44,
      "outputs": [
        {
          "output_type": "execute_result",
          "data": {
            "text/plain": [
              "torch.Size([1, 10, 224, 224])"
            ]
          },
          "metadata": {},
          "execution_count": 44
        }
      ]
    },
    {
      "cell_type": "code",
      "source": [
        "o = modules[1](input)\n",
        "o.shape"
      ],
      "metadata": {
        "colab": {
          "base_uri": "https://localhost:8080/"
        },
        "id": "FiNEt1MeCIUI",
        "outputId": "2740d689-0953-4af4-fec4-4c0ce198fbf7"
      },
      "execution_count": 49,
      "outputs": [
        {
          "output_type": "execute_result",
          "data": {
            "text/plain": [
              "torch.Size([1, 3, 224, 224])"
            ]
          },
          "metadata": {},
          "execution_count": 49
        }
      ]
    },
    {
      "cell_type": "code",
      "source": [
        "o = modules[2](0)"
      ],
      "metadata": {
        "colab": {
          "base_uri": "https://localhost:8080/",
          "height": 496
        },
        "id": "2he7hYOaCLNR",
        "outputId": "150959c4-6077-4c1f-faeb-2f221eb4fee8"
      },
      "execution_count": 50,
      "outputs": [
        {
          "output_type": "error",
          "ename": "TypeError",
          "evalue": "ignored",
          "traceback": [
            "\u001b[0;31m---------------------------------------------------------------------------\u001b[0m",
            "\u001b[0;31mTypeError\u001b[0m                                 Traceback (most recent call last)",
            "\u001b[0;32m<ipython-input-50-f11cd1de3f55>\u001b[0m in \u001b[0;36m<module>\u001b[0;34m()\u001b[0m\n\u001b[0;32m----> 1\u001b[0;31m \u001b[0mo\u001b[0m \u001b[0;34m=\u001b[0m \u001b[0mmodules\u001b[0m\u001b[0;34m[\u001b[0m\u001b[0;36m2\u001b[0m\u001b[0;34m]\u001b[0m\u001b[0;34m(\u001b[0m\u001b[0;36m0\u001b[0m\u001b[0;34m)\u001b[0m\u001b[0;34m\u001b[0m\u001b[0;34m\u001b[0m\u001b[0m\n\u001b[0m",
            "\u001b[0;32m/usr/local/lib/python3.7/dist-packages/torch/nn/modules/module.py\u001b[0m in \u001b[0;36m_call_impl\u001b[0;34m(self, *input, **kwargs)\u001b[0m\n\u001b[1;32m   1108\u001b[0m         if not (self._backward_hooks or self._forward_hooks or self._forward_pre_hooks or _global_backward_hooks\n\u001b[1;32m   1109\u001b[0m                 or _global_forward_hooks or _global_forward_pre_hooks):\n\u001b[0;32m-> 1110\u001b[0;31m             \u001b[0;32mreturn\u001b[0m \u001b[0mforward_call\u001b[0m\u001b[0;34m(\u001b[0m\u001b[0;34m*\u001b[0m\u001b[0minput\u001b[0m\u001b[0;34m,\u001b[0m \u001b[0;34m**\u001b[0m\u001b[0mkwargs\u001b[0m\u001b[0;34m)\u001b[0m\u001b[0;34m\u001b[0m\u001b[0;34m\u001b[0m\u001b[0m\n\u001b[0m\u001b[1;32m   1111\u001b[0m         \u001b[0;31m# Do not call functions when jit is used\u001b[0m\u001b[0;34m\u001b[0m\u001b[0;34m\u001b[0m\u001b[0;34m\u001b[0m\u001b[0m\n\u001b[1;32m   1112\u001b[0m         \u001b[0mfull_backward_hooks\u001b[0m\u001b[0;34m,\u001b[0m \u001b[0mnon_full_backward_hooks\u001b[0m \u001b[0;34m=\u001b[0m \u001b[0;34m[\u001b[0m\u001b[0;34m]\u001b[0m\u001b[0;34m,\u001b[0m \u001b[0;34m[\u001b[0m\u001b[0;34m]\u001b[0m\u001b[0;34m\u001b[0m\u001b[0;34m\u001b[0m\u001b[0m\n",
            "\u001b[0;32m/usr/local/lib/python3.7/dist-packages/torch/nn/modules/conv.py\u001b[0m in \u001b[0;36mforward\u001b[0;34m(self, input)\u001b[0m\n\u001b[1;32m    445\u001b[0m \u001b[0;34m\u001b[0m\u001b[0m\n\u001b[1;32m    446\u001b[0m     \u001b[0;32mdef\u001b[0m \u001b[0mforward\u001b[0m\u001b[0;34m(\u001b[0m\u001b[0mself\u001b[0m\u001b[0;34m,\u001b[0m \u001b[0minput\u001b[0m\u001b[0;34m:\u001b[0m \u001b[0mTensor\u001b[0m\u001b[0;34m)\u001b[0m \u001b[0;34m->\u001b[0m \u001b[0mTensor\u001b[0m\u001b[0;34m:\u001b[0m\u001b[0;34m\u001b[0m\u001b[0;34m\u001b[0m\u001b[0m\n\u001b[0;32m--> 447\u001b[0;31m         \u001b[0;32mreturn\u001b[0m \u001b[0mself\u001b[0m\u001b[0;34m.\u001b[0m\u001b[0m_conv_forward\u001b[0m\u001b[0;34m(\u001b[0m\u001b[0minput\u001b[0m\u001b[0;34m,\u001b[0m \u001b[0mself\u001b[0m\u001b[0;34m.\u001b[0m\u001b[0mweight\u001b[0m\u001b[0;34m,\u001b[0m \u001b[0mself\u001b[0m\u001b[0;34m.\u001b[0m\u001b[0mbias\u001b[0m\u001b[0;34m)\u001b[0m\u001b[0;34m\u001b[0m\u001b[0;34m\u001b[0m\u001b[0m\n\u001b[0m\u001b[1;32m    448\u001b[0m \u001b[0;34m\u001b[0m\u001b[0m\n\u001b[1;32m    449\u001b[0m \u001b[0;32mclass\u001b[0m \u001b[0mConv3d\u001b[0m\u001b[0;34m(\u001b[0m\u001b[0m_ConvNd\u001b[0m\u001b[0;34m)\u001b[0m\u001b[0;34m:\u001b[0m\u001b[0;34m\u001b[0m\u001b[0;34m\u001b[0m\u001b[0m\n",
            "\u001b[0;32m/usr/local/lib/python3.7/dist-packages/torch/nn/modules/conv.py\u001b[0m in \u001b[0;36m_conv_forward\u001b[0;34m(self, input, weight, bias)\u001b[0m\n\u001b[1;32m    442\u001b[0m                             _pair(0), self.dilation, self.groups)\n\u001b[1;32m    443\u001b[0m         return F.conv2d(input, weight, bias, self.stride,\n\u001b[0;32m--> 444\u001b[0;31m                         self.padding, self.dilation, self.groups)\n\u001b[0m\u001b[1;32m    445\u001b[0m \u001b[0;34m\u001b[0m\u001b[0m\n\u001b[1;32m    446\u001b[0m     \u001b[0;32mdef\u001b[0m \u001b[0mforward\u001b[0m\u001b[0;34m(\u001b[0m\u001b[0mself\u001b[0m\u001b[0;34m,\u001b[0m \u001b[0minput\u001b[0m\u001b[0;34m:\u001b[0m \u001b[0mTensor\u001b[0m\u001b[0;34m)\u001b[0m \u001b[0;34m->\u001b[0m \u001b[0mTensor\u001b[0m\u001b[0;34m:\u001b[0m\u001b[0;34m\u001b[0m\u001b[0;34m\u001b[0m\u001b[0m\n",
            "\u001b[0;31mTypeError\u001b[0m: conv2d() received an invalid combination of arguments - got (int, Parameter, Parameter, tuple, tuple, tuple, int), but expected one of:\n * (Tensor input, Tensor weight, Tensor bias, tuple of ints stride, tuple of ints padding, tuple of ints dilation, int groups)\n      didn't match because some of the arguments have invalid types: (!int!, !Parameter!, !Parameter!, !tuple!, !tuple!, !tuple!, int)\n * (Tensor input, Tensor weight, Tensor bias, tuple of ints stride, str padding, tuple of ints dilation, int groups)\n      didn't match because some of the arguments have invalid types: (!int!, !Parameter!, !Parameter!, !tuple!, !tuple!, !tuple!, int)\n"
          ]
        }
      ]
    },
    {
      "cell_type": "code",
      "source": [
        "# 디버그하는 방법. list를 돌면서 하나씩 확인\n",
        "\n",
        "def forward(input):\n",
        "    x = input\n",
        "    for module in modules:\n",
        "        x = module(x)\n",
        "        print()"
      ],
      "metadata": {
        "id": "5btexOAACMvl"
      },
      "execution_count": null,
      "outputs": []
    },
    {
      "cell_type": "code",
      "source": [
        "# 디버그가 완료된 후 nn.Sequential을 사용\n",
        "\n",
        "def forward(input):\n",
        "    x = input\n",
        "    for layer in seq:\n",
        "        x = module(x)\n",
        "    return x"
      ],
      "metadata": {
        "id": "dHIO_fVZDfXs"
      },
      "execution_count": null,
      "outputs": []
    },
    {
      "cell_type": "code",
      "source": [
        ""
      ],
      "metadata": {
        "id": "-ujUQIEXyD8z"
      },
      "execution_count": null,
      "outputs": []
    },
    {
      "cell_type": "markdown",
      "source": [
        "### ResNet 구현해보기\n",
        "- 참조  \n",
        "    https://towardsdev.com/implement-resnet-with-pytorch-a9fb40a77448"
      ],
      "metadata": {
        "id": "7WAzMGfsiKS3"
      }
    },
    {
      "cell_type": "code",
      "source": [
        "class PrintShape(nn.Module):\n",
        "    def __init__(self):\n",
        "        super(PrintShape, self).__init__()\n",
        "\n",
        "    def forward(self, x):\n",
        "        print(x.shape)\n",
        "        return x"
      ],
      "metadata": {
        "id": "HRY4_5y6IePF"
      },
      "execution_count": 93,
      "outputs": []
    },
    {
      "cell_type": "code",
      "source": [
        "from torch.nn.modules.batchnorm import BatchNorm2d\n",
        "import torch.nn.functional as F\n",
        "class ResBlock(nn.Module):\n",
        "    def __init__(self, in_channels, out_channels, downsample):\n",
        "        super(ResBlock, self).__init__()\n",
        "        if downsample:\n",
        "            self.conv1 = nn.Conv2d(in_channels, out_channels, kernel_size=3, stride=2, padding=1)\n",
        "            self.shortcut = nn.Sequential(\n",
        "                nn.Conv2d(in_channels, out_channels, kernel_size=1, stride=2),\n",
        "                nn.BatchNorm2d(out_channels)\n",
        "            )\n",
        "        else:\n",
        "            self.conv1 = nn.Conv2d(in_channels, out_channels, kernel_size=3, stride=1, padding=1)\n",
        "            self.shortcut = nn.Sequential(\n",
        "                # nn.Conv2d(in_channels, out_channels, kernel_size=1, stride=1),\n",
        "                # nn.BatchNorm2d(out_channels)\n",
        "            )\n",
        "\n",
        "        self.conv2 = nn.Conv2d(out_channels, out_channels, kernel_size=3, stride=1, padding=1)\n",
        "        self.bn1 = nn.BatchNorm2d(out_channels)\n",
        "        self.bn2 = nn.BatchNorm2d(out_channels)\n",
        "\n",
        "    def forward(self, x):\n",
        "        shortcut = self.shortcut(x)\n",
        "        # print('shortcut :', shortcut.size())\n",
        "        x = self.bn1(self.conv1(x))\n",
        "        x = F.ReLU(x)\n",
        "        # print('conv1 :', x.size())\n",
        "        x = self.bn2(self.conv2(x))\n",
        "        x = F.ReLU(x)\n",
        "        # print('conv2 :', x.size())\n",
        "        output = shortcut + x\n",
        "        # print('output :', x.size())\n",
        "        return output\n"
      ],
      "metadata": {
        "id": "VxLbFZEvr0rh"
      },
      "execution_count": 121,
      "outputs": []
    },
    {
      "cell_type": "code",
      "source": [
        "class ResNet18(nn.Module):\n",
        "    def __init__(self, in_channels, resblock, outputs=1000):\n",
        "        super(ResNet18, self).__init__()\n",
        "        self.layer0 = nn.Sequential(\n",
        "            nn.Conv2d(in_channels, 64, kernel_size=7, stride=2, padding=3), # 7x7 kernel을 사용하고 output shape을 1/2로 줄이기 위해서는 padding이 필요\n",
        "            nn.MaxPool2d(3, stride=2),\n",
        "            nn.BatchNorm2d(64),\n",
        "            nn.ReLU()\n",
        "        )\n",
        "\n",
        "        self.layer1 = nn.Sequential(\n",
        "            resblock(64, 64, downsample=False),\n",
        "            resblock(64, 64, downsample=False)\n",
        "        )\n",
        "\n",
        "        self.layer2 = nn.Sequential(\n",
        "            resblock(64, 128, downsample=True),\n",
        "            resblock(128, 128, downsample=False)\n",
        "        )\n",
        "\n",
        "        self.layer3 = nn.Sequential(\n",
        "            resblock(128, 256, downsample=True),\n",
        "            resblock(256, 256, downsample=False)\n",
        "        )\n",
        "        \n",
        "        self.layer4 = nn.Sequential(\n",
        "            resblock(256, 512, downsample=True),\n",
        "            resblock(512, 512, downsample=False)\n",
        "        )\n",
        "\n",
        "        self.gap = nn.AdaptiveAvgPool2d(1)\n",
        "        self.fc1 = nn.Linear(512, 10)\n",
        "        \n",
        "    def forward(self, x):\n",
        "        x = self.layer0(x),\n",
        "        # print(x.size())\n",
        "        x = self.layer1(x),\n",
        "        x = self.layer2(x),\n",
        "        x = self.layer3(x),\n",
        "        x = self.layer4(x),\n",
        "        x = self.gap(x),\n",
        "        output = self.fc(x)\n",
        "        # print('output :', output.size())\n",
        "\n",
        "        return x"
      ],
      "metadata": {
        "id": "iv0lWdFPvvr6"
      },
      "execution_count": 122,
      "outputs": []
    },
    {
      "cell_type": "code",
      "source": [
        "from torchsummary import summary\n",
        "\n",
        "resnet18 = ResNet18(3, ResBlock, outputs=1000)\n",
        "summary(resnet18, input_data)"
      ],
      "metadata": {
        "colab": {
          "base_uri": "https://localhost:8080/",
          "height": 353
        },
        "id": "xT-cIo4u3MYo",
        "outputId": "d839d6d3-db76-4575-a8c9-d64d473dacce"
      },
      "execution_count": 123,
      "outputs": [
        {
          "output_type": "error",
          "ename": "TypeError",
          "evalue": "ignored",
          "traceback": [
            "\u001b[0;31m---------------------------------------------------------------------------\u001b[0m",
            "\u001b[0;31mTypeError\u001b[0m                                 Traceback (most recent call last)",
            "\u001b[0;32m<ipython-input-123-18d5a25238cb>\u001b[0m in \u001b[0;36m<module>\u001b[0;34m()\u001b[0m\n\u001b[1;32m      2\u001b[0m \u001b[0;34m\u001b[0m\u001b[0m\n\u001b[1;32m      3\u001b[0m \u001b[0mresnet18\u001b[0m \u001b[0;34m=\u001b[0m \u001b[0mResNet18\u001b[0m\u001b[0;34m(\u001b[0m\u001b[0;36m3\u001b[0m\u001b[0;34m,\u001b[0m \u001b[0mResBlock\u001b[0m\u001b[0;34m,\u001b[0m \u001b[0moutputs\u001b[0m\u001b[0;34m=\u001b[0m\u001b[0;36m1000\u001b[0m\u001b[0;34m)\u001b[0m\u001b[0;34m\u001b[0m\u001b[0;34m\u001b[0m\u001b[0m\n\u001b[0;32m----> 4\u001b[0;31m \u001b[0msummary\u001b[0m\u001b[0;34m(\u001b[0m\u001b[0mresnet18\u001b[0m\u001b[0;34m,\u001b[0m \u001b[0minput_data\u001b[0m\u001b[0;34m)\u001b[0m\u001b[0;34m\u001b[0m\u001b[0;34m\u001b[0m\u001b[0m\n\u001b[0m",
            "\u001b[0;32m/usr/local/lib/python3.7/dist-packages/torchsummary/torchsummary.py\u001b[0m in \u001b[0;36msummary\u001b[0;34m(model, input_size, batch_size, device)\u001b[0m\n\u001b[1;32m     58\u001b[0m \u001b[0;34m\u001b[0m\u001b[0m\n\u001b[1;32m     59\u001b[0m     \u001b[0;31m# batch_size of 2 for batchnorm\u001b[0m\u001b[0;34m\u001b[0m\u001b[0;34m\u001b[0m\u001b[0;34m\u001b[0m\u001b[0m\n\u001b[0;32m---> 60\u001b[0;31m     \u001b[0mx\u001b[0m \u001b[0;34m=\u001b[0m \u001b[0;34m[\u001b[0m\u001b[0mtorch\u001b[0m\u001b[0;34m.\u001b[0m\u001b[0mrand\u001b[0m\u001b[0;34m(\u001b[0m\u001b[0;36m2\u001b[0m\u001b[0;34m,\u001b[0m \u001b[0;34m*\u001b[0m\u001b[0min_size\u001b[0m\u001b[0;34m)\u001b[0m\u001b[0;34m.\u001b[0m\u001b[0mtype\u001b[0m\u001b[0;34m(\u001b[0m\u001b[0mdtype\u001b[0m\u001b[0;34m)\u001b[0m \u001b[0;32mfor\u001b[0m \u001b[0min_size\u001b[0m \u001b[0;32min\u001b[0m \u001b[0minput_size\u001b[0m\u001b[0;34m]\u001b[0m\u001b[0;34m\u001b[0m\u001b[0;34m\u001b[0m\u001b[0m\n\u001b[0m\u001b[1;32m     61\u001b[0m     \u001b[0;31m# print(type(x[0]))\u001b[0m\u001b[0;34m\u001b[0m\u001b[0;34m\u001b[0m\u001b[0;34m\u001b[0m\u001b[0m\n\u001b[1;32m     62\u001b[0m \u001b[0;34m\u001b[0m\u001b[0m\n",
            "\u001b[0;32m/usr/local/lib/python3.7/dist-packages/torchsummary/torchsummary.py\u001b[0m in \u001b[0;36m<listcomp>\u001b[0;34m(.0)\u001b[0m\n\u001b[1;32m     58\u001b[0m \u001b[0;34m\u001b[0m\u001b[0m\n\u001b[1;32m     59\u001b[0m     \u001b[0;31m# batch_size of 2 for batchnorm\u001b[0m\u001b[0;34m\u001b[0m\u001b[0;34m\u001b[0m\u001b[0;34m\u001b[0m\u001b[0m\n\u001b[0;32m---> 60\u001b[0;31m     \u001b[0mx\u001b[0m \u001b[0;34m=\u001b[0m \u001b[0;34m[\u001b[0m\u001b[0mtorch\u001b[0m\u001b[0;34m.\u001b[0m\u001b[0mrand\u001b[0m\u001b[0;34m(\u001b[0m\u001b[0;36m2\u001b[0m\u001b[0;34m,\u001b[0m \u001b[0;34m*\u001b[0m\u001b[0min_size\u001b[0m\u001b[0;34m)\u001b[0m\u001b[0;34m.\u001b[0m\u001b[0mtype\u001b[0m\u001b[0;34m(\u001b[0m\u001b[0mdtype\u001b[0m\u001b[0;34m)\u001b[0m \u001b[0;32mfor\u001b[0m \u001b[0min_size\u001b[0m \u001b[0;32min\u001b[0m \u001b[0minput_size\u001b[0m\u001b[0;34m]\u001b[0m\u001b[0;34m\u001b[0m\u001b[0;34m\u001b[0m\u001b[0m\n\u001b[0m\u001b[1;32m     61\u001b[0m     \u001b[0;31m# print(type(x[0]))\u001b[0m\u001b[0;34m\u001b[0m\u001b[0;34m\u001b[0m\u001b[0;34m\u001b[0m\u001b[0m\n\u001b[1;32m     62\u001b[0m \u001b[0;34m\u001b[0m\u001b[0m\n",
            "\u001b[0;31mTypeError\u001b[0m: rand(): argument 'size' must be tuple of ints, but found element of type Tensor at pos 2"
          ]
        }
      ]
    },
    {
      "cell_type": "markdown",
      "source": [
        "### 후기\n",
        "\n",
        "TypeError: conv2d() received an invalid combination of arguments - got (tuple, Parameter, Parameter, tuple, tuple, tuple, int), but expected one of:  \n",
        "이거 왜 자꾸 나오는거냐.."
      ],
      "metadata": {
        "id": "PjG16dvaL7QV"
      }
    }
  ]
}