{
  "nbformat": 4,
  "nbformat_minor": 0,
  "metadata": {
    "colab": {
      "name": "2_Build_Architecture.ipynb",
      "provenance": [],
      "toc_visible": true,
      "mount_file_id": "16P_ruZrZfoELFNfisUFLIEk3tFwp__uv",
      "authorship_tag": "ABX9TyPpjLonZbm7J/4NhGFnvmkf"
    },
    "kernelspec": {
      "name": "python3",
      "display_name": "Python 3"
    },
    "language_info": {
      "name": "python"
    },
    "accelerator": "GPU"
  },
  "cells": [
    {
      "cell_type": "code",
      "source": [
        "import torch\n",
        "import pandas as pd\n",
        "import numpy as np\n",
        "import torch.nn as nn\n",
        "import torchvision.datasets as dsets\n",
        "from torch.utils.data import Dataset, DataLoader\n",
        "import torchvision.transforms as transforms\n",
        "import os\n",
        "import cv2"
      ],
      "metadata": {
        "id": "qZxC-fkqhZPr"
      },
      "execution_count": 1,
      "outputs": []
    },
    {
      "cell_type": "markdown",
      "source": [
        "### GPU 사용 설정"
      ],
      "metadata": {
        "id": "LH2p_IaNiyES"
      }
    },
    {
      "cell_type": "code",
      "source": [
        "device = 'cuda' if torch.cuda.is_available() else 'cpu'\n",
        "print(device)"
      ],
      "metadata": {
        "colab": {
          "base_uri": "https://localhost:8080/"
        },
        "id": "-npzsWf2i03A",
        "outputId": "e81bedc0-5b8e-40fb-fdf7-fa86ee181324"
      },
      "execution_count": 2,
      "outputs": [
        {
          "output_type": "stream",
          "name": "stdout",
          "text": [
            "cuda\n"
          ]
        }
      ]
    },
    {
      "cell_type": "markdown",
      "source": [
        "### 데이터셋 불러오기"
      ],
      "metadata": {
        "id": "Rn6x_lWhrAaY"
      }
    },
    {
      "cell_type": "code",
      "source": [
        "def make_dataframe_catndog():    \n",
        "    paths = []\n",
        "    dataset_type = []\n",
        "    label = []\n",
        "\n",
        "    for dirname, _, filenames in os.walk('/content/drive/MyDrive/고모부_머신러닝/dogncat'):\n",
        "        for filename in filenames:\n",
        "            if '.jpg' in filename:\n",
        "                file_path = dirname+'/'+filename\n",
        "                paths.append(file_path)\n",
        "\n",
        "            if '/training_set' in file_path:\n",
        "                dataset_type.append('train')\n",
        "\n",
        "            elif '/test_set' in file_path:\n",
        "                dataset_type.append('test')\n",
        "\n",
        "            else:\n",
        "                dataset_type.append('N/A') \n",
        "\n",
        "            if 'dogs' in file_path:\n",
        "                label.append('DOG')\n",
        "\n",
        "            elif 'cats' in file_path:\n",
        "                label.append('CAT')\n",
        "\n",
        "            else:\n",
        "                label.append('N/A')\n",
        "        \n",
        "    df = pd.DataFrame({'path' : file_path, 'dataset' : dataset_type, 'label' : label})\n",
        "    return df"
      ],
      "metadata": {
        "id": "4YGeuSjulHUi"
      },
      "execution_count": 3,
      "outputs": []
    },
    {
      "cell_type": "code",
      "source": [
        "cnd_df = make_dataframe_catndog()\n",
        "\n",
        "train_df = cnd_df[cnd_df['dataset'] == 'train']\n",
        "test_df = cnd_df[cnd_df['dataset'] == 'test']\n",
        "\n",
        "train_img_path = train_df['path'].values\n",
        "train_label = train_df['label'].values\n",
        "\n",
        "test_img_path = test_df['path'].values\n",
        "test_label_path = test_df['label'].values"
      ],
      "metadata": {
        "id": "rYArO0rhOH8Z"
      },
      "execution_count": 4,
      "outputs": []
    },
    {
      "cell_type": "code",
      "source": [
        "class CndDataset(Dataset):\n",
        "    def __init__(self, image_paths, labels):\n",
        "        self.image_paths = image_paths\n",
        "        self.labels = labels\n",
        "\n",
        "    def __len__(self):\n",
        "        return len(self.image_paths)\n",
        "\n",
        "    def __getitem__(self, idx):\n",
        "        image_file = self.image_paths[idx]\n",
        "\n",
        "        if self.labels is not None:\n",
        "            label = self.labels[idx]\n",
        "\n",
        "        # float 형태의 데이터여야 모델에 들어갈 때 작동한다.\n",
        "        image = np.asarray(cv2.cvtColor(cv2.imread(image_file), cv2.COLOR_BGR2RGB), dtype=np.float32).transpose(2,0,1)\n",
        "\n",
        "        return image, label\n"
      ],
      "metadata": {
        "id": "7iQbtB6gORB0"
      },
      "execution_count": 5,
      "outputs": []
    },
    {
      "cell_type": "code",
      "source": [
        "cnd_dataset = CndDataset(train_img_path, train_label)\n",
        "loader = DataLoader(cnd_dataset, batch_size=100, shuffle=True)"
      ],
      "metadata": {
        "id": "DW0EqOjAOe52"
      },
      "execution_count": 6,
      "outputs": []
    },
    {
      "cell_type": "code",
      "source": [
        "batch_data, batch_label = next(iter(loader))\n",
        "print(batch_data[0].shape)\n"
      ],
      "metadata": {
        "colab": {
          "base_uri": "https://localhost:8080/"
        },
        "id": "lH1JEL0CRBKQ",
        "outputId": "57b3fdbf-de38-4088-9930-fe0bff1718ec"
      },
      "execution_count": 7,
      "outputs": [
        {
          "output_type": "stream",
          "name": "stdout",
          "text": [
            "torch.Size([3, 230, 308])\n"
          ]
        }
      ]
    },
    {
      "cell_type": "code",
      "source": [
        "len(loader)"
      ],
      "metadata": {
        "colab": {
          "base_uri": "https://localhost:8080/"
        },
        "id": "TLa7Zh6LOhS4",
        "outputId": "44027f78-0f01-444f-ddf5-3a5644907058"
      },
      "execution_count": 8,
      "outputs": [
        {
          "output_type": "execute_result",
          "data": {
            "text/plain": [
              "81"
            ]
          },
          "metadata": {},
          "execution_count": 8
        }
      ]
    },
    {
      "cell_type": "markdown",
      "source": [
        "### Build Model"
      ],
      "metadata": {
        "id": "j1Ptv2f6OFmu"
      }
    },
    {
      "cell_type": "code",
      "execution_count": 9,
      "metadata": {
        "id": "Zf5_AhuadEJw"
      },
      "outputs": [],
      "source": [
        "# 뉴런수 5개, 커널사이즈 3x3\n",
        "\n",
        "class CNN(nn.Module):\n",
        "    def __init__(self):\n",
        "        super(CNN, self).__init__() \n",
        "        self.layer1 = nn.Sequential(\n",
        "            nn.Conv2d(3, 5, kernel_size=3, stride=1, padding=0),\n",
        "            nn.ReLU()\n",
        "        )\n",
        "        self.layer2 = nn.Sequential(\n",
        "            nn.Conv2d(5, 10, kernel_size=3, stride=1, padding=0),\n",
        "            nn.ReLU()\n",
        "        )\n",
        "    \n",
        "    def forward(self, x):\n",
        "        x = self.layer1(x)\n",
        "        x = self.layer2(x)\n",
        "        return x\n",
        "\n"
      ]
    },
    {
      "cell_type": "code",
      "source": [
        "model = CNN()\n",
        "model"
      ],
      "metadata": {
        "colab": {
          "base_uri": "https://localhost:8080/"
        },
        "id": "mpNY3P7NqxhK",
        "outputId": "6adbe408-6d32-4e32-db6c-ec85759b3801"
      },
      "execution_count": 10,
      "outputs": [
        {
          "output_type": "execute_result",
          "data": {
            "text/plain": [
              "CNN(\n",
              "  (layer1): Sequential(\n",
              "    (0): Conv2d(3, 5, kernel_size=(3, 3), stride=(1, 1))\n",
              "    (1): ReLU()\n",
              "  )\n",
              "  (layer2): Sequential(\n",
              "    (0): Conv2d(5, 10, kernel_size=(3, 3), stride=(1, 1))\n",
              "    (1): ReLU()\n",
              "  )\n",
              ")"
            ]
          },
          "metadata": {},
          "execution_count": 10
        }
      ]
    },
    {
      "cell_type": "code",
      "source": [
        "data, label = next(iter(loader))\n",
        "output = model(data)\n",
        "print(output.shape)"
      ],
      "metadata": {
        "colab": {
          "base_uri": "https://localhost:8080/"
        },
        "id": "50pl6VplO6fw",
        "outputId": "ea104831-5ffd-4af9-afa8-b0a630d64629"
      },
      "execution_count": 11,
      "outputs": [
        {
          "output_type": "stream",
          "name": "stdout",
          "text": [
            "torch.Size([100, 10, 226, 304])\n"
          ]
        }
      ]
    },
    {
      "cell_type": "markdown",
      "source": [
        "### 매 step마다 shape을 확인하는 것이 중요하다!!\n",
        "- 매 step마다 shape을 확인할 수 있는 모델을 만들어 보기"
      ],
      "metadata": {
        "id": "RJ_OLebFfyOa"
      }
    },
    {
      "cell_type": "code",
      "source": [
        "\n",
        "class CNN2(nn.Module):\n",
        "    def __init__(self):\n",
        "        super(CNN2, self).__init__() \n",
        "        self.layer1 = nn.Sequential(\n",
        "            nn.Conv2d(3, 5, kernel_size=3, stride=1, padding=0),\n",
        "            nn.ReLU()\n",
        "        )\n",
        "        self.layer2 = nn.Sequential(\n",
        "            nn.Conv2d(5, 10, kernel_size=3, stride=1, padding=0),\n",
        "            nn.ReLU()\n",
        "        )\n",
        "    \n",
        "    def forward(self, x):\n",
        "        print('input shape :', x.shape)\n",
        "        x = self.layer1(x)\n",
        "        print('layer1 output :', x.shape)\n",
        "        x = self.layer2(x)\n",
        "        print('layer2 output :', x.shape)\n",
        "        # return x\n",
        "\n"
      ],
      "metadata": {
        "id": "gJFhMh4xgWlc"
      },
      "execution_count": 12,
      "outputs": []
    },
    {
      "cell_type": "code",
      "source": [
        "model2 = CNN2()\n",
        "model2"
      ],
      "metadata": {
        "colab": {
          "base_uri": "https://localhost:8080/"
        },
        "id": "s0vnccQNiD3B",
        "outputId": "66928e44-c740-490d-ddc8-3f02d5d66c8c"
      },
      "execution_count": 13,
      "outputs": [
        {
          "output_type": "execute_result",
          "data": {
            "text/plain": [
              "CNN2(\n",
              "  (layer1): Sequential(\n",
              "    (0): Conv2d(3, 5, kernel_size=(3, 3), stride=(1, 1))\n",
              "    (1): ReLU()\n",
              "  )\n",
              "  (layer2): Sequential(\n",
              "    (0): Conv2d(5, 10, kernel_size=(3, 3), stride=(1, 1))\n",
              "    (1): ReLU()\n",
              "  )\n",
              ")"
            ]
          },
          "metadata": {},
          "execution_count": 13
        }
      ]
    },
    {
      "cell_type": "code",
      "source": [
        "data, label = next(iter(loader))\n",
        "model2(data)"
      ],
      "metadata": {
        "colab": {
          "base_uri": "https://localhost:8080/"
        },
        "id": "zeoU4LPWgwhK",
        "outputId": "418a0ca9-16f4-4a85-c5df-0a47d859c4b3"
      },
      "execution_count": 14,
      "outputs": [
        {
          "output_type": "stream",
          "name": "stdout",
          "text": [
            "input shape : torch.Size([100, 3, 230, 308])\n",
            "layer1 output : torch.Size([100, 5, 228, 306])\n",
            "layer2 output : torch.Size([100, 10, 226, 304])\n"
          ]
        }
      ]
    },
    {
      "cell_type": "markdown",
      "source": [
        "### 두 개의 CNN을 통과한 후 결과값을 merge하여 fc 레이어를 통과시켜볼 것\n",
        "- layer1 -> kernel_size : 3x3, neuron : 5, relu\n",
        "- layer2 -> kernel_size : 7x7, neuron : 7, relu\n",
        "- merge 방법은 addition\n",
        "- fc1 -> neuron : 512, linear"
      ],
      "metadata": {
        "id": "i6-e4yCmQckf"
      }
    },
    {
      "cell_type": "code",
      "source": [
        "\n",
        "class CNN3(nn.Module):\n",
        "    def __init__(self):\n",
        "        super().__init__()\n",
        "        self.layer1 = nn.Sequential(\n",
        "            nn.Conv2d(3, 5, kernel_size=3, stride=1, padding=0),\n",
        "            nn.ReLU()\n",
        "        )\n",
        "        self.layer2 = nn.Sequential(\n",
        "            nn.Conv2d(3, 7, kernel_size=3, stride=1, padding=0),\n",
        "            nn.Conv2d(7, 5, kernel_size=1, stride=1, padding=0), # 1x1 convolution연산을 통해 layer1과 layer2의 차원을 맞춰주기\n",
        "            nn.ReLU()\n",
        "        )\n",
        "        self.fc1 = nn.Linear(5 * 228 * 306, 512)\n",
        "\n",
        "    \n",
        "    def forward(self, x):\n",
        "        print(x.shape)\n",
        "        x1 = self.layer1(x)\n",
        "        x2 = self.layer2(x)\n",
        "        print('x1 shape :', x1.shape)\n",
        "        print('x2 shape :', x2.shape)\n",
        "        x3 = x1 + x2\n",
        "        print('x3 :', x3.shape)\n",
        "        print('x3.size(0) :', x3.size(0))\n",
        "        fc_input = x3.view(x3.size(0), -1) # view를 통해 x3의 shape을 fc뉴런에 들어갈 수 있는 형태로 바꿔준다. x3.size(0) x3의 shape 중 0번째 차원의 shape을 반환\n",
        "        print('fc_input :', fc_input.shape)\n",
        "        output = self.fc1(fc_input)\n",
        "        print('output :', output.shape)\n",
        "\n"
      ],
      "metadata": {
        "id": "-F9OaqvidTRE"
      },
      "execution_count": 31,
      "outputs": []
    },
    {
      "cell_type": "code",
      "source": [
        "model3 = CNN3()\n",
        "model3"
      ],
      "metadata": {
        "colab": {
          "base_uri": "https://localhost:8080/"
        },
        "id": "n0xEM3jdjE7l",
        "outputId": "5a173af9-83e9-4fe2-ccda-3c1629a883f7"
      },
      "execution_count": 32,
      "outputs": [
        {
          "output_type": "execute_result",
          "data": {
            "text/plain": [
              "CNN3(\n",
              "  (layer1): Sequential(\n",
              "    (0): Conv2d(3, 5, kernel_size=(3, 3), stride=(1, 1))\n",
              "    (1): ReLU()\n",
              "  )\n",
              "  (layer2): Sequential(\n",
              "    (0): Conv2d(3, 7, kernel_size=(3, 3), stride=(1, 1))\n",
              "    (1): Conv2d(7, 5, kernel_size=(1, 1), stride=(1, 1))\n",
              "    (2): ReLU()\n",
              "  )\n",
              "  (fc1): Linear(in_features=348840, out_features=512, bias=True)\n",
              ")"
            ]
          },
          "metadata": {},
          "execution_count": 32
        }
      ]
    },
    {
      "cell_type": "code",
      "source": [
        "data, label  = next(iter(loader))\n",
        "model3(data)\n"
      ],
      "metadata": {
        "colab": {
          "base_uri": "https://localhost:8080/"
        },
        "id": "KwBcAOUojMVi",
        "outputId": "feaa23dc-b638-4d14-cdf7-ec7418e1c121"
      },
      "execution_count": 33,
      "outputs": [
        {
          "output_type": "stream",
          "name": "stdout",
          "text": [
            "torch.Size([100, 3, 230, 308])\n",
            "x1 shape : torch.Size([100, 5, 228, 306])\n",
            "x2 shape : torch.Size([100, 5, 228, 306])\n",
            "x3 : torch.Size([100, 5, 228, 306])\n",
            "x3.size(0) : 100\n",
            "fc_input : torch.Size([100, 348840])\n",
            "output : torch.Size([100, 512])\n"
          ]
        }
      ]
    },
    {
      "cell_type": "code",
      "source": [
        ""
      ],
      "metadata": {
        "id": "YIrPyCdijr2L"
      },
      "execution_count": null,
      "outputs": []
    }
  ]
}