{
  "nbformat": 4,
  "nbformat_minor": 0,
  "metadata": {
    "colab": {
      "name": "3_1_Loss_Function.ipynb",
      "provenance": []
    },
    "kernelspec": {
      "name": "python3",
      "display_name": "Python 3"
    },
    "language_info": {
      "name": "python"
    }
  },
  "cells": [
    {
      "cell_type": "code",
      "execution_count": 18,
      "metadata": {
        "id": "_69jtknXNPhR"
      },
      "outputs": [],
      "source": [
        "import torch\n",
        "import torch.nn as nn\n",
        "import torch.nn.functional as F\n",
        "from torch.utils.data import Dataset, DataLoader\n",
        "import numpy as np\n",
        "import pandas as pd\n",
        "import os\n",
        "import cv2"
      ]
    },
    {
      "cell_type": "code",
      "source": [
        "input_ex = torch.randn((1,3,244,244))\n",
        "input_ex.shape"
      ],
      "metadata": {
        "colab": {
          "base_uri": "https://localhost:8080/"
        },
        "id": "hOY-Jq1eNX0c",
        "outputId": "6e859be8-6b76-4ef7-ab3a-9b7879fdf9ea"
      },
      "execution_count": 3,
      "outputs": [
        {
          "output_type": "execute_result",
          "data": {
            "text/plain": [
              "torch.Size([1, 3, 244, 244])"
            ]
          },
          "metadata": {},
          "execution_count": 3
        }
      ]
    },
    {
      "cell_type": "markdown",
      "source": [
        "### 데이터 가져오기"
      ],
      "metadata": {
        "id": "Fp_5M5zCSywj"
      }
    },
    {
      "cell_type": "code",
      "source": [
        "from pandas.core.frame import DataFrame\n",
        "paths = []\n",
        "dataset_type = []\n",
        "labels = []\n",
        "\n",
        "for dirname, _, filenames in os.walk('/content/drive/MyDrive/고모부_머신러닝/dogncat'):\n",
        "    for filename in filenames:\n",
        "        filepath = dirname + '/' + filename\n",
        "        paths.append(filepath)\n",
        "\n",
        "        if '/training_set' in filepath:\n",
        "            dataset_type.append('train')\n",
        "\n",
        "        elif '/test_set' in filepath:\n",
        "            dataset_type.append('test')\n",
        "\n",
        "        if 'dogs' in filepath:\n",
        "            labels.append('DOG')\n",
        "        \n",
        "        elif 'cats' in filepath:\n",
        "            labels.append('CAT')"
      ],
      "metadata": {
        "id": "7LzvCT3ROcIC"
      },
      "execution_count": 6,
      "outputs": []
    },
    {
      "cell_type": "code",
      "source": [
        "# Cat n Dog 데이터를 데이터 프레임으로 만들기(path, datatype, label)\n",
        "cnd_df = pd.DataFrame({'path' : paths, 'type' : dataset_type, 'label' : labels})\n",
        "\n",
        "# '.jpg'를 포함하는 path만 df로 만들기\n",
        "filter = cnd_df['path'].str.contains('.jpg') \n",
        "cnd_df = cnd_df[filter]\n",
        "\n",
        "# train, testset으로 분리\n",
        "train_df = cnd_df[cnd_df['type'] == 'train']\n",
        "test_df = cnd_df[cnd_df['type'] == 'test']\n",
        "\n",
        "train_path = train_df['path'].values\n",
        "test_path = test_df['path'].values\n",
        "\n",
        "train_label = train_df['label'].values\n",
        "test_label = test_df['label'].values\n"
      ],
      "metadata": {
        "id": "eWDq2CnEOpqD"
      },
      "execution_count": 9,
      "outputs": []
    },
    {
      "cell_type": "code",
      "source": [
        "onehot_train_label = torch.tensor(pd.get_dummies(train_df['label']).values, dtype=torch.float32)\n",
        "onehot_test_label = torch.tensor(pd.get_dummies(test_df['label']).values, dtype=torch.float32)\n"
      ],
      "metadata": {
        "id": "ob_eZW979raf"
      },
      "execution_count": 65,
      "outputs": []
    },
    {
      "cell_type": "markdown",
      "source": [
        "### Custom Dataset만들기"
      ],
      "metadata": {
        "id": "ghuc8aUjS1kX"
      }
    },
    {
      "cell_type": "code",
      "source": [
        "class MyDataset(Dataset):\n",
        "    def __init__(self, path, label):\n",
        "        super(MyDataset, self).__init__()\n",
        "        self.paths = path\n",
        "        self.labels = label\n",
        "\n",
        "    def __len__(self):\n",
        "        return len(self.paths)\n",
        "\n",
        "    def __getitem__(self, idx):\n",
        "        image = cv2.cvtColor(cv2.imread(self.paths[idx]), cv2.COLOR_BGR2RGB)\n",
        "        image = cv2.resize(image, (244,244))\n",
        "        image = np.asarray(image, dtype=np.float32).transpose(2,0,1)\n",
        "\n",
        "        if self.labels is not None:\n",
        "            label = self.labels[idx]\n",
        "\n",
        "        return image, label\n",
        "\n"
      ],
      "metadata": {
        "id": "wBCs8X0rOvH0"
      },
      "execution_count": 20,
      "outputs": []
    },
    {
      "cell_type": "code",
      "source": [
        "cnd_dataset = MyDataset(train_path, onehot_train_label)\n",
        "loader = DataLoader(cnd_dataset, batch_size=10, shuffle=True)\n",
        "i, l = next(iter(loader))\n",
        "print(i.view(i.size(0), -1))\n",
        "print(l)"
      ],
      "metadata": {
        "colab": {
          "base_uri": "https://localhost:8080/"
        },
        "id": "WwTET6K7OvPb",
        "outputId": "21b2ec0f-010c-4cfd-fa12-ddb92446de5c"
      },
      "execution_count": 67,
      "outputs": [
        {
          "output_type": "stream",
          "name": "stdout",
          "text": [
            "tensor([[ 83.,  54., 137.,  ...,  48.,  69.,  63.],\n",
            "        [226.,  70.,  70.,  ...,  27.,  28.,  29.],\n",
            "        [166., 167., 170.,  ...,  12.,  22.,  26.],\n",
            "        ...,\n",
            "        [144., 144., 144.,  ...,  75.,  71.,  73.],\n",
            "        [122., 119., 119.,  ..., 101., 108., 103.],\n",
            "        [  5.,  10.,  13.,  ...,  12.,  20.,  26.]])\n",
            "tensor([[0., 1.],\n",
            "        [1., 0.],\n",
            "        [0., 1.],\n",
            "        [1., 0.],\n",
            "        [1., 0.],\n",
            "        [0., 1.],\n",
            "        [0., 1.],\n",
            "        [1., 0.],\n",
            "        [0., 1.],\n",
            "        [1., 0.]])\n"
          ]
        }
      ]
    },
    {
      "cell_type": "markdown",
      "source": [
        "### 모델 만들기"
      ],
      "metadata": {
        "id": "wl7vmRgRhUds"
      }
    },
    {
      "cell_type": "code",
      "source": [
        "class CNN(nn.Module):\n",
        "    def __init__(self):\n",
        "        super(CNN, self).__init__()\n",
        "\n",
        "        self.hidden1 = nn.Conv2d(3, 5, kernel_size=3, padding='same')\n",
        "        self.relu = nn.ReLU()\n",
        "\n",
        "        self.fc1 = nn.Linear(3*244*244 ,2)\n",
        "        self.softmax = nn.Softmax(dim=1)\n",
        "\n",
        "    def forward(self, x):\n",
        "        print('input shape:', x.shape)\n",
        "        print(' input max : ', torch.amax(x, dim=(1,2,3)))\n",
        "        print(' input min : ', torch.amin(x, dim=(1,2,3)))\n",
        "        print(' input l2norm : ', torch.linalg.vector_norm(x, dim=(1,2,3)))\n",
        "\n",
        "        # hidden layer\n",
        "        conv = self.hidden1(x)\n",
        "        print('conv result shape :', conv.shape)\n",
        "        print(' conv max : ', torch.amax(conv, dim=(1,2,3)))\n",
        "        print(' conv min : ', torch.amin(conv, dim=(1,2,3)))\n",
        "        print(' conv l2norm : ', torch.linalg.vector_norm(conv, dim=(1,2,3)))\n",
        "        conv_out = self.relu(conv)\n",
        "        print('conv_out shape :', conv_out.shape)\n",
        "        print(' conv_out max : ', torch.amax(conv_out, dim=(1,2,3)))\n",
        "        print(' conv_out min : ', torch.amin(conv_out, dim=(1,2,3)))\n",
        "        print(' conv_out l2norm : ', torch.linalg.vector_norm(conv_out, dim=(1,2,3)))\n",
        "\n",
        "        fc_input = x.view(x.size(0), -1)\n",
        "        print('fc_input shape :', fc_input.shape)\n",
        "        print(' fc_input max : ', torch.amax(fc_input, dim=1))\n",
        "        print(' fc_input min : ', torch.amin(fc_input, dim=1))\n",
        "        print(' fc_input l2norm : ', torch.linalg.vector_norm(fc_input, dim=1))\n",
        "\n",
        "        # output layer\n",
        "        fc_logit = self.fc1(fc_input)\n",
        "        print('fc_logit shape :', fc_logit.shape)\n",
        "        print(' fc_logit max : ', torch.amax(fc_logit, dim=1))\n",
        "        print(' fc_logit min : ', torch.amin(fc_logit, dim=1))\n",
        "        print(' fc_logit l2norm : ', torch.linalg.vector_norm(fc_logit, dim=1))\n",
        "        fc_output = self.softmax(fc_logit)\n",
        "        print('fc_output :', fc_output)\n",
        "        print('fc_output shape :', fc_output.shape)\n",
        "        print(' fc_output max : ', torch.amax(fc_output, dim=1))\n",
        "        print(' fc_output min : ', torch.amin(fc_output, dim=1))\n",
        "        print(' fc_output l2norm : ', torch.linalg.vector_norm(fc_output, dim=1))\n",
        "\n",
        "        return fc_output\n",
        "        "
      ],
      "metadata": {
        "id": "ijct1ktVOvTB"
      },
      "execution_count": 60,
      "outputs": []
    },
    {
      "cell_type": "code",
      "source": [
        "model = CNN()\n",
        "model"
      ],
      "metadata": {
        "colab": {
          "base_uri": "https://localhost:8080/"
        },
        "id": "Nn4euQOXOvWP",
        "outputId": "cb91da8b-f116-43f2-a377-e6f4572cfb01"
      },
      "execution_count": 61,
      "outputs": [
        {
          "output_type": "execute_result",
          "data": {
            "text/plain": [
              "CNN(\n",
              "  (hidden1): Conv2d(3, 5, kernel_size=(3, 3), stride=(1, 1), padding=same)\n",
              "  (relu): ReLU()\n",
              "  (fc1): Linear(in_features=178608, out_features=2, bias=True)\n",
              "  (softmax): Softmax(dim=1)\n",
              ")"
            ]
          },
          "metadata": {},
          "execution_count": 61
        }
      ]
    },
    {
      "cell_type": "code",
      "source": [
        "image_data, label_data = next(iter(loader))\n",
        "loss_fn = nn.CrossEntropyLoss()\n",
        "hyphothesis = model(image_data)\n",
        "loss = loss_fn(hyphothesis, label_data)\n",
        "print(hyphothesis)\n",
        "print(loss)"
      ],
      "metadata": {
        "colab": {
          "base_uri": "https://localhost:8080/"
        },
        "id": "lt-7CvgROvZa",
        "outputId": "f84c378d-38c0-41bb-82a0-a938f79665b9"
      },
      "execution_count": 69,
      "outputs": [
        {
          "output_type": "stream",
          "name": "stdout",
          "text": [
            "input shape: torch.Size([10, 3, 244, 244])\n",
            " input max :  tensor([255., 255., 255., 255., 255., 255., 255., 255., 255., 255.])\n",
            " input min :  tensor([ 0.,  0.,  1.,  7., 11.,  6.,  0.,  0.,  0.,  0.])\n",
            " input l2norm :  tensor([50322.0391, 62513.4609, 63135.6562, 50102.9766, 55699.6602, 45204.2617,\n",
            "        48387.0938, 54231.7148, 41467.0664, 33966.2070])\n",
            "conv result shape : torch.Size([10, 5, 244, 244])\n",
            " conv max :  tensor([318.2874, 313.0726, 319.5253, 307.2996, 319.3111, 284.0623, 317.7573,\n",
            "        319.2509, 318.9292, 317.0482], grad_fn=<AmaxBackward0>)\n",
            " conv min :  tensor([ -99.9369, -104.3439,  -84.9921, -116.1526, -104.6851,  -62.9392,\n",
            "         -77.8961, -102.8595,  -84.3191,  -73.8685], grad_fn=<AminBackward0>)\n",
            " conv l2norm :  tensor([49598.9648, 61589.6680, 62359.7188, 49837.2461, 53446.4062, 44562.4219,\n",
            "        47552.7969, 53735.5352, 40360.1680, 33624.2305],\n",
            "       grad_fn=<LinalgVectorNormBackward0>)\n",
            "conv_out shape : torch.Size([10, 5, 244, 244])\n",
            " conv_out max :  tensor([318.2874, 313.0726, 319.5253, 307.2996, 319.3111, 284.0623, 317.7573,\n",
            "        319.2509, 318.9292, 317.0482], grad_fn=<AmaxBackward0>)\n",
            " conv_out min :  tensor([0., 0., 0., 0., 0., 0., 0., 0., 0., 0.], grad_fn=<AminBackward0>)\n",
            " conv_out l2norm :  tensor([49586.1055, 61565.4414, 62350.7891, 49825.2422, 53432.5664, 44555.4102,\n",
            "        47539.4961, 53698.2148, 40345.3047, 33612.8867],\n",
            "       grad_fn=<LinalgVectorNormBackward0>)\n",
            "fc_input shape : torch.Size([10, 178608])\n",
            " fc_input max :  tensor([255., 255., 255., 255., 255., 255., 255., 255., 255., 255.])\n",
            " fc_input min :  tensor([ 0.,  0.,  1.,  7., 11.,  6.,  0.,  0.,  0.,  0.])\n",
            " fc_input l2norm :  tensor([50322.0391, 62513.4609, 63135.6562, 50102.9766, 55699.6602, 45204.2617,\n",
            "        48387.0938, 54231.7148, 41467.0664, 33966.2070])\n",
            "fc_logit shape : torch.Size([10, 2])\n",
            " fc_logit max :  tensor([ 40.1588, 108.2540,  89.4070,  32.5735,  44.3356,  48.9429,  23.2131,\n",
            "         83.9459,  21.2333,  17.9630], grad_fn=<AmaxBackward0>)\n",
            " fc_logit min :  tensor([  13.5989,  -63.8258, -152.0554, -107.6707,  -60.2499,  -74.0924,\n",
            "         -98.2471, -120.7848,  -20.0520,  -30.1002], grad_fn=<AminBackward0>)\n",
            " fc_logit l2norm :  tensor([ 42.3988, 125.6688, 176.3929, 112.4900,  74.8044,  88.7980, 100.9522,\n",
            "        147.0914,  29.2051,  35.0527], grad_fn=<LinalgVectorNormBackward0>)\n",
            "fc_output : tensor([[1.0000e+00, 2.9187e-12],\n",
            "        [1.0000e+00, 0.0000e+00],\n",
            "        [1.0000e+00, 0.0000e+00],\n",
            "        [1.0000e+00, 0.0000e+00],\n",
            "        [1.0000e+00, 0.0000e+00],\n",
            "        [1.0000e+00, 0.0000e+00],\n",
            "        [1.0000e+00, 0.0000e+00],\n",
            "        [1.0000e+00, 0.0000e+00],\n",
            "        [1.0000e+00, 1.1750e-18],\n",
            "        [1.0000e+00, 1.3379e-21]], grad_fn=<SoftmaxBackward0>)\n",
            "fc_output shape : torch.Size([10, 2])\n",
            " fc_output max :  tensor([1., 1., 1., 1., 1., 1., 1., 1., 1., 1.], grad_fn=<AmaxBackward0>)\n",
            " fc_output min :  tensor([2.9187e-12, 0.0000e+00, 0.0000e+00, 0.0000e+00, 0.0000e+00, 0.0000e+00,\n",
            "        0.0000e+00, 0.0000e+00, 1.1750e-18, 1.3379e-21],\n",
            "       grad_fn=<AminBackward0>)\n",
            " fc_output l2norm :  tensor([1., 1., 1., 1., 1., 1., 1., 1., 1., 1.],\n",
            "       grad_fn=<LinalgVectorNormBackward0>)\n",
            "tensor([[1.0000e+00, 2.9187e-12],\n",
            "        [1.0000e+00, 0.0000e+00],\n",
            "        [1.0000e+00, 0.0000e+00],\n",
            "        [1.0000e+00, 0.0000e+00],\n",
            "        [1.0000e+00, 0.0000e+00],\n",
            "        [1.0000e+00, 0.0000e+00],\n",
            "        [1.0000e+00, 0.0000e+00],\n",
            "        [1.0000e+00, 0.0000e+00],\n",
            "        [1.0000e+00, 1.1750e-18],\n",
            "        [1.0000e+00, 1.3379e-21]], grad_fn=<SoftmaxBackward0>)\n",
            "tensor(0.9133, grad_fn=<DivBackward1>)\n"
          ]
        }
      ]
    },
    {
      "cell_type": "code",
      "source": [
        "hyphothesis"
      ],
      "metadata": {
        "colab": {
          "base_uri": "https://localhost:8080/"
        },
        "id": "QjhHeBu3FC57",
        "outputId": "54c6e13f-b436-4bee-d04e-318ac2f62deb"
      },
      "execution_count": 63,
      "outputs": [
        {
          "output_type": "execute_result",
          "data": {
            "text/plain": [
              "tensor([[1.0000e+00, 0.0000e+00],\n",
              "        [1.0000e+00, 0.0000e+00],\n",
              "        [1.0000e+00, 3.6927e-23],\n",
              "        [1.0000e+00, 0.0000e+00],\n",
              "        [1.0000e+00, 0.0000e+00],\n",
              "        [1.0000e+00, 0.0000e+00],\n",
              "        [1.0000e+00, 0.0000e+00],\n",
              "        [1.0000e+00, 0.0000e+00],\n",
              "        [1.0000e+00, 0.0000e+00],\n",
              "        [1.0000e+00, 2.4166e-38]], grad_fn=<SoftmaxBackward0>)"
            ]
          },
          "metadata": {},
          "execution_count": 63
        }
      ]
    },
    {
      "cell_type": "code",
      "source": [
        "loss = nn.CrossEntropyLoss()\n",
        "input = torch.randn(3, 5, requires_grad=True)\n",
        "target = torch.empty(3, dtype=torch.long).random_(5)\n",
        "output = loss(input, target)"
      ],
      "metadata": {
        "id": "e_tYllFdnjMV"
      },
      "execution_count": 44,
      "outputs": []
    },
    {
      "cell_type": "code",
      "source": [
        "print(input)\n",
        "print()\n",
        "print(target)\n",
        "print(output)"
      ],
      "metadata": {
        "colab": {
          "base_uri": "https://localhost:8080/"
        },
        "id": "NReP75B1AGGl",
        "outputId": "6ae8f137-6f5f-4ab7-c27b-486fe366fa75"
      },
      "execution_count": 47,
      "outputs": [
        {
          "output_type": "stream",
          "name": "stdout",
          "text": [
            "tensor([[-1.2552,  0.0061, -0.0628,  0.1683, -0.8156],\n",
            "        [ 0.7931, -0.3394,  1.0257,  0.4712,  1.2140],\n",
            "        [ 0.1355, -1.5505,  0.3422,  0.5980,  0.2279]], requires_grad=True)\n",
            "\n",
            "tensor([1, 4, 4])\n",
            "tensor(1.3449, grad_fn=<NllLossBackward0>)\n"
          ]
        }
      ]
    },
    {
      "cell_type": "code",
      "source": [
        "target2 = torch.randn(3,5).softmax(dim=1)\n",
        "output2 = loss(input, target2)\n",
        "\n",
        "print(target2)\n",
        "print(output2)"
      ],
      "metadata": {
        "colab": {
          "base_uri": "https://localhost:8080/"
        },
        "id": "s7xm5M6WAHgz",
        "outputId": "c9a2c186-2ce7-4f1d-d049-3fd206beb4b5"
      },
      "execution_count": 48,
      "outputs": [
        {
          "output_type": "stream",
          "name": "stdout",
          "text": [
            "tensor([[0.2395, 0.1087, 0.0064, 0.1246, 0.5209],\n",
            "        [0.0881, 0.1126, 0.5270, 0.0960, 0.1763],\n",
            "        [0.1382, 0.0414, 0.2380, 0.4794, 0.1029]])\n",
            "tensor(1.6698, grad_fn=<DivBackward1>)\n"
          ]
        }
      ]
    },
    {
      "cell_type": "markdown",
      "source": [
        "normalized -> 0~1사이의 값으로 만들어주는 것"
      ],
      "metadata": {
        "id": "sGbpM1TBE_LP"
      }
    },
    {
      "cell_type": "code",
      "source": [
        ""
      ],
      "metadata": {
        "id": "uhofE2-QPAVc"
      },
      "execution_count": null,
      "outputs": []
    }
  ]
}