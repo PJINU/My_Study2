{
  "nbformat": 4,
  "nbformat_minor": 0,
  "metadata": {
    "colab": {
      "name": "confusion_matrix_calculate.ipynb",
      "provenance": []
    },
    "kernelspec": {
      "name": "python3",
      "display_name": "Python 3"
    },
    "language_info": {
      "name": "python"
    }
  },
  "cells": [
    {
      "cell_type": "code",
      "execution_count": 1,
      "metadata": {
        "id": "F6x_Hu1sknuE"
      },
      "outputs": [],
      "source": [
        "import pandas as pd\n",
        "import numpy as np\n",
        "from sklearn.metrics import accuracy_score, recall_score, precision_score\n",
        "\n"
      ]
    },
    {
      "cell_type": "code",
      "source": [
        "predicted = np.array([1,0,0,1,1,1])\n",
        "actual = np.array([0,0,1,1,1,0])\n"
      ],
      "metadata": {
        "id": "fcC1O0QNlmD0"
      },
      "execution_count": 2,
      "outputs": []
    },
    {
      "cell_type": "code",
      "source": [
        "accuracy = accuracy_score(actual, predicted)\n",
        "recall = recall_score(actual, predicted)\n",
        "precision = precision_score(actual, predicted)\n",
        "\n",
        "print(f'accuracy : {accuracy}, recall : {recall}, precision : {precision}')"
      ],
      "metadata": {
        "colab": {
          "base_uri": "https://localhost:8080/"
        },
        "id": "tBwyfCVTl-Sz",
        "outputId": "5552326d-ee63-461b-b45a-263b170a84d1"
      },
      "execution_count": 3,
      "outputs": [
        {
          "output_type": "stream",
          "name": "stdout",
          "text": [
            "accuracy : 0.5, recall : 0.6666666666666666, precision : 0.5\n"
          ]
        }
      ]
    },
    {
      "cell_type": "code",
      "source": [
        "def calculate_conf_matrix(predicted, label, class_idx):\n",
        "    TP_num = 0\n",
        "    TN_num = 0\n",
        "    FP_num = 0\n",
        "    FN_num = 0\n",
        "    for i in range(len(predicted)):\n",
        "        if predicted[i] == class_idx and label[i] == class_idx:\n",
        "            TP_num += 1\n",
        "\n",
        "        elif predicted[i] == class_idx and label[i] != class_idx:\n",
        "            FP_num += 1\n",
        "            \n",
        "        elif predicted[i] != class_idx and label[i] == class_idx:\n",
        "            FN_num += 1\n",
        "\n",
        "        elif predicted[i] != class_idx and label[i] != class_idx:\n",
        "            TN_num += 1\n",
        "\n",
        "    return TP_num, TN_num, FP_num, FN_num\n",
        "        \n"
      ],
      "metadata": {
        "id": "A3cw3flKXEcd"
      },
      "execution_count": 4,
      "outputs": []
    },
    {
      "cell_type": "code",
      "source": [
        "TP, TN, FP, FN = calculate_conf_matrix(predicted, actual, 0)\n",
        "print(f'TP : {TP}, TN : {TN}, FP : {FP}, FN : {FN}')"
      ],
      "metadata": {
        "colab": {
          "base_uri": "https://localhost:8080/"
        },
        "id": "AfqREMRbjxxN",
        "outputId": "bfd57981-9893-4118-8c31-e93f06057bee"
      },
      "execution_count": 6,
      "outputs": [
        {
          "output_type": "stream",
          "name": "stdout",
          "text": [
            "TP : 1, TN : 2, FP : 1, FN : 2\n"
          ]
        }
      ]
    },
    {
      "cell_type": "code",
      "source": [
        "def calculate_accuracy(TP, TN, FP, FN):\n",
        "    accuracy = (TP + TN) / (TP + TN + FP + FN)\n",
        "    return accuracy\n"
      ],
      "metadata": {
        "id": "cx1ZtG2geFr1"
      },
      "execution_count": 7,
      "outputs": []
    },
    {
      "cell_type": "code",
      "source": [
        "def calculate_recall(TP, FN):\n",
        "    recall = TP / (TP + FN)\n",
        "    return recall"
      ],
      "metadata": {
        "id": "CbiYsKhvgpaL"
      },
      "execution_count": 8,
      "outputs": []
    },
    {
      "cell_type": "code",
      "source": [
        "def calculate_precision(TP, FP):\n",
        "    precision = TP / (TP + FP)\n",
        "    return precision"
      ],
      "metadata": {
        "id": "gAxnfdy1g0te"
      },
      "execution_count": 9,
      "outputs": []
    },
    {
      "cell_type": "code",
      "source": [
        "class_num = 2\n",
        "for class_idx in range(class_num):\n",
        "    TP, TN, FP, FN = calculate_conf_matrix(predicted, actual, class_idx)\n",
        "    accuracy = calculate_accuracy(TP, TN, FP, FN)\n",
        "    print(f'class{class_idx} accuracy : {accuracy}')\n",
        "    recall = calculate_recall(TP, FN)\n",
        "    print(f'class{class_idx} recall : {recall}')\n",
        "    precision = calculate_precision(TP, FP)\n",
        "    print(f'class{class_idx} precision : {precision}')\n"
      ],
      "metadata": {
        "colab": {
          "base_uri": "https://localhost:8080/"
        },
        "id": "1fNh5gphg74z",
        "outputId": "19171a74-29a8-4fd3-dc09-99a80e52c58a"
      },
      "execution_count": 10,
      "outputs": [
        {
          "output_type": "stream",
          "name": "stdout",
          "text": [
            "class0 accuracy : 0.5\n",
            "class0 recall : 0.3333333333333333\n",
            "class0 precision : 0.5\n",
            "class1 accuracy : 0.5\n",
            "class1 recall : 0.6666666666666666\n",
            "class1 precision : 0.5\n"
          ]
        }
      ]
    },
    {
      "cell_type": "code",
      "source": [
        ""
      ],
      "metadata": {
        "id": "_5ezzrJ-i_Zl"
      },
      "execution_count": null,
      "outputs": []
    }
  ]
}