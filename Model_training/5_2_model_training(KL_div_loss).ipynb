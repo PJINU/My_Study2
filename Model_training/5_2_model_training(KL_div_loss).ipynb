{
  "nbformat": 4,
  "nbformat_minor": 0,
  "metadata": {
    "colab": {
      "name": "5_2_model_training(KL_div_loss).ipynb",
      "provenance": []
    },
    "kernelspec": {
      "name": "python3",
      "display_name": "Python 3"
    },
    "language_info": {
      "name": "python"
    },
    "accelerator": "GPU",
    "gpuClass": "standard"
  },
  "cells": [
    {
      "cell_type": "code",
      "execution_count": 1,
      "metadata": {
        "id": "qAEbLZ7vsTVo"
      },
      "outputs": [],
      "source": [
        "import numpy as np\n",
        "import pandas as pd\n",
        "import torch\n",
        "import torch.nn as nn\n",
        "import torch.nn.functional as F\n",
        "from torch.utils.data import Dataset, DataLoader\n",
        "import os\n",
        "from sklearn.model_selection import train_test_split\n",
        "import cv2\n",
        "from torch.optim import SGD\n",
        "from torch.optim.lr_scheduler import LinearLR\n",
        "from sklearn.preprocessing import OneHotEncoder"
      ]
    },
    {
      "cell_type": "markdown",
      "source": [
        "### GPU 설정"
      ],
      "metadata": {
        "id": "X0t7yrUOg6lL"
      }
    },
    {
      "cell_type": "code",
      "source": [
        "device = 'cuda' if torch.cuda.is_available() else 'cpu'\n",
        "device"
      ],
      "metadata": {
        "colab": {
          "base_uri": "https://localhost:8080/",
          "height": 36
        },
        "id": "NY4iGyKcgjif",
        "outputId": "677df41b-d731-4595-9b4e-c9c2a64b7b1e"
      },
      "execution_count": 2,
      "outputs": [
        {
          "output_type": "execute_result",
          "data": {
            "text/plain": [
              "'cuda'"
            ],
            "application/vnd.google.colaboratory.intrinsic+json": {
              "type": "string"
            }
          },
          "metadata": {},
          "execution_count": 2
        }
      ]
    },
    {
      "cell_type": "markdown",
      "source": [
        "### 데이터 가져오기"
      ],
      "metadata": {
        "id": "8CGmvK_xg3uK"
      }
    },
    {
      "cell_type": "code",
      "source": [
        "dir_path = '/content/drive/MyDrive/고모부_머신러닝/dogncat'\n",
        "path = []\n",
        "dataset_type = []\n",
        "label = []\n",
        "for dir_name, _, file_names in os.walk(dir_path):\n",
        "    for file_name in file_names:\n",
        "        file_path = dir_name + '/' + file_name\n",
        "        path.append(file_path)\n",
        "    \n",
        "        if '/training_set' in file_path:\n",
        "            dataset_type.append('train')\n",
        "        elif '/test_set' in file_path:\n",
        "            dataset_type.append('test')\n",
        "        else:\n",
        "            dataset_type.append('N/A')\n",
        "\n",
        "        if '/cats' in file_path:\n",
        "            label.append('CAT')\n",
        "        elif '/dogs' in file_path:\n",
        "            label.append('DOG')\n",
        "        else:\n",
        "            label.append('N/A')\n",
        "\n",
        "cnd_df = pd.DataFrame({'path' : path, 'type' : dataset_type, 'label' : label})\n",
        "            "
      ],
      "metadata": {
        "id": "LkxUK6rEg-Xq"
      },
      "execution_count": 3,
      "outputs": []
    },
    {
      "cell_type": "code",
      "source": [
        "cnd_df.info()"
      ],
      "metadata": {
        "colab": {
          "base_uri": "https://localhost:8080/"
        },
        "id": "XozN7BI4g-ui",
        "outputId": "f8ad71d0-a81b-430f-cdc0-1fbb0ef9dce2"
      },
      "execution_count": 4,
      "outputs": [
        {
          "output_type": "stream",
          "name": "stdout",
          "text": [
            "<class 'pandas.core.frame.DataFrame'>\n",
            "RangeIndex: 10032 entries, 0 to 10031\n",
            "Data columns (total 3 columns):\n",
            " #   Column  Non-Null Count  Dtype \n",
            "---  ------  --------------  ----- \n",
            " 0   path    10032 non-null  object\n",
            " 1   type    10032 non-null  object\n",
            " 2   label   10032 non-null  object\n",
            "dtypes: object(3)\n",
            "memory usage: 235.2+ KB\n"
          ]
        }
      ]
    },
    {
      "cell_type": "code",
      "source": [
        "cnd_df.head(10)"
      ],
      "metadata": {
        "colab": {
          "base_uri": "https://localhost:8080/",
          "height": 363
        },
        "id": "Wryqn3cYrTyG",
        "outputId": "9d201f27-1e1a-4022-8883-a670ebb3b554"
      },
      "execution_count": 5,
      "outputs": [
        {
          "output_type": "execute_result",
          "data": {
            "text/plain": [
              "                                                path  type label\n",
              "0  /content/drive/MyDrive/고모부_머신러닝/dognc...  test   CAT\n",
              "1  /content/drive/MyDrive/고모부_머신러닝/dognc...  test   CAT\n",
              "2  /content/drive/MyDrive/고모부_머신러닝/dognc...  test   CAT\n",
              "3  /content/drive/MyDrive/고모부_머신러닝/dognc...  test   CAT\n",
              "4  /content/drive/MyDrive/고모부_머신러닝/dognc...  test   CAT\n",
              "5  /content/drive/MyDrive/고모부_머신러닝/dognc...  test   CAT\n",
              "6  /content/drive/MyDrive/고모부_머신러닝/dognc...  test   CAT\n",
              "7  /content/drive/MyDrive/고모부_머신러닝/dognc...  test   CAT\n",
              "8  /content/drive/MyDrive/고모부_머신러닝/dognc...  test   CAT\n",
              "9  /content/drive/MyDrive/고모부_머신러닝/dognc...  test   CAT"
            ],
            "text/html": [
              "\n",
              "  <div id=\"df-a04d122f-6892-4f49-acc2-f10be77418d9\">\n",
              "    <div class=\"colab-df-container\">\n",
              "      <div>\n",
              "<style scoped>\n",
              "    .dataframe tbody tr th:only-of-type {\n",
              "        vertical-align: middle;\n",
              "    }\n",
              "\n",
              "    .dataframe tbody tr th {\n",
              "        vertical-align: top;\n",
              "    }\n",
              "\n",
              "    .dataframe thead th {\n",
              "        text-align: right;\n",
              "    }\n",
              "</style>\n",
              "<table border=\"1\" class=\"dataframe\">\n",
              "  <thead>\n",
              "    <tr style=\"text-align: right;\">\n",
              "      <th></th>\n",
              "      <th>path</th>\n",
              "      <th>type</th>\n",
              "      <th>label</th>\n",
              "    </tr>\n",
              "  </thead>\n",
              "  <tbody>\n",
              "    <tr>\n",
              "      <th>0</th>\n",
              "      <td>/content/drive/MyDrive/고모부_머신러닝/dognc...</td>\n",
              "      <td>test</td>\n",
              "      <td>CAT</td>\n",
              "    </tr>\n",
              "    <tr>\n",
              "      <th>1</th>\n",
              "      <td>/content/drive/MyDrive/고모부_머신러닝/dognc...</td>\n",
              "      <td>test</td>\n",
              "      <td>CAT</td>\n",
              "    </tr>\n",
              "    <tr>\n",
              "      <th>2</th>\n",
              "      <td>/content/drive/MyDrive/고모부_머신러닝/dognc...</td>\n",
              "      <td>test</td>\n",
              "      <td>CAT</td>\n",
              "    </tr>\n",
              "    <tr>\n",
              "      <th>3</th>\n",
              "      <td>/content/drive/MyDrive/고모부_머신러닝/dognc...</td>\n",
              "      <td>test</td>\n",
              "      <td>CAT</td>\n",
              "    </tr>\n",
              "    <tr>\n",
              "      <th>4</th>\n",
              "      <td>/content/drive/MyDrive/고모부_머신러닝/dognc...</td>\n",
              "      <td>test</td>\n",
              "      <td>CAT</td>\n",
              "    </tr>\n",
              "    <tr>\n",
              "      <th>5</th>\n",
              "      <td>/content/drive/MyDrive/고모부_머신러닝/dognc...</td>\n",
              "      <td>test</td>\n",
              "      <td>CAT</td>\n",
              "    </tr>\n",
              "    <tr>\n",
              "      <th>6</th>\n",
              "      <td>/content/drive/MyDrive/고모부_머신러닝/dognc...</td>\n",
              "      <td>test</td>\n",
              "      <td>CAT</td>\n",
              "    </tr>\n",
              "    <tr>\n",
              "      <th>7</th>\n",
              "      <td>/content/drive/MyDrive/고모부_머신러닝/dognc...</td>\n",
              "      <td>test</td>\n",
              "      <td>CAT</td>\n",
              "    </tr>\n",
              "    <tr>\n",
              "      <th>8</th>\n",
              "      <td>/content/drive/MyDrive/고모부_머신러닝/dognc...</td>\n",
              "      <td>test</td>\n",
              "      <td>CAT</td>\n",
              "    </tr>\n",
              "    <tr>\n",
              "      <th>9</th>\n",
              "      <td>/content/drive/MyDrive/고모부_머신러닝/dognc...</td>\n",
              "      <td>test</td>\n",
              "      <td>CAT</td>\n",
              "    </tr>\n",
              "  </tbody>\n",
              "</table>\n",
              "</div>\n",
              "      <button class=\"colab-df-convert\" onclick=\"convertToInteractive('df-a04d122f-6892-4f49-acc2-f10be77418d9')\"\n",
              "              title=\"Convert this dataframe to an interactive table.\"\n",
              "              style=\"display:none;\">\n",
              "        \n",
              "  <svg xmlns=\"http://www.w3.org/2000/svg\" height=\"24px\"viewBox=\"0 0 24 24\"\n",
              "       width=\"24px\">\n",
              "    <path d=\"M0 0h24v24H0V0z\" fill=\"none\"/>\n",
              "    <path d=\"M18.56 5.44l.94 2.06.94-2.06 2.06-.94-2.06-.94-.94-2.06-.94 2.06-2.06.94zm-11 1L8.5 8.5l.94-2.06 2.06-.94-2.06-.94L8.5 2.5l-.94 2.06-2.06.94zm10 10l.94 2.06.94-2.06 2.06-.94-2.06-.94-.94-2.06-.94 2.06-2.06.94z\"/><path d=\"M17.41 7.96l-1.37-1.37c-.4-.4-.92-.59-1.43-.59-.52 0-1.04.2-1.43.59L10.3 9.45l-7.72 7.72c-.78.78-.78 2.05 0 2.83L4 21.41c.39.39.9.59 1.41.59.51 0 1.02-.2 1.41-.59l7.78-7.78 2.81-2.81c.8-.78.8-2.07 0-2.86zM5.41 20L4 18.59l7.72-7.72 1.47 1.35L5.41 20z\"/>\n",
              "  </svg>\n",
              "      </button>\n",
              "      \n",
              "  <style>\n",
              "    .colab-df-container {\n",
              "      display:flex;\n",
              "      flex-wrap:wrap;\n",
              "      gap: 12px;\n",
              "    }\n",
              "\n",
              "    .colab-df-convert {\n",
              "      background-color: #E8F0FE;\n",
              "      border: none;\n",
              "      border-radius: 50%;\n",
              "      cursor: pointer;\n",
              "      display: none;\n",
              "      fill: #1967D2;\n",
              "      height: 32px;\n",
              "      padding: 0 0 0 0;\n",
              "      width: 32px;\n",
              "    }\n",
              "\n",
              "    .colab-df-convert:hover {\n",
              "      background-color: #E2EBFA;\n",
              "      box-shadow: 0px 1px 2px rgba(60, 64, 67, 0.3), 0px 1px 3px 1px rgba(60, 64, 67, 0.15);\n",
              "      fill: #174EA6;\n",
              "    }\n",
              "\n",
              "    [theme=dark] .colab-df-convert {\n",
              "      background-color: #3B4455;\n",
              "      fill: #D2E3FC;\n",
              "    }\n",
              "\n",
              "    [theme=dark] .colab-df-convert:hover {\n",
              "      background-color: #434B5C;\n",
              "      box-shadow: 0px 1px 3px 1px rgba(0, 0, 0, 0.15);\n",
              "      filter: drop-shadow(0px 1px 2px rgba(0, 0, 0, 0.3));\n",
              "      fill: #FFFFFF;\n",
              "    }\n",
              "  </style>\n",
              "\n",
              "      <script>\n",
              "        const buttonEl =\n",
              "          document.querySelector('#df-a04d122f-6892-4f49-acc2-f10be77418d9 button.colab-df-convert');\n",
              "        buttonEl.style.display =\n",
              "          google.colab.kernel.accessAllowed ? 'block' : 'none';\n",
              "\n",
              "        async function convertToInteractive(key) {\n",
              "          const element = document.querySelector('#df-a04d122f-6892-4f49-acc2-f10be77418d9');\n",
              "          const dataTable =\n",
              "            await google.colab.kernel.invokeFunction('convertToInteractive',\n",
              "                                                     [key], {});\n",
              "          if (!dataTable) return;\n",
              "\n",
              "          const docLinkHtml = 'Like what you see? Visit the ' +\n",
              "            '<a target=\"_blank\" href=https://colab.research.google.com/notebooks/data_table.ipynb>data table notebook</a>'\n",
              "            + ' to learn more about interactive tables.';\n",
              "          element.innerHTML = '';\n",
              "          dataTable['output_type'] = 'display_data';\n",
              "          await google.colab.output.renderOutput(dataTable, element);\n",
              "          const docLink = document.createElement('div');\n",
              "          docLink.innerHTML = docLinkHtml;\n",
              "          element.appendChild(docLink);\n",
              "        }\n",
              "      </script>\n",
              "    </div>\n",
              "  </div>\n",
              "  "
            ]
          },
          "metadata": {},
          "execution_count": 5
        }
      ]
    },
    {
      "cell_type": "code",
      "source": [
        "cnd_df = cnd_df[cnd_df['path'].str.contains('.jpg')]"
      ],
      "metadata": {
        "id": "HnbcGm6KlfCy"
      },
      "execution_count": 6,
      "outputs": []
    },
    {
      "cell_type": "code",
      "source": [
        "cnd_df.info()"
      ],
      "metadata": {
        "colab": {
          "base_uri": "https://localhost:8080/"
        },
        "id": "lXSzkKp6lsN2",
        "outputId": "f2f5a23f-d5e5-4664-9442-fea14c430174"
      },
      "execution_count": 7,
      "outputs": [
        {
          "output_type": "stream",
          "name": "stdout",
          "text": [
            "<class 'pandas.core.frame.DataFrame'>\n",
            "Int64Index: 10028 entries, 0 to 10031\n",
            "Data columns (total 3 columns):\n",
            " #   Column  Non-Null Count  Dtype \n",
            "---  ------  --------------  ----- \n",
            " 0   path    10028 non-null  object\n",
            " 1   type    10028 non-null  object\n",
            " 2   label   10028 non-null  object\n",
            "dtypes: object(3)\n",
            "memory usage: 313.4+ KB\n"
          ]
        }
      ]
    },
    {
      "cell_type": "code",
      "source": [
        "cnd_df.head()"
      ],
      "metadata": {
        "colab": {
          "base_uri": "https://localhost:8080/",
          "height": 206
        },
        "id": "2Zh0hAbQrEu3",
        "outputId": "3bda4f07-2289-48c4-b1f6-81395c9cf2fa"
      },
      "execution_count": 8,
      "outputs": [
        {
          "output_type": "execute_result",
          "data": {
            "text/plain": [
              "                                                path  type label\n",
              "0  /content/drive/MyDrive/고모부_머신러닝/dognc...  test   CAT\n",
              "1  /content/drive/MyDrive/고모부_머신러닝/dognc...  test   CAT\n",
              "2  /content/drive/MyDrive/고모부_머신러닝/dognc...  test   CAT\n",
              "3  /content/drive/MyDrive/고모부_머신러닝/dognc...  test   CAT\n",
              "4  /content/drive/MyDrive/고모부_머신러닝/dognc...  test   CAT"
            ],
            "text/html": [
              "\n",
              "  <div id=\"df-3d43da02-6243-4022-bc96-a583bd77bb89\">\n",
              "    <div class=\"colab-df-container\">\n",
              "      <div>\n",
              "<style scoped>\n",
              "    .dataframe tbody tr th:only-of-type {\n",
              "        vertical-align: middle;\n",
              "    }\n",
              "\n",
              "    .dataframe tbody tr th {\n",
              "        vertical-align: top;\n",
              "    }\n",
              "\n",
              "    .dataframe thead th {\n",
              "        text-align: right;\n",
              "    }\n",
              "</style>\n",
              "<table border=\"1\" class=\"dataframe\">\n",
              "  <thead>\n",
              "    <tr style=\"text-align: right;\">\n",
              "      <th></th>\n",
              "      <th>path</th>\n",
              "      <th>type</th>\n",
              "      <th>label</th>\n",
              "    </tr>\n",
              "  </thead>\n",
              "  <tbody>\n",
              "    <tr>\n",
              "      <th>0</th>\n",
              "      <td>/content/drive/MyDrive/고모부_머신러닝/dognc...</td>\n",
              "      <td>test</td>\n",
              "      <td>CAT</td>\n",
              "    </tr>\n",
              "    <tr>\n",
              "      <th>1</th>\n",
              "      <td>/content/drive/MyDrive/고모부_머신러닝/dognc...</td>\n",
              "      <td>test</td>\n",
              "      <td>CAT</td>\n",
              "    </tr>\n",
              "    <tr>\n",
              "      <th>2</th>\n",
              "      <td>/content/drive/MyDrive/고모부_머신러닝/dognc...</td>\n",
              "      <td>test</td>\n",
              "      <td>CAT</td>\n",
              "    </tr>\n",
              "    <tr>\n",
              "      <th>3</th>\n",
              "      <td>/content/drive/MyDrive/고모부_머신러닝/dognc...</td>\n",
              "      <td>test</td>\n",
              "      <td>CAT</td>\n",
              "    </tr>\n",
              "    <tr>\n",
              "      <th>4</th>\n",
              "      <td>/content/drive/MyDrive/고모부_머신러닝/dognc...</td>\n",
              "      <td>test</td>\n",
              "      <td>CAT</td>\n",
              "    </tr>\n",
              "  </tbody>\n",
              "</table>\n",
              "</div>\n",
              "      <button class=\"colab-df-convert\" onclick=\"convertToInteractive('df-3d43da02-6243-4022-bc96-a583bd77bb89')\"\n",
              "              title=\"Convert this dataframe to an interactive table.\"\n",
              "              style=\"display:none;\">\n",
              "        \n",
              "  <svg xmlns=\"http://www.w3.org/2000/svg\" height=\"24px\"viewBox=\"0 0 24 24\"\n",
              "       width=\"24px\">\n",
              "    <path d=\"M0 0h24v24H0V0z\" fill=\"none\"/>\n",
              "    <path d=\"M18.56 5.44l.94 2.06.94-2.06 2.06-.94-2.06-.94-.94-2.06-.94 2.06-2.06.94zm-11 1L8.5 8.5l.94-2.06 2.06-.94-2.06-.94L8.5 2.5l-.94 2.06-2.06.94zm10 10l.94 2.06.94-2.06 2.06-.94-2.06-.94-.94-2.06-.94 2.06-2.06.94z\"/><path d=\"M17.41 7.96l-1.37-1.37c-.4-.4-.92-.59-1.43-.59-.52 0-1.04.2-1.43.59L10.3 9.45l-7.72 7.72c-.78.78-.78 2.05 0 2.83L4 21.41c.39.39.9.59 1.41.59.51 0 1.02-.2 1.41-.59l7.78-7.78 2.81-2.81c.8-.78.8-2.07 0-2.86zM5.41 20L4 18.59l7.72-7.72 1.47 1.35L5.41 20z\"/>\n",
              "  </svg>\n",
              "      </button>\n",
              "      \n",
              "  <style>\n",
              "    .colab-df-container {\n",
              "      display:flex;\n",
              "      flex-wrap:wrap;\n",
              "      gap: 12px;\n",
              "    }\n",
              "\n",
              "    .colab-df-convert {\n",
              "      background-color: #E8F0FE;\n",
              "      border: none;\n",
              "      border-radius: 50%;\n",
              "      cursor: pointer;\n",
              "      display: none;\n",
              "      fill: #1967D2;\n",
              "      height: 32px;\n",
              "      padding: 0 0 0 0;\n",
              "      width: 32px;\n",
              "    }\n",
              "\n",
              "    .colab-df-convert:hover {\n",
              "      background-color: #E2EBFA;\n",
              "      box-shadow: 0px 1px 2px rgba(60, 64, 67, 0.3), 0px 1px 3px 1px rgba(60, 64, 67, 0.15);\n",
              "      fill: #174EA6;\n",
              "    }\n",
              "\n",
              "    [theme=dark] .colab-df-convert {\n",
              "      background-color: #3B4455;\n",
              "      fill: #D2E3FC;\n",
              "    }\n",
              "\n",
              "    [theme=dark] .colab-df-convert:hover {\n",
              "      background-color: #434B5C;\n",
              "      box-shadow: 0px 1px 3px 1px rgba(0, 0, 0, 0.15);\n",
              "      filter: drop-shadow(0px 1px 2px rgba(0, 0, 0, 0.3));\n",
              "      fill: #FFFFFF;\n",
              "    }\n",
              "  </style>\n",
              "\n",
              "      <script>\n",
              "        const buttonEl =\n",
              "          document.querySelector('#df-3d43da02-6243-4022-bc96-a583bd77bb89 button.colab-df-convert');\n",
              "        buttonEl.style.display =\n",
              "          google.colab.kernel.accessAllowed ? 'block' : 'none';\n",
              "\n",
              "        async function convertToInteractive(key) {\n",
              "          const element = document.querySelector('#df-3d43da02-6243-4022-bc96-a583bd77bb89');\n",
              "          const dataTable =\n",
              "            await google.colab.kernel.invokeFunction('convertToInteractive',\n",
              "                                                     [key], {});\n",
              "          if (!dataTable) return;\n",
              "\n",
              "          const docLinkHtml = 'Like what you see? Visit the ' +\n",
              "            '<a target=\"_blank\" href=https://colab.research.google.com/notebooks/data_table.ipynb>data table notebook</a>'\n",
              "            + ' to learn more about interactive tables.';\n",
              "          element.innerHTML = '';\n",
              "          dataTable['output_type'] = 'display_data';\n",
              "          await google.colab.output.renderOutput(dataTable, element);\n",
              "          const docLink = document.createElement('div');\n",
              "          docLink.innerHTML = docLinkHtml;\n",
              "          element.appendChild(docLink);\n",
              "        }\n",
              "      </script>\n",
              "    </div>\n",
              "  </div>\n",
              "  "
            ]
          },
          "metadata": {},
          "execution_count": 8
        }
      ]
    },
    {
      "cell_type": "code",
      "source": [
        "# train, validation 구분\n",
        "train_df, valid_df = train_test_split(cnd_df[cnd_df['type']=='train'], test_size = 0.25)\n",
        "\n",
        "# onehotencoding\n",
        "train_onehot = pd.get_dummies(train_df['label'])\n",
        "valid_onehot = pd.get_dummies(valid_df['label'])\n",
        "\n",
        "train_df = pd.concat([train_df, train_onehot], axis=1)\n",
        "valid_df = pd.concat([valid_df, valid_onehot], axis=1)\n",
        "\n",
        "# train용 path 데이터, label 데이터\n",
        "train_data = train_df['path']\n",
        "train_label = train_df.iloc[:, 3:].values\n",
        "# train_label_indices = train_label.replace(['CAT', 'DOG'], [0,1]).values\n",
        "\n",
        "# validation용 path, label 데이터\n",
        "valid_data = valid_df['path']\n",
        "valid_label = valid_df.iloc[:, 3:].values\n",
        "# valid_label_indices = valid_label.replace(['CAT', 'DOG'], [0,1]).values"
      ],
      "metadata": {
        "id": "NFAW5uESmr1v"
      },
      "execution_count": 9,
      "outputs": []
    },
    {
      "cell_type": "code",
      "source": [
        "train_df"
      ],
      "metadata": {
        "colab": {
          "base_uri": "https://localhost:8080/",
          "height": 424
        },
        "id": "0sroPlZSsXG0",
        "outputId": "2f5acace-876c-46da-c9ce-2791cf9a003c"
      },
      "execution_count": 10,
      "outputs": [
        {
          "output_type": "execute_result",
          "data": {
            "text/plain": [
              "                                                   path   type label  CAT  DOG\n",
              "2593  /content/drive/MyDrive/고모부_머신러닝/dognc...  train   CAT    1    0\n",
              "7181  /content/drive/MyDrive/고모부_머신러닝/dognc...  train   DOG    0    1\n",
              "5046  /content/drive/MyDrive/고모부_머신러닝/dognc...  train   CAT    1    0\n",
              "2377  /content/drive/MyDrive/고모부_머신러닝/dognc...  train   CAT    1    0\n",
              "7852  /content/drive/MyDrive/고모부_머신러닝/dognc...  train   DOG    0    1\n",
              "...                                                 ...    ...   ...  ...  ...\n",
              "9465  /content/drive/MyDrive/고모부_머신러닝/dognc...  train   DOG    0    1\n",
              "9804  /content/drive/MyDrive/고모부_머신러닝/dognc...  train   DOG    0    1\n",
              "5387  /content/drive/MyDrive/고모부_머신러닝/dognc...  train   CAT    1    0\n",
              "9658  /content/drive/MyDrive/고모부_머신러닝/dognc...  train   DOG    0    1\n",
              "3846  /content/drive/MyDrive/고모부_머신러닝/dognc...  train   CAT    1    0\n",
              "\n",
              "[6003 rows x 5 columns]"
            ],
            "text/html": [
              "\n",
              "  <div id=\"df-725874c4-c800-4f32-993a-66fd5622f855\">\n",
              "    <div class=\"colab-df-container\">\n",
              "      <div>\n",
              "<style scoped>\n",
              "    .dataframe tbody tr th:only-of-type {\n",
              "        vertical-align: middle;\n",
              "    }\n",
              "\n",
              "    .dataframe tbody tr th {\n",
              "        vertical-align: top;\n",
              "    }\n",
              "\n",
              "    .dataframe thead th {\n",
              "        text-align: right;\n",
              "    }\n",
              "</style>\n",
              "<table border=\"1\" class=\"dataframe\">\n",
              "  <thead>\n",
              "    <tr style=\"text-align: right;\">\n",
              "      <th></th>\n",
              "      <th>path</th>\n",
              "      <th>type</th>\n",
              "      <th>label</th>\n",
              "      <th>CAT</th>\n",
              "      <th>DOG</th>\n",
              "    </tr>\n",
              "  </thead>\n",
              "  <tbody>\n",
              "    <tr>\n",
              "      <th>2593</th>\n",
              "      <td>/content/drive/MyDrive/고모부_머신러닝/dognc...</td>\n",
              "      <td>train</td>\n",
              "      <td>CAT</td>\n",
              "      <td>1</td>\n",
              "      <td>0</td>\n",
              "    </tr>\n",
              "    <tr>\n",
              "      <th>7181</th>\n",
              "      <td>/content/drive/MyDrive/고모부_머신러닝/dognc...</td>\n",
              "      <td>train</td>\n",
              "      <td>DOG</td>\n",
              "      <td>0</td>\n",
              "      <td>1</td>\n",
              "    </tr>\n",
              "    <tr>\n",
              "      <th>5046</th>\n",
              "      <td>/content/drive/MyDrive/고모부_머신러닝/dognc...</td>\n",
              "      <td>train</td>\n",
              "      <td>CAT</td>\n",
              "      <td>1</td>\n",
              "      <td>0</td>\n",
              "    </tr>\n",
              "    <tr>\n",
              "      <th>2377</th>\n",
              "      <td>/content/drive/MyDrive/고모부_머신러닝/dognc...</td>\n",
              "      <td>train</td>\n",
              "      <td>CAT</td>\n",
              "      <td>1</td>\n",
              "      <td>0</td>\n",
              "    </tr>\n",
              "    <tr>\n",
              "      <th>7852</th>\n",
              "      <td>/content/drive/MyDrive/고모부_머신러닝/dognc...</td>\n",
              "      <td>train</td>\n",
              "      <td>DOG</td>\n",
              "      <td>0</td>\n",
              "      <td>1</td>\n",
              "    </tr>\n",
              "    <tr>\n",
              "      <th>...</th>\n",
              "      <td>...</td>\n",
              "      <td>...</td>\n",
              "      <td>...</td>\n",
              "      <td>...</td>\n",
              "      <td>...</td>\n",
              "    </tr>\n",
              "    <tr>\n",
              "      <th>9465</th>\n",
              "      <td>/content/drive/MyDrive/고모부_머신러닝/dognc...</td>\n",
              "      <td>train</td>\n",
              "      <td>DOG</td>\n",
              "      <td>0</td>\n",
              "      <td>1</td>\n",
              "    </tr>\n",
              "    <tr>\n",
              "      <th>9804</th>\n",
              "      <td>/content/drive/MyDrive/고모부_머신러닝/dognc...</td>\n",
              "      <td>train</td>\n",
              "      <td>DOG</td>\n",
              "      <td>0</td>\n",
              "      <td>1</td>\n",
              "    </tr>\n",
              "    <tr>\n",
              "      <th>5387</th>\n",
              "      <td>/content/drive/MyDrive/고모부_머신러닝/dognc...</td>\n",
              "      <td>train</td>\n",
              "      <td>CAT</td>\n",
              "      <td>1</td>\n",
              "      <td>0</td>\n",
              "    </tr>\n",
              "    <tr>\n",
              "      <th>9658</th>\n",
              "      <td>/content/drive/MyDrive/고모부_머신러닝/dognc...</td>\n",
              "      <td>train</td>\n",
              "      <td>DOG</td>\n",
              "      <td>0</td>\n",
              "      <td>1</td>\n",
              "    </tr>\n",
              "    <tr>\n",
              "      <th>3846</th>\n",
              "      <td>/content/drive/MyDrive/고모부_머신러닝/dognc...</td>\n",
              "      <td>train</td>\n",
              "      <td>CAT</td>\n",
              "      <td>1</td>\n",
              "      <td>0</td>\n",
              "    </tr>\n",
              "  </tbody>\n",
              "</table>\n",
              "<p>6003 rows × 5 columns</p>\n",
              "</div>\n",
              "      <button class=\"colab-df-convert\" onclick=\"convertToInteractive('df-725874c4-c800-4f32-993a-66fd5622f855')\"\n",
              "              title=\"Convert this dataframe to an interactive table.\"\n",
              "              style=\"display:none;\">\n",
              "        \n",
              "  <svg xmlns=\"http://www.w3.org/2000/svg\" height=\"24px\"viewBox=\"0 0 24 24\"\n",
              "       width=\"24px\">\n",
              "    <path d=\"M0 0h24v24H0V0z\" fill=\"none\"/>\n",
              "    <path d=\"M18.56 5.44l.94 2.06.94-2.06 2.06-.94-2.06-.94-.94-2.06-.94 2.06-2.06.94zm-11 1L8.5 8.5l.94-2.06 2.06-.94-2.06-.94L8.5 2.5l-.94 2.06-2.06.94zm10 10l.94 2.06.94-2.06 2.06-.94-2.06-.94-.94-2.06-.94 2.06-2.06.94z\"/><path d=\"M17.41 7.96l-1.37-1.37c-.4-.4-.92-.59-1.43-.59-.52 0-1.04.2-1.43.59L10.3 9.45l-7.72 7.72c-.78.78-.78 2.05 0 2.83L4 21.41c.39.39.9.59 1.41.59.51 0 1.02-.2 1.41-.59l7.78-7.78 2.81-2.81c.8-.78.8-2.07 0-2.86zM5.41 20L4 18.59l7.72-7.72 1.47 1.35L5.41 20z\"/>\n",
              "  </svg>\n",
              "      </button>\n",
              "      \n",
              "  <style>\n",
              "    .colab-df-container {\n",
              "      display:flex;\n",
              "      flex-wrap:wrap;\n",
              "      gap: 12px;\n",
              "    }\n",
              "\n",
              "    .colab-df-convert {\n",
              "      background-color: #E8F0FE;\n",
              "      border: none;\n",
              "      border-radius: 50%;\n",
              "      cursor: pointer;\n",
              "      display: none;\n",
              "      fill: #1967D2;\n",
              "      height: 32px;\n",
              "      padding: 0 0 0 0;\n",
              "      width: 32px;\n",
              "    }\n",
              "\n",
              "    .colab-df-convert:hover {\n",
              "      background-color: #E2EBFA;\n",
              "      box-shadow: 0px 1px 2px rgba(60, 64, 67, 0.3), 0px 1px 3px 1px rgba(60, 64, 67, 0.15);\n",
              "      fill: #174EA6;\n",
              "    }\n",
              "\n",
              "    [theme=dark] .colab-df-convert {\n",
              "      background-color: #3B4455;\n",
              "      fill: #D2E3FC;\n",
              "    }\n",
              "\n",
              "    [theme=dark] .colab-df-convert:hover {\n",
              "      background-color: #434B5C;\n",
              "      box-shadow: 0px 1px 3px 1px rgba(0, 0, 0, 0.15);\n",
              "      filter: drop-shadow(0px 1px 2px rgba(0, 0, 0, 0.3));\n",
              "      fill: #FFFFFF;\n",
              "    }\n",
              "  </style>\n",
              "\n",
              "      <script>\n",
              "        const buttonEl =\n",
              "          document.querySelector('#df-725874c4-c800-4f32-993a-66fd5622f855 button.colab-df-convert');\n",
              "        buttonEl.style.display =\n",
              "          google.colab.kernel.accessAllowed ? 'block' : 'none';\n",
              "\n",
              "        async function convertToInteractive(key) {\n",
              "          const element = document.querySelector('#df-725874c4-c800-4f32-993a-66fd5622f855');\n",
              "          const dataTable =\n",
              "            await google.colab.kernel.invokeFunction('convertToInteractive',\n",
              "                                                     [key], {});\n",
              "          if (!dataTable) return;\n",
              "\n",
              "          const docLinkHtml = 'Like what you see? Visit the ' +\n",
              "            '<a target=\"_blank\" href=https://colab.research.google.com/notebooks/data_table.ipynb>data table notebook</a>'\n",
              "            + ' to learn more about interactive tables.';\n",
              "          element.innerHTML = '';\n",
              "          dataTable['output_type'] = 'display_data';\n",
              "          await google.colab.output.renderOutput(dataTable, element);\n",
              "          const docLink = document.createElement('div');\n",
              "          docLink.innerHTML = docLinkHtml;\n",
              "          element.appendChild(docLink);\n",
              "        }\n",
              "      </script>\n",
              "    </div>\n",
              "  </div>\n",
              "  "
            ]
          },
          "metadata": {},
          "execution_count": 10
        }
      ]
    },
    {
      "cell_type": "code",
      "source": [
        "train_label"
      ],
      "metadata": {
        "colab": {
          "base_uri": "https://localhost:8080/"
        },
        "id": "e8rD4ap2at3S",
        "outputId": "d5110906-d3f5-4dfe-e1af-553a408d0d29"
      },
      "execution_count": 11,
      "outputs": [
        {
          "output_type": "execute_result",
          "data": {
            "text/plain": [
              "array([[1, 0],\n",
              "       [0, 1],\n",
              "       [1, 0],\n",
              "       ...,\n",
              "       [1, 0],\n",
              "       [0, 1],\n",
              "       [1, 0]], dtype=uint8)"
            ]
          },
          "metadata": {},
          "execution_count": 11
        }
      ]
    },
    {
      "cell_type": "code",
      "source": [
        "print(len(train_df))\n",
        "print(len(valid_df))"
      ],
      "metadata": {
        "colab": {
          "base_uri": "https://localhost:8080/"
        },
        "id": "jDTPLZhCrxvL",
        "outputId": "e2f9fcb0-32eb-4df3-b79a-4fbb2dcc63b8"
      },
      "execution_count": 12,
      "outputs": [
        {
          "output_type": "stream",
          "name": "stdout",
          "text": [
            "6003\n",
            "2002\n"
          ]
        }
      ]
    },
    {
      "cell_type": "code",
      "source": [
        "\n",
        "# sample용 데이터\n",
        "\n",
        "sample_dog = train_df[train_df['label'] == 'DOG'].sample(30)\n",
        "sample_cat = train_df[train_df['label'] == 'CAT'].sample(30)\n",
        "\n",
        "sample_data = pd.concat([sample_dog, sample_cat])\n",
        "sample_tr, sample_val = train_test_split(sample_data, test_size=0.2)\n",
        "\n",
        "sample_tr_data = sample_tr['path'].values # array로 dataset class에 넘겨줘야 한다...\n",
        "sample_tr_label = sample_tr.iloc[:,3:].values\n",
        "# sample_tr_label = sample_tr['label'].replace(['CAT', 'DOG'], [0, 1]).values\n",
        "\n",
        "sample_val_data = sample_val['path'].values\n",
        "sample_val_label = sample_tr.iloc[:,3:].values\n",
        "# sample_val_label = sample_val['label'].replace(['CAT', 'DOG'], [0, 1]).values\n"
      ],
      "metadata": {
        "id": "GbzO3016sNUc"
      },
      "execution_count": 13,
      "outputs": []
    },
    {
      "cell_type": "code",
      "source": [
        "sample_data.head()"
      ],
      "metadata": {
        "colab": {
          "base_uri": "https://localhost:8080/",
          "height": 206
        },
        "id": "VSs3Dx85PeWp",
        "outputId": "aee99dc6-27d1-4bd0-d261-a7de33a0ca7a"
      },
      "execution_count": 14,
      "outputs": [
        {
          "output_type": "execute_result",
          "data": {
            "text/plain": [
              "                                                   path   type label  CAT  DOG\n",
              "6824  /content/drive/MyDrive/고모부_머신러닝/dognc...  train   DOG    0    1\n",
              "9083  /content/drive/MyDrive/고모부_머신러닝/dognc...  train   DOG    0    1\n",
              "6365  /content/drive/MyDrive/고모부_머신러닝/dognc...  train   DOG    0    1\n",
              "9734  /content/drive/MyDrive/고모부_머신러닝/dognc...  train   DOG    0    1\n",
              "9135  /content/drive/MyDrive/고모부_머신러닝/dognc...  train   DOG    0    1"
            ],
            "text/html": [
              "\n",
              "  <div id=\"df-2e364d8f-fb7f-4ede-b9c4-bc9194300933\">\n",
              "    <div class=\"colab-df-container\">\n",
              "      <div>\n",
              "<style scoped>\n",
              "    .dataframe tbody tr th:only-of-type {\n",
              "        vertical-align: middle;\n",
              "    }\n",
              "\n",
              "    .dataframe tbody tr th {\n",
              "        vertical-align: top;\n",
              "    }\n",
              "\n",
              "    .dataframe thead th {\n",
              "        text-align: right;\n",
              "    }\n",
              "</style>\n",
              "<table border=\"1\" class=\"dataframe\">\n",
              "  <thead>\n",
              "    <tr style=\"text-align: right;\">\n",
              "      <th></th>\n",
              "      <th>path</th>\n",
              "      <th>type</th>\n",
              "      <th>label</th>\n",
              "      <th>CAT</th>\n",
              "      <th>DOG</th>\n",
              "    </tr>\n",
              "  </thead>\n",
              "  <tbody>\n",
              "    <tr>\n",
              "      <th>6824</th>\n",
              "      <td>/content/drive/MyDrive/고모부_머신러닝/dognc...</td>\n",
              "      <td>train</td>\n",
              "      <td>DOG</td>\n",
              "      <td>0</td>\n",
              "      <td>1</td>\n",
              "    </tr>\n",
              "    <tr>\n",
              "      <th>9083</th>\n",
              "      <td>/content/drive/MyDrive/고모부_머신러닝/dognc...</td>\n",
              "      <td>train</td>\n",
              "      <td>DOG</td>\n",
              "      <td>0</td>\n",
              "      <td>1</td>\n",
              "    </tr>\n",
              "    <tr>\n",
              "      <th>6365</th>\n",
              "      <td>/content/drive/MyDrive/고모부_머신러닝/dognc...</td>\n",
              "      <td>train</td>\n",
              "      <td>DOG</td>\n",
              "      <td>0</td>\n",
              "      <td>1</td>\n",
              "    </tr>\n",
              "    <tr>\n",
              "      <th>9734</th>\n",
              "      <td>/content/drive/MyDrive/고모부_머신러닝/dognc...</td>\n",
              "      <td>train</td>\n",
              "      <td>DOG</td>\n",
              "      <td>0</td>\n",
              "      <td>1</td>\n",
              "    </tr>\n",
              "    <tr>\n",
              "      <th>9135</th>\n",
              "      <td>/content/drive/MyDrive/고모부_머신러닝/dognc...</td>\n",
              "      <td>train</td>\n",
              "      <td>DOG</td>\n",
              "      <td>0</td>\n",
              "      <td>1</td>\n",
              "    </tr>\n",
              "  </tbody>\n",
              "</table>\n",
              "</div>\n",
              "      <button class=\"colab-df-convert\" onclick=\"convertToInteractive('df-2e364d8f-fb7f-4ede-b9c4-bc9194300933')\"\n",
              "              title=\"Convert this dataframe to an interactive table.\"\n",
              "              style=\"display:none;\">\n",
              "        \n",
              "  <svg xmlns=\"http://www.w3.org/2000/svg\" height=\"24px\"viewBox=\"0 0 24 24\"\n",
              "       width=\"24px\">\n",
              "    <path d=\"M0 0h24v24H0V0z\" fill=\"none\"/>\n",
              "    <path d=\"M18.56 5.44l.94 2.06.94-2.06 2.06-.94-2.06-.94-.94-2.06-.94 2.06-2.06.94zm-11 1L8.5 8.5l.94-2.06 2.06-.94-2.06-.94L8.5 2.5l-.94 2.06-2.06.94zm10 10l.94 2.06.94-2.06 2.06-.94-2.06-.94-.94-2.06-.94 2.06-2.06.94z\"/><path d=\"M17.41 7.96l-1.37-1.37c-.4-.4-.92-.59-1.43-.59-.52 0-1.04.2-1.43.59L10.3 9.45l-7.72 7.72c-.78.78-.78 2.05 0 2.83L4 21.41c.39.39.9.59 1.41.59.51 0 1.02-.2 1.41-.59l7.78-7.78 2.81-2.81c.8-.78.8-2.07 0-2.86zM5.41 20L4 18.59l7.72-7.72 1.47 1.35L5.41 20z\"/>\n",
              "  </svg>\n",
              "      </button>\n",
              "      \n",
              "  <style>\n",
              "    .colab-df-container {\n",
              "      display:flex;\n",
              "      flex-wrap:wrap;\n",
              "      gap: 12px;\n",
              "    }\n",
              "\n",
              "    .colab-df-convert {\n",
              "      background-color: #E8F0FE;\n",
              "      border: none;\n",
              "      border-radius: 50%;\n",
              "      cursor: pointer;\n",
              "      display: none;\n",
              "      fill: #1967D2;\n",
              "      height: 32px;\n",
              "      padding: 0 0 0 0;\n",
              "      width: 32px;\n",
              "    }\n",
              "\n",
              "    .colab-df-convert:hover {\n",
              "      background-color: #E2EBFA;\n",
              "      box-shadow: 0px 1px 2px rgba(60, 64, 67, 0.3), 0px 1px 3px 1px rgba(60, 64, 67, 0.15);\n",
              "      fill: #174EA6;\n",
              "    }\n",
              "\n",
              "    [theme=dark] .colab-df-convert {\n",
              "      background-color: #3B4455;\n",
              "      fill: #D2E3FC;\n",
              "    }\n",
              "\n",
              "    [theme=dark] .colab-df-convert:hover {\n",
              "      background-color: #434B5C;\n",
              "      box-shadow: 0px 1px 3px 1px rgba(0, 0, 0, 0.15);\n",
              "      filter: drop-shadow(0px 1px 2px rgba(0, 0, 0, 0.3));\n",
              "      fill: #FFFFFF;\n",
              "    }\n",
              "  </style>\n",
              "\n",
              "      <script>\n",
              "        const buttonEl =\n",
              "          document.querySelector('#df-2e364d8f-fb7f-4ede-b9c4-bc9194300933 button.colab-df-convert');\n",
              "        buttonEl.style.display =\n",
              "          google.colab.kernel.accessAllowed ? 'block' : 'none';\n",
              "\n",
              "        async function convertToInteractive(key) {\n",
              "          const element = document.querySelector('#df-2e364d8f-fb7f-4ede-b9c4-bc9194300933');\n",
              "          const dataTable =\n",
              "            await google.colab.kernel.invokeFunction('convertToInteractive',\n",
              "                                                     [key], {});\n",
              "          if (!dataTable) return;\n",
              "\n",
              "          const docLinkHtml = 'Like what you see? Visit the ' +\n",
              "            '<a target=\"_blank\" href=https://colab.research.google.com/notebooks/data_table.ipynb>data table notebook</a>'\n",
              "            + ' to learn more about interactive tables.';\n",
              "          element.innerHTML = '';\n",
              "          dataTable['output_type'] = 'display_data';\n",
              "          await google.colab.output.renderOutput(dataTable, element);\n",
              "          const docLink = document.createElement('div');\n",
              "          docLink.innerHTML = docLinkHtml;\n",
              "          element.appendChild(docLink);\n",
              "        }\n",
              "      </script>\n",
              "    </div>\n",
              "  </div>\n",
              "  "
            ]
          },
          "metadata": {},
          "execution_count": 14
        }
      ]
    },
    {
      "cell_type": "code",
      "source": [
        "sample_tr_data"
      ],
      "metadata": {
        "colab": {
          "base_uri": "https://localhost:8080/"
        },
        "id": "vWNIZ18Mh2ug",
        "outputId": "b4ee9154-8445-44ce-a3cb-10fa541ce68e"
      },
      "execution_count": 15,
      "outputs": [
        {
          "output_type": "execute_result",
          "data": {
            "text/plain": [
              "array(['/content/drive/MyDrive/고모부_머신러닝/dogncat/training_set/training_set/cats/cat.2708.jpg',\n",
              "       '/content/drive/MyDrive/고모부_머신러닝/dogncat/training_set/training_set/dogs/dog.1285.jpg',\n",
              "       '/content/drive/MyDrive/고모부_머신러닝/dogncat/training_set/training_set/cats/cat.3295.jpg',\n",
              "       '/content/drive/MyDrive/고모부_머신러닝/dogncat/training_set/training_set/dogs/dog.1415.jpg',\n",
              "       '/content/drive/MyDrive/고모부_머신러닝/dogncat/training_set/training_set/dogs/dog.3918.jpg',\n",
              "       '/content/drive/MyDrive/고모부_머신러닝/dogncat/training_set/training_set/dogs/dog.3123.jpg',\n",
              "       '/content/drive/MyDrive/고모부_머신러닝/dogncat/training_set/training_set/cats/cat.296.jpg',\n",
              "       '/content/drive/MyDrive/고모부_머신러닝/dogncat/training_set/training_set/cats/cat.2118.jpg',\n",
              "       '/content/drive/MyDrive/고모부_머신러닝/dogncat/training_set/training_set/cats/cat.2401.jpg',\n",
              "       '/content/drive/MyDrive/고모부_머신러닝/dogncat/training_set/training_set/dogs/dog.80.jpg',\n",
              "       '/content/drive/MyDrive/고모부_머신러닝/dogncat/training_set/training_set/cats/cat.937.jpg',\n",
              "       '/content/drive/MyDrive/고모부_머신러닝/dogncat/training_set/training_set/dogs/dog.2590.jpg',\n",
              "       '/content/drive/MyDrive/고모부_머신러닝/dogncat/training_set/training_set/dogs/dog.3471.jpg',\n",
              "       '/content/drive/MyDrive/고모부_머신러닝/dogncat/training_set/training_set/dogs/dog.3734.jpg',\n",
              "       '/content/drive/MyDrive/고모부_머신러닝/dogncat/training_set/training_set/dogs/dog.1035.jpg',\n",
              "       '/content/drive/MyDrive/고모부_머신러닝/dogncat/training_set/training_set/dogs/dog.1109.jpg',\n",
              "       '/content/drive/MyDrive/고모부_머신러닝/dogncat/training_set/training_set/cats/cat.866.jpg',\n",
              "       '/content/drive/MyDrive/고모부_머신러닝/dogncat/training_set/training_set/dogs/dog.247.jpg',\n",
              "       '/content/drive/MyDrive/고모부_머신러닝/dogncat/training_set/training_set/cats/cat.483.jpg',\n",
              "       '/content/drive/MyDrive/고모부_머신러닝/dogncat/training_set/training_set/dogs/dog.102.jpg',\n",
              "       '/content/drive/MyDrive/고모부_머신러닝/dogncat/training_set/training_set/cats/cat.41.jpg',\n",
              "       '/content/drive/MyDrive/고모부_머신러닝/dogncat/training_set/training_set/dogs/dog.2005.jpg',\n",
              "       '/content/drive/MyDrive/고모부_머신러닝/dogncat/training_set/training_set/cats/cat.3396.jpg',\n",
              "       '/content/drive/MyDrive/고모부_머신러닝/dogncat/training_set/training_set/cats/cat.1683.jpg',\n",
              "       '/content/drive/MyDrive/고모부_머신러닝/dogncat/training_set/training_set/dogs/dog.165.jpg',\n",
              "       '/content/drive/MyDrive/고모부_머신러닝/dogncat/training_set/training_set/dogs/dog.446.jpg',\n",
              "       '/content/drive/MyDrive/고모부_머신러닝/dogncat/training_set/training_set/cats/cat.902.jpg',\n",
              "       '/content/drive/MyDrive/고모부_머신러닝/dogncat/training_set/training_set/cats/cat.2984.jpg',\n",
              "       '/content/drive/MyDrive/고모부_머신러닝/dogncat/training_set/training_set/cats/cat.3794.jpg',\n",
              "       '/content/drive/MyDrive/고모부_머신러닝/dogncat/training_set/training_set/cats/cat.2113.jpg',\n",
              "       '/content/drive/MyDrive/고모부_머신러닝/dogncat/training_set/training_set/cats/cat.1599.jpg',\n",
              "       '/content/drive/MyDrive/고모부_머신러닝/dogncat/training_set/training_set/cats/cat.3389.jpg',\n",
              "       '/content/drive/MyDrive/고모부_머신러닝/dogncat/training_set/training_set/dogs/dog.2361.jpg',\n",
              "       '/content/drive/MyDrive/고모부_머신러닝/dogncat/training_set/training_set/dogs/dog.1918.jpg',\n",
              "       '/content/drive/MyDrive/고모부_머신러닝/dogncat/training_set/training_set/cats/cat.140.jpg',\n",
              "       '/content/drive/MyDrive/고모부_머신러닝/dogncat/training_set/training_set/dogs/dog.1153.jpg',\n",
              "       '/content/drive/MyDrive/고모부_머신러닝/dogncat/training_set/training_set/dogs/dog.1127.jpg',\n",
              "       '/content/drive/MyDrive/고모부_머신러닝/dogncat/training_set/training_set/cats/cat.2408.jpg',\n",
              "       '/content/drive/MyDrive/고모부_머신러닝/dogncat/training_set/training_set/dogs/dog.327.jpg',\n",
              "       '/content/drive/MyDrive/고모부_머신러닝/dogncat/training_set/training_set/cats/cat.3660.jpg',\n",
              "       '/content/drive/MyDrive/고모부_머신러닝/dogncat/training_set/training_set/dogs/dog.3000.jpg',\n",
              "       '/content/drive/MyDrive/고모부_머신러닝/dogncat/training_set/training_set/dogs/dog.2461.jpg',\n",
              "       '/content/drive/MyDrive/고모부_머신러닝/dogncat/training_set/training_set/dogs/dog.3038.jpg',\n",
              "       '/content/drive/MyDrive/고모부_머신러닝/dogncat/training_set/training_set/cats/cat.3866.jpg',\n",
              "       '/content/drive/MyDrive/고모부_머신러닝/dogncat/training_set/training_set/cats/cat.2455.jpg',\n",
              "       '/content/drive/MyDrive/고모부_머신러닝/dogncat/training_set/training_set/dogs/dog.1728.jpg',\n",
              "       '/content/drive/MyDrive/고모부_머신러닝/dogncat/training_set/training_set/cats/cat.1511.jpg',\n",
              "       '/content/drive/MyDrive/고모부_머신러닝/dogncat/training_set/training_set/cats/cat.1850.jpg'],\n",
              "      dtype=object)"
            ]
          },
          "metadata": {},
          "execution_count": 15
        }
      ]
    },
    {
      "cell_type": "code",
      "source": [
        "print(len(sample_tr_data))\n",
        "print(len(sample_tr_label))"
      ],
      "metadata": {
        "colab": {
          "base_uri": "https://localhost:8080/"
        },
        "id": "jHvhvOSBumwp",
        "outputId": "74dfd244-f836-4d4d-e542-76019c573185"
      },
      "execution_count": 16,
      "outputs": [
        {
          "output_type": "stream",
          "name": "stdout",
          "text": [
            "48\n",
            "48\n"
          ]
        }
      ]
    },
    {
      "cell_type": "markdown",
      "source": [
        "### 커스텀 데이터 셋 만들기"
      ],
      "metadata": {
        "id": "ChOVST4KuQrN"
      }
    },
    {
      "cell_type": "code",
      "source": [
        "class MyDataset(Dataset):\n",
        "    def __init__(self, datapath, label=None):\n",
        "        super(MyDataset, self).__init__()\n",
        "\n",
        "        self.path = datapath\n",
        "        self.label = label\n",
        "\n",
        "    def __len__(self):\n",
        "        return len(self.path)\n",
        "\n",
        "    def __getitem__(self,idx):\n",
        "        img = cv2.imread(self.path[idx])\n",
        "        image = cv2.cvtColor(img, cv2.COLOR_BGR2RGB)\n",
        "        image = cv2.resize(image, (244,244))\n",
        "        image = np.asarray(image, dtype=np.float32).transpose(2,0,1)\n",
        "        normal_image = (image - np.amin(image)) / (np.amax(image) - np.amin(image))\n",
        "        \n",
        "        if self.label is not None:\n",
        "            label = self.label[idx]\n",
        "\n",
        "        return normal_image, label\n"
      ],
      "metadata": {
        "id": "Dndeku6RvEm3"
      },
      "execution_count": 17,
      "outputs": []
    },
    {
      "cell_type": "code",
      "source": [
        "train_dataset = MyDataset(train_data, train_label)\n",
        "valid_dataset = MyDataset(valid_data, valid_label)\n",
        "sample_dataset = MyDataset(sample_tr_data, sample_tr_label)"
      ],
      "metadata": {
        "id": "rttqBMAYyQOE"
      },
      "execution_count": 18,
      "outputs": []
    },
    {
      "cell_type": "code",
      "source": [
        "len(sample_dataset)"
      ],
      "metadata": {
        "colab": {
          "base_uri": "https://localhost:8080/"
        },
        "id": "K4wztlgwymzG",
        "outputId": "1f8e3725-e74f-4f15-b320-de01e2636865"
      },
      "execution_count": 19,
      "outputs": [
        {
          "output_type": "execute_result",
          "data": {
            "text/plain": [
              "48"
            ]
          },
          "metadata": {},
          "execution_count": 19
        }
      ]
    },
    {
      "cell_type": "markdown",
      "source": [
        "### 데이터로더 만들기"
      ],
      "metadata": {
        "id": "liL-OIS_yrz2"
      }
    },
    {
      "cell_type": "code",
      "source": [
        "train_loader = DataLoader(train_dataset, batch_size=8, shuffle=True)\n",
        "valid_loader = DataLoader(valid_dataset, batch_size=8, shuffle=False)\n",
        "sample_loader = DataLoader(sample_dataset, batch_size=4, shuffle=True)"
      ],
      "metadata": {
        "id": "zgeeAJ-HyyYS"
      },
      "execution_count": 20,
      "outputs": []
    },
    {
      "cell_type": "code",
      "source": [
        "len(sample_loader)"
      ],
      "metadata": {
        "colab": {
          "base_uri": "https://localhost:8080/"
        },
        "id": "r7FWf-SNGCiC",
        "outputId": "5b6094c3-2352-444f-e6cd-80ee346ef5fc"
      },
      "execution_count": 21,
      "outputs": [
        {
          "output_type": "execute_result",
          "data": {
            "text/plain": [
              "12"
            ]
          },
          "metadata": {},
          "execution_count": 21
        }
      ]
    },
    {
      "cell_type": "markdown",
      "source": [
        "### 모델 만들기"
      ],
      "metadata": {
        "id": "zR4SShLAzMzH"
      }
    },
    {
      "cell_type": "code",
      "source": [
        "class CNN(nn.Module):\n",
        "    def __init__(self):\n",
        "        super(CNN, self).__init__()\n",
        "        self.conv1 = nn.Conv2d(3, 5, kernel_size=3, padding='same')\n",
        "        self.relu = nn.ReLU()\n",
        "        self.fc1 = nn.Linear(5*244*244, 2)\n",
        "        self.softmax = nn.Softmax(dim=1)\n",
        "\n",
        "    def forward(self, x):\n",
        "        # print('input size :', x.shape)\n",
        "        # print('input max :', torch.amax(x, dim=(1,2,3)))\n",
        "        # print('input min :', torch.amin(x, dim=(1,2,3)))\n",
        "        # print('input l2norm :', torch.linalg.vector_norm(x, dim=(1,2,3)))\n",
        "\n",
        "        conv = self.conv1(x)\n",
        "        # print('conv size :', conv.shape)\n",
        "        # print('conv max :', torch.amax(conv, dim=(1,2,3)))\n",
        "        # print('conv min :', torch.amin(conv, dim=(1,2,3)))\n",
        "        # print('conv l2norm :', torch.linalg.vector_norm(conv, dim=(1,2,3)))\n",
        "\n",
        "        conv_out = self.relu(conv)\n",
        "        # print('conv_out size :', conv_out.shape)\n",
        "        # print('conv_out max :', torch.amax(conv_out, dim=(1,2,3)))\n",
        "        # print('conv_out min :', torch.amin(conv_out, dim=(1,2,3)))\n",
        "        # print('conv_out l2norm :', torch.linalg.vector_norm(conv_out, dim=(1,2,3)))\n",
        "\n",
        "        fc_input = conv_out.view(conv_out.size(0), -1)\n",
        "        # print('fc_input size :', fc_input.shape)\n",
        "        # print('fc_input max :', torch.amax(fc_input, dim=(1)))\n",
        "        # print('fc_input min :', torch.amin(fc_input, dim=(1)))\n",
        "        # print('fc_input l2norm :', torch.linalg.vector_norm(fc_input, dim=(1)))\n",
        "\n",
        "        fc_logit = self.fc1(fc_input)\n",
        "        # print('fc_logit size :', fc_logit.shape)\n",
        "        # print('fc_logit max :', torch.amax(fc_logit, dim=(1)))\n",
        "        # print('fc_logit min :', torch.amin(fc_logit, dim=(1)))\n",
        "        # print('fc_logit l2norm :', torch.linalg.vector_norm(fc_logit, dim=(1)))\n",
        "        # print()\n",
        "\n",
        "        return fc_logit"
      ],
      "metadata": {
        "id": "VSXfN1KDzWZM"
      },
      "execution_count": 22,
      "outputs": []
    },
    {
      "cell_type": "code",
      "source": [
        "model = CNN().to(device)\n",
        "model"
      ],
      "metadata": {
        "colab": {
          "base_uri": "https://localhost:8080/"
        },
        "id": "nd2Swq0pBQe7",
        "outputId": "8d83b0af-d65b-415c-d964-6e6b07f2eeba"
      },
      "execution_count": 23,
      "outputs": [
        {
          "output_type": "execute_result",
          "data": {
            "text/plain": [
              "CNN(\n",
              "  (conv1): Conv2d(3, 5, kernel_size=(3, 3), stride=(1, 1), padding=same)\n",
              "  (relu): ReLU()\n",
              "  (fc1): Linear(in_features=297680, out_features=2, bias=True)\n",
              "  (softmax): Softmax(dim=1)\n",
              ")"
            ]
          },
          "metadata": {},
          "execution_count": 23
        }
      ]
    },
    {
      "cell_type": "markdown",
      "source": [
        "### loss function"
      ],
      "metadata": {
        "id": "4pJtT1qOBTx5"
      }
    },
    {
      "cell_type": "code",
      "source": [
        "loss_fn = nn.KLDivLoss(reduction='batchmean').to(device)"
      ],
      "metadata": {
        "id": "ygVVDGjWBZG2"
      },
      "execution_count": 24,
      "outputs": []
    },
    {
      "cell_type": "markdown",
      "source": [
        "### optimizer, lr_scheduler"
      ],
      "metadata": {
        "id": "LeTelJ6oBfTt"
      }
    },
    {
      "cell_type": "code",
      "source": [
        "optimizer = SGD(model.parameters(), lr=0.001)\n",
        "scheduler = LinearLR(optimizer)"
      ],
      "metadata": {
        "id": "RRnlRjBxBf79"
      },
      "execution_count": 25,
      "outputs": []
    },
    {
      "cell_type": "markdown",
      "source": [
        "### Confusion matrix, Accuracy, recall, precision"
      ],
      "metadata": {
        "id": "XteaDB4KB-8d"
      }
    },
    {
      "cell_type": "code",
      "source": [
        "def calculate_conf_matrix(predicted, label, class_idx):\n",
        "    TP_num = 0\n",
        "    TN_num = 0\n",
        "    FP_num = 0\n",
        "    FN_num = 0\n",
        "    for i in range(len(predicted)):\n",
        "        if predicted[i] == class_idx and label[i] == class_idx:\n",
        "            TP_num += 1\n",
        "\n",
        "        elif predicted[i] == class_idx and label[i] != class_idx:\n",
        "            FP_num += 1\n",
        "            \n",
        "        elif predicted[i] != class_idx and label[i] == class_idx:\n",
        "            FN_num += 1\n",
        "\n",
        "        elif predicted[i] != class_idx and label[i] != class_idx:\n",
        "            TN_num += 1\n",
        "\n",
        "    return TP_num, TN_num, FP_num, FN_num\n",
        "\n",
        "def calculate_accuracy(conf_matrix_list):\n",
        "    try:\n",
        "        accuracy = (conf_matrix_list[0] + conf_matrix_list[1]) / (conf_matrix_list[0] + conf_matrix_list[1] + conf_matrix_list[2] + conf_matrix_list[3])\n",
        "    except ZeroDivisionError:\n",
        "        accuracy = 0\n",
        "    return accuracy\n",
        "\n",
        "def calculate_recall(conf_matrix_list):\n",
        "    try: \n",
        "        recall = conf_matrix_list[0] / (conf_matrix_list[0] + conf_matrix_list[3])\n",
        "    except ZeroDivisionError:\n",
        "        recall = 0\n",
        "    return recall\n",
        "\n",
        "def calculate_precision(conf_matrix_list):\n",
        "    try:\n",
        "        precision = conf_matrix_list[0] / (conf_matrix_list[0] + conf_matrix_list[2])\n",
        "    except ZeroDivisionError:\n",
        "        precision = 0\n",
        "    return precision\n",
        "\n",
        "def calculate_acc_rec_pre(conf_matrix_dict : dict):\n",
        "    for class_idx in conf_matrix_dict.keys():\n",
        "        accuracy = calculate_accuracy(conf_matrix_dict[class_idx])\n",
        "        recall = calculate_recall(conf_matrix_dict[class_idx])\n",
        "        precision = calculate_precision(conf_matrix_dict[class_idx])\n",
        "\n",
        "        print(f'class{class_idx} >>> accuracy : {accuracy}, recall : {recall}, precision : {precision}')\n",
        "\n",
        "    "
      ],
      "metadata": {
        "id": "mTSZU_8IDGRl"
      },
      "execution_count": 26,
      "outputs": []
    },
    {
      "cell_type": "code",
      "source": [
        "epoch = 2\n",
        "running_loss = 0.\n",
        "running_vloss = 0.\n",
        "class_num = 2\n",
        "accuracy = 0.\n",
        "recall = 0.\n",
        "precision = 0.\n",
        "\n",
        "for i in range(epoch):\n",
        "    print()\n",
        "    print(f'========= Epoch{i+1} =========')\n",
        "    print()\n",
        "    # train\n",
        "    model.train()\n",
        "    for batch_idx, data in enumerate(sample_loader):\n",
        "        image_data, label_data = data\n",
        "        image_data = image_data.to(device)\n",
        "        label_data = label_data.type(torch.float32).to(device)\n",
        "        \n",
        "        optimizer.zero_grad()\n",
        "        tr_output= model(image_data)\n",
        "        lsf = nn.LogSoftmax()\n",
        "        tr_output_lsfmax = lsf(tr_output)\n",
        "        print(tr_output_lsfmax)\n",
        "        loss = loss_fn(tr_output_lsfmax, label_data) # \n",
        "        print(f'batch{batch_idx+1} loss :', loss)\n",
        "        running_loss += loss.item()\n",
        "        loss.backward()\n",
        "        optimizer.step()\n",
        "\n",
        "        if batch_idx + 1 == len(sample_loader):\n",
        "            avg_loss = running_loss / len(sample_loader)\n",
        "            print('Loss/train :', avg_loss)\n",
        "            running_loss = 0.\n",
        "\n",
        "    scheduler.step()\n",
        "\n",
        "    print()\n",
        "\n",
        "    # #evaluate\n",
        "    # model.eval()\n",
        "    # TP_TN_FP_FN = {}\n",
        "    # for batch_idx, val_data in enumerate(sample_loader): # training data로 우선 evaluation해보기\n",
        "    #     valid_image, valid_label = val_data\n",
        "    #     valid_image = valid_image.to(device)\n",
        "    #     valid_label = valid_label.to(device)\n",
        "    #     val_output = model(valid_image)\n",
        "    #     val_output_idx = torch.argmax(val_output, dim=1)\n",
        "    #     print(f'predicted : {val_output_idx}, actual : {valid_label}')\n",
        "\n",
        "    #     for i, class_idx in enumerate(range(class_num)):\n",
        "    #             TP, TN, FP, FN = calculate_conf_matrix(val_output_idx, valid_label, class_idx)\n",
        "    #             if batch_idx == 0:\n",
        "    #                 TP_TN_FP_FN[class_idx] = np.array([TP, TN, FP, FN])\n",
        "    #             else:\n",
        "    #                 TP_TN_FP_FN[class_idx] += np.array([TP, TN, FP, FN])\n",
        "\n",
        "    #     print(f'TP_TN_FP_FN : {TP_TN_FP_FN}')\n",
        "\n",
        "    #     vloss = loss_fn(val_output, valid_label)\n",
        "    #     running_vloss += vloss.item()\n",
        "        \n",
        "    #     if batch_idx + 1 == len(sample_loader):\n",
        "    #         avg_vloss = running_vloss / len(sample_loader)\n",
        "    #         calculate_acc_rec_pre(TP_TN_FP_FN)\n",
        "    #         print('Loss/valid :', avg_vloss)\n",
        "    #         # print('Accuracy :', accuracy_score(valid_label.cpu().detach().numpy(), val_output_idx.cpu().detach().numpy()))\n",
        "    #         # print('Recall :', recall_score(valid_label.cpu().detach().numpy(), val_output_idx.cpu().detach().numpy()))\n",
        "    #         # print('Precision :', precision_score(valid_label.cpu().detach().numpy(), val_output_idx.cpu().detach().numpy()))\n",
        "    #         running_vloss = 0.\n"
      ],
      "metadata": {
        "colab": {
          "base_uri": "https://localhost:8080/"
        },
        "id": "y3W_OrbWDJCl",
        "outputId": "b12470d3-8289-4dfd-e661-f87e6db3ab4a"
      },
      "execution_count": 28,
      "outputs": [
        {
          "output_type": "stream",
          "name": "stdout",
          "text": [
            "\n",
            "========= Epoch1 =========\n",
            "\n"
          ]
        },
        {
          "output_type": "stream",
          "name": "stderr",
          "text": [
            "/usr/local/lib/python3.7/dist-packages/ipykernel_launcher.py:23: UserWarning: Implicit dimension choice for log_softmax has been deprecated. Change the call to include dim=X as an argument.\n"
          ]
        },
        {
          "output_type": "stream",
          "name": "stdout",
          "text": [
            "tensor([[-0.6352, -0.7546],\n",
            "        [-0.6282, -0.7626],\n",
            "        [-0.6326, -0.7576],\n",
            "        [-0.6579, -0.7297]], device='cuda:0', grad_fn=<LogSoftmaxBackward0>)\n",
            "batch1 loss : tensor(0.7033, device='cuda:0', grad_fn=<DivBackward0>)\n",
            "tensor([[-0.6919, -0.6944],\n",
            "        [-0.7146, -0.6721],\n",
            "        [-0.7102, -0.6764],\n",
            "        [-0.7159, -0.6709]], device='cuda:0', grad_fn=<LogSoftmaxBackward0>)\n",
            "batch2 loss : tensor(0.7088, device='cuda:0', grad_fn=<DivBackward0>)\n",
            "tensor([[-0.1356, -2.0653],\n",
            "        [-0.1340, -2.0762],\n",
            "        [-0.2293, -1.5852],\n",
            "        [-0.1595, -1.9143]], device='cuda:0', grad_fn=<LogSoftmaxBackward0>)\n",
            "batch3 loss : tensor(1.0857, device='cuda:0', grad_fn=<DivBackward0>)\n",
            "tensor([[-1.3764, -0.2910],\n",
            "        [-1.3799, -0.2898],\n",
            "        [-1.3227, -0.3098],\n",
            "        [-1.5800, -0.2306]], device='cuda:0', grad_fn=<LogSoftmaxBackward0>)\n",
            "batch4 loss : tensor(1.1434, device='cuda:0', grad_fn=<DivBackward0>)\n",
            "tensor([[-0.1961, -1.7257],\n",
            "        [-0.0763, -2.6108],\n",
            "        [-0.0510, -3.0004],\n",
            "        [-0.1064, -2.2933]], device='cuda:0', grad_fn=<LogSoftmaxBackward0>)\n",
            "batch5 loss : tensor(1.8608, device='cuda:0', grad_fn=<DivBackward0>)\n",
            "tensor([[-3.2247, -0.0406],\n",
            "        [-2.3873, -0.0964],\n",
            "        [-3.4285, -0.0330],\n",
            "        [-2.8257, -0.0611]], device='cuda:0', grad_fn=<LogSoftmaxBackward0>)\n",
            "batch6 loss : tensor(1.4265, device='cuda:0', grad_fn=<DivBackward0>)\n",
            "tensor([[-0.7104, -0.6762],\n",
            "        [-0.6887, -0.6976],\n",
            "        [-0.7118, -0.6749],\n",
            "        [-0.6575, -0.7302]], device='cuda:0', grad_fn=<LogSoftmaxBackward0>)\n",
            "batch7 loss : tensor(0.7039, device='cuda:0', grad_fn=<DivBackward0>)\n",
            "tensor([[-1.8673, -0.1679],\n",
            "        [-2.3556, -0.0996],\n",
            "        [-1.7820, -0.1843],\n",
            "        [-1.8483, -0.1714]], device='cuda:0', grad_fn=<LogSoftmaxBackward0>)\n",
            "batch8 loss : tensor(0.5750, device='cuda:0', grad_fn=<DivBackward0>)\n",
            "tensor([[-1.5399, -0.2413],\n",
            "        [-1.5666, -0.2341],\n",
            "        [-1.5708, -0.2330],\n",
            "        [-1.6237, -0.2196]], device='cuda:0', grad_fn=<LogSoftmaxBackward0>)\n",
            "batch9 loss : tensor(0.5831, device='cuda:0', grad_fn=<DivBackward0>)\n",
            "tensor([[-1.3555, -0.2982],\n",
            "        [-1.2517, -0.3369],\n",
            "        [-1.2026, -0.3573],\n",
            "        [-1.1895, -0.3630]], device='cuda:0', grad_fn=<LogSoftmaxBackward0>)\n",
            "batch10 loss : tensor(0.9855, device='cuda:0', grad_fn=<DivBackward0>)\n",
            "tensor([[-0.0931, -2.4202],\n",
            "        [-0.1129, -2.2368],\n",
            "        [-0.0976, -2.3755],\n",
            "        [-0.1406, -2.0316]], device='cuda:0', grad_fn=<LogSoftmaxBackward0>)\n",
            "batch11 loss : tensor(0.5838, device='cuda:0', grad_fn=<DivBackward0>)\n",
            "tensor([[-0.2967, -1.3597],\n",
            "        [-0.2858, -1.3918],\n",
            "        [-0.3219, -1.2901],\n",
            "        [-0.3062, -1.3326]], device='cuda:0', grad_fn=<LogSoftmaxBackward0>)\n",
            "batch12 loss : tensor(0.8013, device='cuda:0', grad_fn=<DivBackward0>)\n",
            "Loss/train : 0.9300975253184637\n",
            "\n",
            "\n",
            "========= Epoch2 =========\n",
            "\n",
            "tensor([[-1.1025, -0.4035],\n",
            "        [-0.7232, -0.6639],\n",
            "        [-0.7412, -0.6473],\n",
            "        [-0.8943, -0.5258]], device='cuda:0', grad_fn=<LogSoftmaxBackward0>)\n",
            "batch1 loss : tensor(0.5984, device='cuda:0', grad_fn=<DivBackward0>)\n",
            "tensor([[-0.5939, -0.8033],\n",
            "        [-0.5442, -0.8682],\n",
            "        [-0.4437, -1.0263],\n",
            "        [-0.4174, -1.0751]], device='cuda:0', grad_fn=<LogSoftmaxBackward0>)\n",
            "batch2 loss : tensor(0.6642, device='cuda:0', grad_fn=<DivBackward0>)\n",
            "tensor([[-0.3149, -1.3088],\n",
            "        [-0.2051, -1.6849],\n",
            "        [-0.2190, -1.6261],\n",
            "        [-0.1838, -1.7846]], device='cuda:0', grad_fn=<LogSoftmaxBackward0>)\n",
            "batch3 loss : tensor(1.2009, device='cuda:0', grad_fn=<DivBackward0>)\n",
            "tensor([[-3.5436, -0.0293],\n",
            "        [-3.7247, -0.0244],\n",
            "        [-3.3658, -0.0351],\n",
            "        [-2.9288, -0.0549]], device='cuda:0', grad_fn=<LogSoftmaxBackward0>)\n",
            "batch4 loss : tensor(3.3907, device='cuda:0', grad_fn=<DivBackward0>)\n",
            "tensor([[-0.0247, -3.7143],\n",
            "        [-0.0084, -4.7819],\n",
            "        [-0.0290, -3.5539],\n",
            "        [-0.0261, -3.6593]], device='cuda:0', grad_fn=<LogSoftmaxBackward0>)\n",
            "batch5 loss : tensor(1.8116, device='cuda:0', grad_fn=<DivBackward0>)\n",
            "tensor([[-0.3176, -1.3016],\n",
            "        [-0.4410, -1.0312],\n",
            "        [-0.4786, -0.9666],\n",
            "        [-0.5394, -0.8749]], device='cuda:0', grad_fn=<LogSoftmaxBackward0>)\n",
            "batch6 loss : tensor(0.5917, device='cuda:0', grad_fn=<DivBackward0>)\n",
            "tensor([[-0.2508, -1.5059],\n",
            "        [-0.2676, -1.4491],\n",
            "        [-0.1968, -1.7222],\n",
            "        [-0.2914, -1.3753]], device='cuda:0', grad_fn=<LogSoftmaxBackward0>)\n",
            "batch7 loss : tensor(0.8364, device='cuda:0', grad_fn=<DivBackward0>)\n",
            "tensor([[-1.0623, -0.4241],\n",
            "        [-1.4083, -0.2805],\n",
            "        [-1.3457, -0.3016],\n",
            "        [-1.3353, -0.3053]], device='cuda:0', grad_fn=<LogSoftmaxBackward0>)\n",
            "batch8 loss : tensor(0.7449, device='cuda:0', grad_fn=<DivBackward0>)\n",
            "tensor([[-0.4665, -0.9866],\n",
            "        [-0.5124, -0.9140],\n",
            "        [-0.5953, -0.8016],\n",
            "        [-0.4813, -0.9623]], device='cuda:0', grad_fn=<LogSoftmaxBackward0>)\n",
            "batch9 loss : tensor(0.8157, device='cuda:0', grad_fn=<DivBackward0>)\n",
            "tensor([[-2.1356, -0.1258],\n",
            "        [-2.3697, -0.0982],\n",
            "        [-2.6156, -0.0759],\n",
            "        [-2.3423, -0.1010]], device='cuda:0', grad_fn=<LogSoftmaxBackward0>)\n",
            "batch10 loss : tensor(1.8633, device='cuda:0', grad_fn=<DivBackward0>)\n",
            "tensor([[-0.1140, -2.2276],\n",
            "        [-0.1178, -2.1970],\n",
            "        [-0.1527, -1.9548],\n",
            "        [-0.0966, -2.3850]], device='cuda:0', grad_fn=<LogSoftmaxBackward0>)\n",
            "batch11 loss : tensor(2.1911, device='cuda:0', grad_fn=<DivBackward0>)\n",
            "tensor([[-3.9400, -0.0196],\n",
            "        [-3.7328, -0.0242],\n",
            "        [-2.7541, -0.0658],\n",
            "        [-3.7891, -0.0229]], device='cuda:0', grad_fn=<LogSoftmaxBackward0>)\n",
            "batch12 loss : tensor(0.9603, device='cuda:0', grad_fn=<DivBackward0>)\n",
            "Loss/train : 1.3057706356048584\n",
            "\n"
          ]
        }
      ]
    },
    {
      "cell_type": "code",
      "source": [
        "input = torch.tensor([[0,1], [1,0], [1,0], [1,0]])\n",
        "input"
      ],
      "metadata": {
        "id": "UqjZ-ZerF2aA"
      },
      "execution_count": null,
      "outputs": []
    },
    {
      "cell_type": "code",
      "source": [
        "input.shape"
      ],
      "metadata": {
        "id": "2NiWE8YOm7Xa"
      },
      "execution_count": null,
      "outputs": []
    },
    {
      "cell_type": "code",
      "source": [
        ""
      ],
      "metadata": {
        "id": "uyrCXFIonW0M"
      },
      "execution_count": null,
      "outputs": []
    }
  ]
}